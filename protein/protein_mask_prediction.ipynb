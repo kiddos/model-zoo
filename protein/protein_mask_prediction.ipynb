{
 "cells": [
  {
   "cell_type": "code",
   "execution_count": 1,
   "id": "f2552910-c2e1-4877-89d1-e96dd4407540",
   "metadata": {},
   "outputs": [
    {
     "name": "stderr",
     "output_type": "stream",
     "text": [
      "2023-02-07 01:01:28.441114: I tensorflow/core/platform/cpu_feature_guard.cc:193] This TensorFlow binary is optimized with oneAPI Deep Neural Network Library (oneDNN) to use the following CPU instructions in performance-critical operations:  SSE3 SSE4.1 SSE4.2 AVX AVX2 FMA\n",
      "To enable them in other operations, rebuild TensorFlow with the appropriate compiler flags.\n"
     ]
    },
    {
     "data": {
      "application/json": {
       "ascii": false,
       "bar_format": null,
       "colour": null,
       "elapsed": 0.01710033416748047,
       "initial": 0,
       "n": 0,
       "ncols": null,
       "nrows": 24,
       "postfix": null,
       "prefix": "Downloading",
       "rate": null,
       "total": 361,
       "unit": "B",
       "unit_divisor": 1000,
       "unit_scale": true
      },
      "application/vnd.jupyter.widget-view+json": {
       "model_id": "1af542ec6604422091dd5fe937be182b",
       "version_major": 2,
       "version_minor": 0
      },
      "text/plain": [
       "Downloading:   0%|          | 0.00/361 [00:00<?, ?B/s]"
      ]
     },
     "metadata": {},
     "output_type": "display_data"
    },
    {
     "data": {
      "application/json": {
       "ascii": false,
       "bar_format": null,
       "colour": null,
       "elapsed": 0.013361454010009766,
       "initial": 0,
       "n": 0,
       "ncols": null,
       "nrows": 24,
       "postfix": null,
       "prefix": "Downloading",
       "rate": null,
       "total": 1684058277,
       "unit": "B",
       "unit_divisor": 1000,
       "unit_scale": true
      },
      "application/vnd.jupyter.widget-view+json": {
       "model_id": "a88a97f6e74f46c595bee4b47b9f8666",
       "version_major": 2,
       "version_minor": 0
      },
      "text/plain": [
       "Downloading:   0%|          | 0.00/1.68G [00:00<?, ?B/s]"
      ]
     },
     "metadata": {},
     "output_type": "display_data"
    },
    {
     "name": "stderr",
     "output_type": "stream",
     "text": [
      "Some weights of the model checkpoint at Rostlab/prot_bert were not used when initializing BertForMaskedLM: ['cls.seq_relationship.bias', 'cls.seq_relationship.weight']\n",
      "- This IS expected if you are initializing BertForMaskedLM from the checkpoint of a model trained on another task or with another architecture (e.g. initializing a BertForSequenceClassification model from a BertForPreTraining model).\n",
      "- This IS NOT expected if you are initializing BertForMaskedLM from the checkpoint of a model that you expect to be exactly identical (initializing a BertForSequenceClassification model from a BertForSequenceClassification model).\n"
     ]
    },
    {
     "data": {
      "application/json": {
       "ascii": false,
       "bar_format": null,
       "colour": null,
       "elapsed": 0.019594430923461914,
       "initial": 0,
       "n": 0,
       "ncols": null,
       "nrows": 24,
       "postfix": null,
       "prefix": "Downloading",
       "rate": null,
       "total": 86,
       "unit": "B",
       "unit_divisor": 1000,
       "unit_scale": true
      },
      "application/vnd.jupyter.widget-view+json": {
       "model_id": "2dab04c2bbd64ca3977fc0b4f2f29899",
       "version_major": 2,
       "version_minor": 0
      },
      "text/plain": [
       "Downloading:   0%|          | 0.00/86.0 [00:00<?, ?B/s]"
      ]
     },
     "metadata": {},
     "output_type": "display_data"
    },
    {
     "data": {
      "application/json": {
       "ascii": false,
       "bar_format": null,
       "colour": null,
       "elapsed": 0.012640953063964844,
       "initial": 0,
       "n": 0,
       "ncols": null,
       "nrows": 24,
       "postfix": null,
       "prefix": "Downloading",
       "rate": null,
       "total": 81,
       "unit": "B",
       "unit_divisor": 1000,
       "unit_scale": true
      },
      "application/vnd.jupyter.widget-view+json": {
       "model_id": "591a62a04f144c3fb6d7985bccf45ec3",
       "version_major": 2,
       "version_minor": 0
      },
      "text/plain": [
       "Downloading:   0%|          | 0.00/81.0 [00:00<?, ?B/s]"
      ]
     },
     "metadata": {},
     "output_type": "display_data"
    },
    {
     "data": {
      "application/json": {
       "ascii": false,
       "bar_format": null,
       "colour": null,
       "elapsed": 0.04518914222717285,
       "initial": 0,
       "n": 0,
       "ncols": null,
       "nrows": 24,
       "postfix": null,
       "prefix": "Downloading",
       "rate": null,
       "total": 112,
       "unit": "B",
       "unit_divisor": 1000,
       "unit_scale": true
      },
      "application/vnd.jupyter.widget-view+json": {
       "model_id": "564fe22e26a34471833cd32e8963e859",
       "version_major": 2,
       "version_minor": 0
      },
      "text/plain": [
       "Downloading:   0%|          | 0.00/112 [00:00<?, ?B/s]"
      ]
     },
     "metadata": {},
     "output_type": "display_data"
    }
   ],
   "source": [
    "from transformers import pipeline\n",
    "\n",
    "unmasker = pipeline('fill-mask', model='Rostlab/prot_bert')"
   ]
  },
  {
   "cell_type": "code",
   "execution_count": 14,
   "id": "f978e2b8-cfc8-48fb-862f-7e91ee6b3b07",
   "metadata": {},
   "outputs": [
    {
     "data": {
      "text/plain": [
       "[{'score': 0.11088395118713379,\n",
       "  'token': 5,\n",
       "  'token_str': 'L',\n",
       "  'sequence': 'D L I P T S S K L V V L D T S L Q V K K A F F A L V T'},\n",
       " {'score': 0.08402556926012039,\n",
       "  'token': 10,\n",
       "  'token_str': 'S',\n",
       "  'sequence': 'D L I P T S S K L V V S D T S L Q V K K A F F A L V T'},\n",
       " {'score': 0.07328330725431442,\n",
       "  'token': 8,\n",
       "  'token_str': 'V',\n",
       "  'sequence': 'D L I P T S S K L V V V D T S L Q V K K A F F A L V T'},\n",
       " {'score': 0.06921827793121338,\n",
       "  'token': 12,\n",
       "  'token_str': 'K',\n",
       "  'sequence': 'D L I P T S S K L V V K D T S L Q V K K A F F A L V T'},\n",
       " {'score': 0.06382369250059128,\n",
       "  'token': 11,\n",
       "  'token_str': 'I',\n",
       "  'sequence': 'D L I P T S S K L V V I D T S L Q V K K A F F A L V T'}]"
      ]
     },
     "execution_count": 14,
     "metadata": {},
     "output_type": "execute_result"
    }
   ],
   "source": [
    "## example from web\n",
    "unmasker('D L I P T S S K L V V [MASK] D T S L Q V K K A F F A L V T')"
   ]
  },
  {
   "cell_type": "code",
   "execution_count": 13,
   "id": "427648c9-aa7d-4daf-859e-be61e228d66f",
   "metadata": {},
   "outputs": [
    {
     "name": "stdout",
     "output_type": "stream",
     "text": [
      "M M K T L S S G N C T L N V P A K N S Y R M V V L G A S R V G K S S I V S R F L N G R F E D Q Y T P T I E D F H R K V Y N I H G D M Y Q L D I L D T S G N H P F P A M R R L S I L T G D V F I L V F S L D S R E S F D E V K R L Q K Q I L E V K S C L K N K T K E A A [MASK] L P M V I C G N K N D H S E L C R Q V P A M E A E L L V S G D E N C A Y F E V S A K K N T N V N E M F Y V L F S M A K L P H E M S P A L H H K I S V Q Y G D A F H P R P F C M R R T K V A G A Y G M V S P F A R R P S V N S D L K Y I K A K V L R E G Q A R E R D K C S I Q\n",
      "E\n"
     ]
    },
    {
     "data": {
      "text/plain": [
       "[{'score': 0.5956246852874756,\n",
       "  'token': 9,\n",
       "  'token_str': 'E',\n",
       "  'sequence': 'M M K T L S S G N C T L N V P A K N S Y R M V V L G A S R V G K S S I V S R F L N G R F E D Q Y T P T I E D F H R K V Y N I H G D M Y Q L D I L D T S G N H P F P A M R R L S I L T G D V F I L V F S L D S R E S F D E V K R L Q K Q I L E V K S C L K N K T K E A A E L P M V I C G N K N D H S E L C R Q V P A M E A E L L V S G D E N C A Y F E V S A K K N T N V N E M F Y V L F S M A K L P H E M S P A L H H K I S V Q Y G D A F H P R P F C M R R T K V A G A Y G M V S P F A R R P S V N S D L K Y I K A K V L R E G Q A R E R D K C S I Q'},\n",
       " {'score': 0.2509240508079529,\n",
       "  'token': 14,\n",
       "  'token_str': 'D',\n",
       "  'sequence': 'M M K T L S S G N C T L N V P A K N S Y R M V V L G A S R V G K S S I V S R F L N G R F E D Q Y T P T I E D F H R K V Y N I H G D M Y Q L D I L D T S G N H P F P A M R R L S I L T G D V F I L V F S L D S R E S F D E V K R L Q K Q I L E V K S C L K N K T K E A A D L P M V I C G N K N D H S E L C R Q V P A M E A E L L V S G D E N C A Y F E V S A K K N T N V N E M F Y V L F S M A K L P H E M S P A L H H K I S V Q Y G D A F H P R P F C M R R T K V A G A Y G M V S P F A R R P S V N S D L K Y I K A K V L R E G Q A R E R D K C S I Q'},\n",
       " {'score': 0.054365016520023346,\n",
       "  'token': 18,\n",
       "  'token_str': 'Q',\n",
       "  'sequence': 'M M K T L S S G N C T L N V P A K N S Y R M V V L G A S R V G K S S I V S R F L N G R F E D Q Y T P T I E D F H R K V Y N I H G D M Y Q L D I L D T S G N H P F P A M R R L S I L T G D V F I L V F S L D S R E S F D E V K R L Q K Q I L E V K S C L K N K T K E A A Q L P M V I C G N K N D H S E L C R Q V P A M E A E L L V S G D E N C A Y F E V S A K K N T N V N E M F Y V L F S M A K L P H E M S P A L H H K I S V Q Y G D A F H P R P F C M R R T K V A G A Y G M V S P F A R R P S V N S D L K Y I K A K V L R E G Q A R E R D K C S I Q'},\n",
       " {'score': 0.04728074371814728,\n",
       "  'token': 17,\n",
       "  'token_str': 'N',\n",
       "  'sequence': 'M M K T L S S G N C T L N V P A K N S Y R M V V L G A S R V G K S S I V S R F L N G R F E D Q Y T P T I E D F H R K V Y N I H G D M Y Q L D I L D T S G N H P F P A M R R L S I L T G D V F I L V F S L D S R E S F D E V K R L Q K Q I L E V K S C L K N K T K E A A N L P M V I C G N K N D H S E L C R Q V P A M E A E L L V S G D E N C A Y F E V S A K K N T N V N E M F Y V L F S M A K L P H E M S P A L H H K I S V Q Y G D A F H P R P F C M R R T K V A G A Y G M V S P F A R R P S V N S D L K Y I K A K V L R E G Q A R E R D K C S I Q'},\n",
       " {'score': 0.011867647059261799,\n",
       "  'token': 12,\n",
       "  'token_str': 'K',\n",
       "  'sequence': 'M M K T L S S G N C T L N V P A K N S Y R M V V L G A S R V G K S S I V S R F L N G R F E D Q Y T P T I E D F H R K V Y N I H G D M Y Q L D I L D T S G N H P F P A M R R L S I L T G D V F I L V F S L D S R E S F D E V K R L Q K Q I L E V K S C L K N K T K E A A K L P M V I C G N K N D H S E L C R Q V P A M E A E L L V S G D E N C A Y F E V S A K K N T N V N E M F Y V L F S M A K L P H E M S P A L H H K I S V Q Y G D A F H P R P F C M R R T K V A G A Y G M V S P F A R R P S V N S D L K Y I K A K V L R E G Q A R E R D K C S I Q'}]"
      ]
     },
     "execution_count": 13,
     "metadata": {},
     "output_type": "execute_result"
    }
   ],
   "source": [
    "import numpy as np\n",
    "\n",
    "seq = 'MMKTLSSGNCTLNVPAKNSYRMVVLGASRVGKSSIVSRFLNGRFEDQYTPTIEDFHRKVYNIHGDMYQLDILDTSGNHPFPAMRRLSILTGDVFILVFSLDSRESFDEVKRLQKQILEVKSCLKNKTKEAAELPMVICGNKNDHSELCRQVPAMEAELLVSGDENCAYFEVSAKKNTNVNEMFYVLFSMAKLPHEMSPALHHKISVQYGDAFHPRPFCMRRTKVAGAYGMVSPFARRPSVNSDLKYIKAKVLREGQARERDKCSIQ'\n",
    "index = np.random.randint(0, len(seq))\n",
    "input_seq = ' '.join([ch if i != index else '[MASK]' for i, ch in enumerate(seq)])\n",
    "print(input_seq)\n",
    "print(seq[index])\n",
    "unmasker(input_seq)"
   ]
  },
  {
   "cell_type": "code",
   "execution_count": 15,
   "id": "8c0e2f1b-19a0-4015-af51-5650cd4e5a97",
   "metadata": {},
   "outputs": [
    {
     "name": "stdout",
     "output_type": "stream",
     "text": [
      "M A K R T F S N L E T F L I F L L V M M S A I T V A L L S L L F I T S G T I E N H K D L G G H F F S T T Q S P P A T Q G S T A A Q R S T A T Q H S T A T Q S S T A T Q T S P V P L T P E S P L F Q N F S G Y H I G V G R A D C T G Q V A D I N L M G Y G K S G Q N A Q G I L T R L Y S R A F I M A E P D G S N R T V F V S I D I G M V S Q R L R L E V L N R L Q S K Y G S L Y R R D N V I L S G T H T H S G P A G Y F Q Y T V F V I A S E G F S N Q T F Q H M V T G I L K S I D I A H T N M K P G K I F I N K G N V D G V Q I N R S P Y S Y L Q N P Q S E R A R Y S S N T D K E M I V L K M V D L N G D D L G L I S W F A I H P V S M N N S N H L V N S D N V G Y A S Y L L E Q E K N K G Y L P G Q G P F V A A F A S S N L G D V S P N I L G P R C I N T G E S C D N A N S T C P I G G P S M C I A K G P G Q D M F D S T Q I I G R A M Y Q R A K E L Y A S A S Q E V T G P L A S A H Q W V D M T D V T V W L N S T H A S K T C K P A L G Y S F A A G T I D G V G G L N F T Q G K T E G D P F W D T I R D Q I L G K [MASK] S E E I K E C H K P K P I L L H T G E L S K P H P W H P D I V D V Q I I T L G S L A I T A I P G E F T T M S G R R L R E A V Q A E F A S H G M Q N M T V V I S G L C N V Y T H Y I T T Y E E Y Q A Q R Y E A A S T I Y G P H T L S A Y I Q L F R N L A K A I A T D T V A N L S R G P E P P F F K Q L I V P L I P S I V D R A P K G R T F G D V L Q P A K P E Y R V G E V A E V I F V G A N P K N S V Q N Q T H Q T F L T V E K Y E A T S T S W Q I V C N D A S W E T R F Y W H K G L L G L S N A T V E W H I P D T A Q P G I Y R I R Y F G H N R K Q D I L K P A V I L S F E G T S P A F E V V T I\n",
      "P\n"
     ]
    },
    {
     "data": {
      "text/plain": [
       "[{'score': 0.96275794506073,\n",
       "  'token': 16,\n",
       "  'token_str': 'P',\n",
       "  'sequence': 'M A K R T F S N L E T F L I F L L V M M S A I T V A L L S L L F I T S G T I E N H K D L G G H F F S T T Q S P P A T Q G S T A A Q R S T A T Q H S T A T Q S S T A T Q T S P V P L T P E S P L F Q N F S G Y H I G V G R A D C T G Q V A D I N L M G Y G K S G Q N A Q G I L T R L Y S R A F I M A E P D G S N R T V F V S I D I G M V S Q R L R L E V L N R L Q S K Y G S L Y R R D N V I L S G T H T H S G P A G Y F Q Y T V F V I A S E G F S N Q T F Q H M V T G I L K S I D I A H T N M K P G K I F I N K G N V D G V Q I N R S P Y S Y L Q N P Q S E R A R Y S S N T D K E M I V L K M V D L N G D D L G L I S W F A I H P V S M N N S N H L V N S D N V G Y A S Y L L E Q E K N K G Y L P G Q G P F V A A F A S S N L G D V S P N I L G P R C I N T G E S C D N A N S T C P I G G P S M C I A K G P G Q D M F D S T Q I I G R A M Y Q R A K E L Y A S A S Q E V T G P L A S A H Q W V D M T D V T V W L N S T H A S K T C K P A L G Y S F A A G T I D G V G G L N F T Q G K T E G D P F W D T I R D Q I L G K P S E E I K E C H K P K P I L L H T G E L S K P H P W H P D I V D V Q I I T L G S L A I T A I P G E F T T M S G R R L R E A V Q A E F A S H G M Q N M T V V I S G L C N V Y T H Y I T T Y E E Y Q A Q R Y E A A S T I Y G P H T L S A Y I Q L F R N L A K A I A T D T V A N L S R G P E P P F F K Q L I V P L I P S I V D R A P K G R T F G D V L Q P A K P E Y R V G E V A E V I F V G A N P K N S V Q N Q T H Q T F L T V E K Y E A T S T S W Q I V C N D A S W E T R F Y W H K G L L G L S N A T V E W H I P D T A Q P G I Y R I R Y F G H N R K Q D I L K P A V I L S F E G T S P A F E V V T I'},\n",
       " {'score': 0.020703455433249474,\n",
       "  'token': 10,\n",
       "  'token_str': 'S',\n",
       "  'sequence': 'M A K R T F S N L E T F L I F L L V M M S A I T V A L L S L L F I T S G T I E N H K D L G G H F F S T T Q S P P A T Q G S T A A Q R S T A T Q H S T A T Q S S T A T Q T S P V P L T P E S P L F Q N F S G Y H I G V G R A D C T G Q V A D I N L M G Y G K S G Q N A Q G I L T R L Y S R A F I M A E P D G S N R T V F V S I D I G M V S Q R L R L E V L N R L Q S K Y G S L Y R R D N V I L S G T H T H S G P A G Y F Q Y T V F V I A S E G F S N Q T F Q H M V T G I L K S I D I A H T N M K P G K I F I N K G N V D G V Q I N R S P Y S Y L Q N P Q S E R A R Y S S N T D K E M I V L K M V D L N G D D L G L I S W F A I H P V S M N N S N H L V N S D N V G Y A S Y L L E Q E K N K G Y L P G Q G P F V A A F A S S N L G D V S P N I L G P R C I N T G E S C D N A N S T C P I G G P S M C I A K G P G Q D M F D S T Q I I G R A M Y Q R A K E L Y A S A S Q E V T G P L A S A H Q W V D M T D V T V W L N S T H A S K T C K P A L G Y S F A A G T I D G V G G L N F T Q G K T E G D P F W D T I R D Q I L G K S S E E I K E C H K P K P I L L H T G E L S K P H P W H P D I V D V Q I I T L G S L A I T A I P G E F T T M S G R R L R E A V Q A E F A S H G M Q N M T V V I S G L C N V Y T H Y I T T Y E E Y Q A Q R Y E A A S T I Y G P H T L S A Y I Q L F R N L A K A I A T D T V A N L S R G P E P P F F K Q L I V P L I P S I V D R A P K G R T F G D V L Q P A K P E Y R V G E V A E V I F V G A N P K N S V Q N Q T H Q T F L T V E K Y E A T S T S W Q I V C N D A S W E T R F Y W H K G L L G L S N A T V E W H I P D T A Q P G I Y R I R Y F G H N R K Q D I L K P A V I L S F E G T S P A F E V V T I'},\n",
       " {'score': 0.0031985186506062746,\n",
       "  'token': 5,\n",
       "  'token_str': 'L',\n",
       "  'sequence': 'M A K R T F S N L E T F L I F L L V M M S A I T V A L L S L L F I T S G T I E N H K D L G G H F F S T T Q S P P A T Q G S T A A Q R S T A T Q H S T A T Q S S T A T Q T S P V P L T P E S P L F Q N F S G Y H I G V G R A D C T G Q V A D I N L M G Y G K S G Q N A Q G I L T R L Y S R A F I M A E P D G S N R T V F V S I D I G M V S Q R L R L E V L N R L Q S K Y G S L Y R R D N V I L S G T H T H S G P A G Y F Q Y T V F V I A S E G F S N Q T F Q H M V T G I L K S I D I A H T N M K P G K I F I N K G N V D G V Q I N R S P Y S Y L Q N P Q S E R A R Y S S N T D K E M I V L K M V D L N G D D L G L I S W F A I H P V S M N N S N H L V N S D N V G Y A S Y L L E Q E K N K G Y L P G Q G P F V A A F A S S N L G D V S P N I L G P R C I N T G E S C D N A N S T C P I G G P S M C I A K G P G Q D M F D S T Q I I G R A M Y Q R A K E L Y A S A S Q E V T G P L A S A H Q W V D M T D V T V W L N S T H A S K T C K P A L G Y S F A A G T I D G V G G L N F T Q G K T E G D P F W D T I R D Q I L G K L S E E I K E C H K P K P I L L H T G E L S K P H P W H P D I V D V Q I I T L G S L A I T A I P G E F T T M S G R R L R E A V Q A E F A S H G M Q N M T V V I S G L C N V Y T H Y I T T Y E E Y Q A Q R Y E A A S T I Y G P H T L S A Y I Q L F R N L A K A I A T D T V A N L S R G P E P P F F K Q L I V P L I P S I V D R A P K G R T F G D V L Q P A K P E Y R V G E V A E V I F V G A N P K N S V Q N Q T H Q T F L T V E K Y E A T S T S W Q I V C N D A S W E T R F Y W H K G L L G L S N A T V E W H I P D T A Q P G I Y R I R Y F G H N R K Q D I L K P A V I L S F E G T S P A F E V V T I'},\n",
       " {'score': 0.002874542260542512,\n",
       "  'token': 18,\n",
       "  'token_str': 'Q',\n",
       "  'sequence': 'M A K R T F S N L E T F L I F L L V M M S A I T V A L L S L L F I T S G T I E N H K D L G G H F F S T T Q S P P A T Q G S T A A Q R S T A T Q H S T A T Q S S T A T Q T S P V P L T P E S P L F Q N F S G Y H I G V G R A D C T G Q V A D I N L M G Y G K S G Q N A Q G I L T R L Y S R A F I M A E P D G S N R T V F V S I D I G M V S Q R L R L E V L N R L Q S K Y G S L Y R R D N V I L S G T H T H S G P A G Y F Q Y T V F V I A S E G F S N Q T F Q H M V T G I L K S I D I A H T N M K P G K I F I N K G N V D G V Q I N R S P Y S Y L Q N P Q S E R A R Y S S N T D K E M I V L K M V D L N G D D L G L I S W F A I H P V S M N N S N H L V N S D N V G Y A S Y L L E Q E K N K G Y L P G Q G P F V A A F A S S N L G D V S P N I L G P R C I N T G E S C D N A N S T C P I G G P S M C I A K G P G Q D M F D S T Q I I G R A M Y Q R A K E L Y A S A S Q E V T G P L A S A H Q W V D M T D V T V W L N S T H A S K T C K P A L G Y S F A A G T I D G V G G L N F T Q G K T E G D P F W D T I R D Q I L G K Q S E E I K E C H K P K P I L L H T G E L S K P H P W H P D I V D V Q I I T L G S L A I T A I P G E F T T M S G R R L R E A V Q A E F A S H G M Q N M T V V I S G L C N V Y T H Y I T T Y E E Y Q A Q R Y E A A S T I Y G P H T L S A Y I Q L F R N L A K A I A T D T V A N L S R G P E P P F F K Q L I V P L I P S I V D R A P K G R T F G D V L Q P A K P E Y R V G E V A E V I F V G A N P K N S V Q N Q T H Q T F L T V E K Y E A T S T S W Q I V C N D A S W E T R F Y W H K G L L G L S N A T V E W H I P D T A Q P G I Y R I R Y F G H N R K Q D I L K P A V I L S F E G T S P A F E V V T I'},\n",
       " {'score': 0.002815641462802887,\n",
       "  'token': 6,\n",
       "  'token_str': 'A',\n",
       "  'sequence': 'M A K R T F S N L E T F L I F L L V M M S A I T V A L L S L L F I T S G T I E N H K D L G G H F F S T T Q S P P A T Q G S T A A Q R S T A T Q H S T A T Q S S T A T Q T S P V P L T P E S P L F Q N F S G Y H I G V G R A D C T G Q V A D I N L M G Y G K S G Q N A Q G I L T R L Y S R A F I M A E P D G S N R T V F V S I D I G M V S Q R L R L E V L N R L Q S K Y G S L Y R R D N V I L S G T H T H S G P A G Y F Q Y T V F V I A S E G F S N Q T F Q H M V T G I L K S I D I A H T N M K P G K I F I N K G N V D G V Q I N R S P Y S Y L Q N P Q S E R A R Y S S N T D K E M I V L K M V D L N G D D L G L I S W F A I H P V S M N N S N H L V N S D N V G Y A S Y L L E Q E K N K G Y L P G Q G P F V A A F A S S N L G D V S P N I L G P R C I N T G E S C D N A N S T C P I G G P S M C I A K G P G Q D M F D S T Q I I G R A M Y Q R A K E L Y A S A S Q E V T G P L A S A H Q W V D M T D V T V W L N S T H A S K T C K P A L G Y S F A A G T I D G V G G L N F T Q G K T E G D P F W D T I R D Q I L G K A S E E I K E C H K P K P I L L H T G E L S K P H P W H P D I V D V Q I I T L G S L A I T A I P G E F T T M S G R R L R E A V Q A E F A S H G M Q N M T V V I S G L C N V Y T H Y I T T Y E E Y Q A Q R Y E A A S T I Y G P H T L S A Y I Q L F R N L A K A I A T D T V A N L S R G P E P P F F K Q L I V P L I P S I V D R A P K G R T F G D V L Q P A K P E Y R V G E V A E V I F V G A N P K N S V Q N Q T H Q T F L T V E K Y E A T S T S W Q I V C N D A S W E T R F Y W H K G L L G L S N A T V E W H I P D T A Q P G I Y R I R Y F G H N R K Q D I L K P A V I L S F E G T S P A F E V V T I'}]"
      ]
     },
     "execution_count": 15,
     "metadata": {},
     "output_type": "execute_result"
    }
   ],
   "source": [
    "seq = 'MAKRTFSNLETFLIFLLVMMSAITVALLSLLFITSGTIENHKDLGGHFFSTTQSPPATQGSTAAQRSTATQHSTATQSSTATQTSPVPLTPESPLFQNFSGYHIGVGRADCTGQVADINLMGYGKSGQNAQGILTRLYSRAFIMAEPDGSNRTVFVSIDIGMVSQRLRLEVLNRLQSKYGSLYRRDNVILSGTHTHSGPAGYFQYTVFVIASEGFSNQTFQHMVTGILKSIDIAHTNMKPGKIFINKGNVDGVQINRSPYSYLQNPQSERARYSSNTDKEMIVLKMVDLNGDDLGLISWFAIHPVSMNNSNHLVNSDNVGYASYLLEQEKNKGYLPGQGPFVAAFASSNLGDVSPNILGPRCINTGESCDNANSTCPIGGPSMCIAKGPGQDMFDSTQIIGRAMYQRAKELYASASQEVTGPLASAHQWVDMTDVTVWLNSTHASKTCKPALGYSFAAGTIDGVGGLNFTQGKTEGDPFWDTIRDQILGKPSEEIKECHKPKPILLHTGELSKPHPWHPDIVDVQIITLGSLAITAIPGEFTTMSGRRLREAVQAEFASHGMQNMTVVISGLCNVYTHYITTYEEYQAQRYEAASTIYGPHTLSAYIQLFRNLAKAIATDTVANLSRGPEPPFFKQLIVPLIPSIVDRAPKGRTFGDVLQPAKPEYRVGEVAEVIFVGANPKNSVQNQTHQTFLTVEKYEATSTSWQIVCNDASWETRFYWHKGLLGLSNATVEWHIPDTAQPGIYRIRYFGHNRKQDILKPAVILSFEGTSPAFEVVTI'\n",
    "\n",
    "index = np.random.randint(0, len(seq))\n",
    "input_seq = ' '.join([ch if i != index else '[MASK]' for i, ch in enumerate(seq)])\n",
    "print(input_seq)\n",
    "print(seq[index])\n",
    "unmasker(input_seq)"
   ]
  },
  {
   "cell_type": "code",
   "execution_count": 10,
   "id": "710bc9a3-7a6b-4edc-aa06-4a23e55db2e8",
   "metadata": {},
   "outputs": [
    {
     "data": {
      "text/plain": [
       "[{'score': 0.11379247158765793,\n",
       "  'token': 9,\n",
       "  'token_str': 'E',\n",
       "  'sequence': 'M K N P S W I R K N W L L V A G V T F I G V H L G T Y F I Q R V A K E S V R S E A R G R Q K E I E E'},\n",
       " {'score': 0.1047806590795517,\n",
       "  'token': 12,\n",
       "  'token_str': 'K',\n",
       "  'sequence': 'M K N P S W I R K N W L L V A G V T F I G V H L G T Y F I Q R V A K E S V R S E A R G R Q K K I E E'},\n",
       " {'score': 0.07856540381908417,\n",
       "  'token': 13,\n",
       "  'token_str': 'R',\n",
       "  'sequence': 'M K N P S W I R K N W L L V A G V T F I G V H L G T Y F I Q R V A K E S V R S E A R G R Q K R I E E'},\n",
       " {'score': 0.07372649013996124,\n",
       "  'token': 6,\n",
       "  'token_str': 'A',\n",
       "  'sequence': 'M K N P S W I R K N W L L V A G V T F I G V H L G T Y F I Q R V A K E S V R S E A R G R Q K A I E E'},\n",
       " {'score': 0.07243563234806061,\n",
       "  'token': 5,\n",
       "  'token_str': 'L',\n",
       "  'sequence': 'M K N P S W I R K N W L L V A G V T F I G V H L G T Y F I Q R V A K E S V R S E A R G R Q K L I E E'}]"
      ]
     },
     "execution_count": 10,
     "metadata": {},
     "output_type": "execute_result"
    }
   ],
   "source": [
    "unmasker('M K N P S W I R K N W L L V A G V T F I G V H L G T Y F I Q R V A K E S V R S E A R G R Q K N I E E')"
   ]
  },
  {
   "cell_type": "code",
   "execution_count": null,
   "id": "cc4da7b1-225f-4f58-b3d9-8d6dda4f1300",
   "metadata": {},
   "outputs": [],
   "source": []
  }
 ],
 "metadata": {
  "kernelspec": {
   "display_name": "Python 3 (ipykernel)",
   "language": "python",
   "name": "python3"
  },
  "language_info": {
   "codemirror_mode": {
    "name": "ipython",
    "version": 3
   },
   "file_extension": ".py",
   "mimetype": "text/x-python",
   "name": "python",
   "nbconvert_exporter": "python",
   "pygments_lexer": "ipython3",
   "version": "3.8.10"
  }
 },
 "nbformat": 4,
 "nbformat_minor": 5
}
