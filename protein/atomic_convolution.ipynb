{
 "cells": [
  {
   "cell_type": "code",
   "execution_count": 1,
   "id": "5166ebba-e7b3-4b4d-bc32-5c15b5752b35",
   "metadata": {},
   "outputs": [
    {
     "name": "stderr",
     "output_type": "stream",
     "text": [
      "2023-02-21 23:31:11.113018: I tensorflow/core/platform/cpu_feature_guard.cc:193] This TensorFlow binary is optimized with oneAPI Deep Neural Network Library (oneDNN) to use the following CPU instructions in performance-critical operations:  SSE3 SSE4.1 SSE4.2 AVX AVX2 FMA\n",
      "To enable them in other operations, rebuild TensorFlow with the appropriate compiler flags.\n",
      "WARNING:deepchem.models.torch_models:Skipped loading modules with pytorch-geometric dependency, missing a dependency. No module named 'torch_geometric'\n",
      "WARNING:deepchem.models:Skipped loading modules with pytorch-geometric dependency, missing a dependency. cannot import name 'DMPNN' from 'deepchem.models.torch_models' (/home/kiddos/.local/lib/python3.8/site-packages/deepchem/models/torch_models/__init__.py)\n",
      "WARNING:deepchem.models:Skipped loading modules with pytorch-lightning dependency, missing a dependency. No module named 'pytorch_lightning'\n",
      "WARNING:deepchem.models:Skipped loading some Jax models, missing a dependency. No module named 'haiku'\n"
     ]
    },
    {
     "data": {
      "text/plain": [
       "'2.7.1'"
      ]
     },
     "execution_count": 1,
     "metadata": {},
     "output_type": "execute_result"
    }
   ],
   "source": [
    "import deepchem\n",
    "deepchem.__version__"
   ]
  },
  {
   "cell_type": "code",
   "execution_count": 2,
   "id": "b0221ace-d6e9-46e1-90b3-d072319d20ec",
   "metadata": {},
   "outputs": [],
   "source": [
    "import deepchem as dc\n",
    "import os\n",
    "\n",
    "import numpy as np\n",
    "import tensorflow as tf\n",
    "\n",
    "import matplotlib.pyplot as plt\n",
    "\n",
    "from rdkit import Chem\n",
    "\n",
    "from deepchem.molnet import load_pdbbind\n",
    "from deepchem.models import AtomicConvModel\n",
    "from deepchem.feat import AtomicConvFeaturizer"
   ]
  },
  {
   "cell_type": "code",
   "execution_count": 3,
   "id": "92e443a0-eee8-43d9-b8a6-07539dddbaee",
   "metadata": {},
   "outputs": [],
   "source": [
    "f1_num_atoms = 100  # maximum number of atoms to consider in the ligand\n",
    "f2_num_atoms = 1000  # maximum number of atoms to consider in the protein\n",
    "max_num_neighbors = 12  # maximum number of spatial neighbors for an atom\n",
    "\n",
    "acf = AtomicConvFeaturizer(frag1_num_atoms=f1_num_atoms,\n",
    "                      frag2_num_atoms=f2_num_atoms,\n",
    "                      complex_num_atoms=f1_num_atoms+f2_num_atoms,\n",
    "                      max_num_neighbors=max_num_neighbors,\n",
    "                      neighbor_cutoff=4)"
   ]
  },
  {
   "cell_type": "code",
   "execution_count": 4,
   "id": "5d863fde-6ca2-4dbd-9f54-16724e20eb7f",
   "metadata": {
    "scrolled": true,
    "tags": []
   },
   "outputs": [
    {
     "name": "stderr",
     "output_type": "stream",
     "text": [
      "WARNING:root:Warning: importing 'simtk.openmm' is deprecated.  Import 'openmm' instead.\n",
      "/home/kiddos/.local/lib/python3.8/site-packages/deepchem/feat/base_classes.py:213: VisibleDeprecationWarning: Creating an ndarray from ragged nested sequences (which is a list-or-tuple of lists-or-tuples-or ndarrays with different lengths or shapes) is deprecated. If you meant to do this, you must specify 'dtype=object' when creating the ndarray.\n",
      "  return np.asarray(features)\n"
     ]
    }
   ],
   "source": [
    "import os\n",
    "\n",
    "data_folder = os.path.join(os.getenv('HOME'), 'datasets')\n",
    "\n",
    "\n",
    "tasks, datasets, transformers = load_pdbbind(featurizer=acf,\n",
    "                                             save_dir=data_folder,\n",
    "                                             data_dir=data_folder,\n",
    "                                             pocket=True,\n",
    "                                             reload=False,\n",
    "                                             set_name='core')"
   ]
  },
  {
   "cell_type": "code",
   "execution_count": 5,
   "id": "cd97e9ff-f289-434b-b7ed-d48cf9aecf2f",
   "metadata": {},
   "outputs": [
    {
     "data": {
      "text/plain": [
       "(<DiskDataset X.shape: (154, 9), y.shape: (154,), w.shape: (154,), ids: ['2xnb' '3acw' '1w4o' ... '1loq' '2zxd' '3bfu'], task_names: [0]>,\n",
       " <DiskDataset X.shape: (19, 9), y.shape: (19,), w.shape: (19,), ids: ['3gbb' '3myg' '3ov1' ... '3imc' '1q8u' '2iwx'], task_names: [0]>,\n",
       " <DiskDataset X.shape: (20, 9), y.shape: (20,), w.shape: (20,), ids: ['2xbv' '2weg' '3f3c' ... '2wbg' '1igj' '2xys'], task_names: [0]>)"
      ]
     },
     "execution_count": 5,
     "metadata": {},
     "output_type": "execute_result"
    }
   ],
   "source": [
    "datasets"
   ]
  },
  {
   "cell_type": "code",
   "execution_count": 7,
   "id": "9656bd2c-f7c3-4d07-baea-8478d9369844",
   "metadata": {},
   "outputs": [
    {
     "name": "stderr",
     "output_type": "stream",
     "text": [
      "/tmp/ipykernel_2900456/2166065049.py:3: DeprecationWarning: elementwise comparison failed; this will raise an error in the future.\n",
      "  kept_rows = x != None\n",
      "/tmp/ipykernel_2900456/2166065049.py:3: DeprecationWarning: elementwise comparison failed; this will raise an error in the future.\n",
      "  kept_rows = x != None\n",
      "/tmp/ipykernel_2900456/2166065049.py:3: DeprecationWarning: elementwise comparison failed; this will raise an error in the future.\n",
      "  kept_rows = x != None\n"
     ]
    },
    {
     "data": {
      "text/plain": [
       "[<DiskDataset X.shape: (1, 154, 9), y.shape: (1, 154), w.shape: (1, 154), ids: ['2xnb' '3acw' '1w4o' ... '1loq' '2zxd' '3bfu'], task_names: [0]>,\n",
       " <DiskDataset X.shape: (1, 19, 9), y.shape: (1, 19), w.shape: (1, 19), ids: ['3gbb' '3myg' '3ov1' ... '3imc' '1q8u' '2iwx'], task_names: [0]>,\n",
       " <DiskDataset X.shape: (1, 20, 9), y.shape: (1, 20), w.shape: (1, 20), ids: ['2xbv' '2weg' '3f3c' ... '2wbg' '1igj' '2xys'], task_names: [0]>]"
      ]
     },
     "execution_count": 7,
     "metadata": {},
     "output_type": "execute_result"
    }
   ],
   "source": [
    "class MyTransformer(dc.trans.Transformer):\n",
    "    def transform_array(x, y, w, ids):\n",
    "        kept_rows = x != None\n",
    "        return x[kept_rows], y[kept_rows], w[kept_rows], ids[kept_rows],\n",
    "\n",
    "\n",
    "filtered_datasets = [d.transform(MyTransformer) for d in datasets]\n",
    "filtered_datasets"
   ]
  },
  {
   "cell_type": "code",
   "execution_count": 8,
   "id": "afb0247d-ff47-47e8-aa7d-de00b0580c97",
   "metadata": {},
   "outputs": [
    {
     "data": {
      "text/plain": [
       "(<DiskDataset X.shape: (154, 9), y.shape: (154,), w.shape: (154,), ids: ['2xnb' '3acw' '1w4o' ... '1loq' '2zxd' '3bfu'], task_names: [0]>,\n",
       " <DiskDataset X.shape: (19, 9), y.shape: (19,), w.shape: (19,), ids: ['3gbb' '3myg' '3ov1' ... '3imc' '1q8u' '2iwx'], task_names: [0]>,\n",
       " <DiskDataset X.shape: (20, 9), y.shape: (20,), w.shape: (20,), ids: ['2xbv' '2weg' '3f3c' ... '2wbg' '1igj' '2xys'], task_names: [0]>)"
      ]
     },
     "execution_count": 8,
     "metadata": {},
     "output_type": "execute_result"
    }
   ],
   "source": [
    "datasets"
   ]
  },
  {
   "cell_type": "code",
   "execution_count": 9,
   "id": "95930a46-9d4a-43a6-8cc3-fe6bfca57b50",
   "metadata": {},
   "outputs": [],
   "source": [
    "train, val, test = datasets"
   ]
  },
  {
   "cell_type": "code",
   "execution_count": 10,
   "id": "134449e7-210c-42e3-be4a-df791481d694",
   "metadata": {},
   "outputs": [
    {
     "name": "stderr",
     "output_type": "stream",
     "text": [
      "2023-02-21 23:33:31.627218: W tensorflow/core/common_runtime/gpu/gpu_bfc_allocator.cc:42] Overriding orig_value setting because the TF_FORCE_GPU_ALLOW_GROWTH environment variable is set. Original config value was 0.\n"
     ]
    }
   ],
   "source": [
    "acm = AtomicConvModel(n_tasks=1,\n",
    "                      frag1_num_atoms=f1_num_atoms,\n",
    "                      frag2_num_atoms=f2_num_atoms,\n",
    "                      complex_num_atoms=f1_num_atoms+f2_num_atoms,\n",
    "                      max_num_neighbors=max_num_neighbors,\n",
    "                      batch_size=12,\n",
    "                      layer_sizes=[32, 32, 16],\n",
    "                      learning_rate=0.003,\n",
    "                      )"
   ]
  },
  {
   "cell_type": "code",
   "execution_count": 11,
   "id": "89a16a50-26be-4a5f-bc2c-068adb49feec",
   "metadata": {},
   "outputs": [
    {
     "data": {
      "text/plain": [
       "0.38988189697265624"
      ]
     },
     "execution_count": 11,
     "metadata": {},
     "output_type": "execute_result"
    }
   ],
   "source": [
    "losses, val_losses = [], []\n",
    "\n",
    "max_epochs = 50\n",
    "\n",
    "metric = dc.metrics.Metric(dc.metrics.score_function.rms_score)\n",
    "step_cutoff = len(train)//12\n",
    "def val_cb(model, step):\n",
    "    if step%step_cutoff!=0:\n",
    "        return\n",
    "    val_losses.append(model.evaluate(val, metrics=[metric])['rms_score']**2)  # L2 Loss\n",
    "    losses.append(model.evaluate(train, metrics=[metric])['rms_score']**2)  # L2 Loss\n",
    "\n",
    "\n",
    "acm.fit(train, nb_epoch=max_epochs, max_checkpoints_to_keep=1, callbacks=[val_cb])"
   ]
  },
  {
   "cell_type": "code",
   "execution_count": 13,
   "id": "78bfe952-376b-4705-b9e8-65d0c1a2da9b",
   "metadata": {},
   "outputs": [
    {
     "data": {
      "text/plain": [
       "<matplotlib.legend.Legend at 0x7faba939b9d0>"
      ]
     },
     "execution_count": 13,
     "metadata": {},
     "output_type": "execute_result"
    },
    {
     "data": {
      "image/png": "[encoded data removed]",
      "text/plain": [
       "<Figure size 432x288 with 1 Axes>"
      ]
     },
     "metadata": {
      "needs_background": "light"
     },
     "output_type": "display_data"
    }
   ],
   "source": [
    "f, ax = plt.subplots()\n",
    "ax.scatter(range(len(losses)), losses, label='train loss')\n",
    "ax.scatter(range(len(val_losses)), val_losses, label='val loss')\n",
    "plt.legend(loc='upper right')"
   ]
  },
  {
   "cell_type": "code",
   "execution_count": 14,
   "id": "ae1a350b-b9d3-4d7d-a564-1e02c27b4516",
   "metadata": {},
   "outputs": [
    {
     "name": "stdout",
     "output_type": "stream",
     "text": [
      "train {'pearson_r2_score': 0.9361549541628259}\n",
      "val {'pearson_r2_score': 0.29411563263001034}\n",
      "test {'pearson_r2_score': 0.11119585663708585}\n"
     ]
    }
   ],
   "source": [
    "score = dc.metrics.Metric(dc.metrics.score_function.pearson_r2_score)\n",
    "for tvt, ds in zip(['train', 'val', 'test'], datasets):\n",
    "    print(tvt, acm.evaluate(ds, metrics=[score]))"
   ]
  },
  {
   "cell_type": "code",
   "execution_count": 15,
   "id": "6a34ead6-c1a0-44cf-a5a8-91a0a7f88151",
   "metadata": {},
   "outputs": [],
   "source": [
    "from deepchem.feat import RdkitGridFeaturizer"
   ]
  },
  {
   "cell_type": "code",
   "execution_count": 16,
   "id": "ad9582c1-6c07-4eed-b902-c5d8fef39627",
   "metadata": {},
   "outputs": [
    {
     "data": {
      "text/plain": [
       "(<DiskDataset X.shape: (154, 16, 16, 16, 8), y.shape: (154,), w.shape: (154,), ids: ['2zxd' '4des' '1n1m' ... '3pe2' '2cbj' '3mss'], task_names: [0]>,\n",
       " <DiskDataset X.shape: (19, 16, 16, 16, 8), y.shape: (19,), w.shape: (19,), ids: ['3cyx' '1u33' '2qmj' ... '2p4y' '3gy4' '3bkk'], task_names: [0]>,\n",
       " <DiskDataset X.shape: (20, 16, 16, 16, 8), y.shape: (20,), w.shape: (20,), ids: ['2cet' '4de2' '3dd0' ... '3pxf' '4djr' '2qbp'], task_names: [0]>)"
      ]
     },
     "execution_count": 16,
     "metadata": {},
     "output_type": "execute_result"
    }
   ],
   "source": [
    "featurizer = RdkitGridFeaturizer()\n",
    "\n",
    "tasks, datasets, transformers = load_pdbbind(featurizer=featurizer,\n",
    "                                             save_dir=data_folder,\n",
    "                                             data_dir=data_folder,\n",
    "                                             pocket=True,\n",
    "                                             reload=False,\n",
    "                                             set_name='core')\n",
    "\n",
    "datasets"
   ]
  },
  {
   "cell_type": "code",
   "execution_count": null,
   "id": "fe6a589e-f4af-4b4c-babe-df210a234752",
   "metadata": {},
   "outputs": [],
   "source": []
  }
 ],
 "metadata": {
  "kernelspec": {
   "display_name": "Python 3 (ipykernel)",
   "language": "python",
   "name": "python3"
  },
  "language_info": {
   "codemirror_mode": {
    "name": "ipython",
    "version": 3
   },
   "file_extension": ".py",
   "mimetype": "text/x-python",
   "name": "python",
   "nbconvert_exporter": "python",
   "pygments_lexer": "ipython3",
   "version": "3.8.10"
  }
 },
 "nbformat": 4,
 "nbformat_minor": 5
}
