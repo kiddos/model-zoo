{
 "cells": [
  {
   "cell_type": "code",
   "execution_count": 25,
   "id": "339b02c2-b072-4b59-902c-cbeed1847600",
   "metadata": {},
   "outputs": [],
   "source": [
    "from transformers import AutoTokenizer, AutoModelForSeq2SeqLM\n",
    "\n",
    "model_checkpoint = './codet5-small-finetuned-junit/checkpoint-185720'\n",
    "model_checkpoint = './codet5-base-finetuned-junit/checkpoint-297144'\n",
    "tokenizer = AutoTokenizer.from_pretrained(model_checkpoint)\n",
    "model = AutoModelForSeq2SeqLM.from_pretrained(model_checkpoint)"
   ]
  },
  {
   "cell_type": "code",
   "execution_count": 26,
   "id": "14a12478-f935-4005-9587-3743bcb7c092",
   "metadata": {},
   "outputs": [],
   "source": [
    "from datasets import Dataset\n",
    "import os\n",
    "\n",
    "save_root = os.path.join(os.getenv('HOME'), 'datasets', 'methods2test', 'preprocessed')\n",
    "\n",
    "eval_data_folder = os.path.join(save_root, 'eval')\n",
    "eval_dataset = Dataset.load_from_disk(eval_data_folder)"
   ]
  },
  {
   "cell_type": "code",
   "execution_count": 27,
   "id": "31195bc0-b5cc-44e5-9db9-8a5c84ceecb9",
   "metadata": {},
   "outputs": [
    {
     "data": {
      "text/plain": [
       "{'source': '@Override public CustomPrincipal build(AuthenticationContext authenticationContext) throws KafkaException{ try { CustomPrincipal customPrincipal; if (authenticationContext instanceof SaslAuthenticationContext) { SaslAuthenticationContext context = (SaslAuthenticationContext) authenticationContext; OAuthBearerTokenJwt token = (OAuthBearerTokenJwt) context.server() .getNegotiatedProperty(\"OAUTHBEARER.token\"); customPrincipal = new CustomPrincipal(\"User\", token.principalName()); customPrincipal.setOauthBearerTokenJwt(token); return customPrincipal; } else { throw new KafkaException(\"Failed to build CustomPrincipal. SaslAuthenticationContext is required.\"); } } catch (Exception ex) { throw new KafkaException(\"Failed to build CustomPrincipal due to: \", ex); } }',\n",
       " 'target': '@Test(expected = KafkaException.class) public void buildBadType() { CustomPrincipal customPrincipal = customPrincipalBuilder.build(sslAuthenticationContext); }'}"
      ]
     },
     "execution_count": 27,
     "metadata": {},
     "output_type": "execute_result"
    }
   ],
   "source": [
    "eval_dataset[0]"
   ]
  },
  {
   "cell_type": "code",
   "execution_count": 28,
   "id": "2d45adf0-d4b9-422f-bea9-63c86e380bdf",
   "metadata": {},
   "outputs": [],
   "source": [
    "from transformers import pipeline\n",
    "\n",
    "generator = pipeline('text2text-generation', model=model, tokenizer=tokenizer)"
   ]
  },
  {
   "cell_type": "code",
   "execution_count": 29,
   "id": "07b1d515-66b0-4d98-a8c4-40ba0ce633ab",
   "metadata": {},
   "outputs": [
    {
     "name": "stdout",
     "output_type": "stream",
     "text": [
      "@Override public <T> T evalSha(String scriptSha, ReturnType returnType, int numKeys, byte[]... keysAndArgs) { return helper.doInScope(RedisCommand.EVALSHA, () -> connection.evalSha(scriptSha, returnType, numKeys, keysAndArgs)); }\n",
      "\n",
      "@Test public void evalSha() { String scriptSha = \"1\"; String result = redisKey.evalSha(scriptSha, ReturnType.RETURN_VALUE, 1, \"key1\".getBytes()); assertEquals(\"1\", result); }\n",
      "@Test public void testEvalSha() throws Exception { String scriptSha = \"1\"; String result = redisService.evalSha(scriptSha, ReturnType.RETURN_VALUE, 1, \"foo\".getBytes()); assertEquals(\"foo\", result); }\n",
      "@Test public void testEvalSha() { String scriptSha = \"1\"; String returnType = ReturnType.STRING; int numKeys = 2; byte[] args = new byte[]{1, 2, 3}; when(helper.doInScope(eq(RedisCommand.EVALSHA), any())).thenReturn(1); String result = redisKey.evalSha(scriptSha, returnType); assertEquals(\"1\", result); }\n"
     ]
    }
   ],
   "source": [
    "import numpy as np\n",
    "\n",
    "args = {\n",
    "    'max_length': 1024,\n",
    "    'num_beams': 6,\n",
    "    'no_repeat_ngram_size': 2,\n",
    "    'num_return_sequences': 3, \n",
    "    'early_stopping': True,\n",
    "    'do_sample': True,\n",
    "    'top_k': 0,\n",
    "    # 'temperature': 0.6,\n",
    "}\n",
    "\n",
    "\n",
    "def generate_random_test():\n",
    "    index = np.random.randint(0, len(eval_dataset))\n",
    "    sample = eval_dataset[index]\n",
    "    source = sample['source']\n",
    "    print(source)\n",
    "    print()\n",
    "    test_cases = generator(source, **args)\n",
    "    for test_case in test_cases:\n",
    "        print(test_case['generated_text'])\n",
    "\n",
    "\n",
    "generate_random_test()"
   ]
  },
  {
   "cell_type": "code",
   "execution_count": 30,
   "id": "2ec2b172-0287-4fac-9e45-9bc302abdec6",
   "metadata": {},
   "outputs": [
    {
     "name": "stdout",
     "output_type": "stream",
     "text": [
      "public String convertToModelCell(TemplateDataColumn column, CellValue<?> cv) { DataType.DataTypes dataType = getDataType(column); if (OperatorsOracle.operatorRequiresList(column.getOperator())) { return (cv.getValue() == null ? null : cv.getValue().toString()); } switch (dataType) { case BOOLEAN: return convertBooleanValueToString(cv); case DATE: return convertDateValueToString(cv); case NUMERIC: return convertNumericValueToString(cv); case NUMERIC_BIGDECIMAL: return convertBigDecimalValueToString(cv); case NUMERIC_BIGINTEGER: return convertBigIntegerValueToString(cv); case NUMERIC_BYTE: return convertByteValueToString(cv); case NUMERIC_DOUBLE: return convertDoubleValueToString(cv); case NUMERIC_FLOAT: return convertFloatValueToString(cv); case NUMERIC_INTEGER: return convertIntegerValueToString(cv); case NUMERIC_LONG: return convertLongValueToString(cv); case NUMERIC_SHORT: return convertShortValueToString(cv); default: return convertStringValueToString(cv); } }\n",
      "\n",
      "@Test public void testConvertToModelCell() { CellValue<?> cv = new ValueFactory() .createValue(DataType.DataTypes.BOOLEAN, true) .withOperator(OperatorsOracle.OPERATOR_GREATER_THAN_OR_EQUAL).withValue(\"true\"); String modelCell = templateDataHandler.convertToDateCell(TEMPLATE_DATA_COLUMN, cv); String expected = \"true\"; assertThat(modelCell).isEqualTo(expected); }\n",
      "@Test public void testConvertToModelCell() { CellValue<?> cv = createNumericValue(DataType.DataTypes.NUMERIC, null); String model = new TemplateDataColumnConverter(templateDataColumns.get(0), DataType.BOOLEAN, cv); Assert.assertEquals(\"true\", model); }\n",
      "@Test public void testConvertToModelCell() { CellValue<?> cv = new ValueFactory() .createValue(DataType.DataTypes.BOOLEAN, false) .withOperator(Operator.GREATER_THAN_OR_EQUAL).withValue(\"false\") .build(); String modelCell = cellEngine.convertToDateCell(TEMPLATE_DATA_COLUMN, cv); String expected = \"false\"; assertThat(modelCell).isEqualTo(expected); }\n"
     ]
    }
   ],
   "source": [
    "generate_random_test()"
   ]
  },
  {
   "cell_type": "code",
   "execution_count": 31,
   "id": "58c210bd-9d88-4c2b-a2f3-22e99d2fcfbe",
   "metadata": {},
   "outputs": [
    {
     "name": "stdout",
     "output_type": "stream",
     "text": [
      "@GET @Produces({ MediaType.APPLICATION_JSON, MediaType.APPLICATION_XML }) public AppInfo get() { return getAppInfo(); }\n",
      "\n",
      "@Test public void testInfo() throws JSONException, Exception { WebResource r = resource(); ClientResponse response = r.path(\"ws\").target(\"v1\").request(\"info\").accept(MediaType.APPLICATION_JSON).get(ClientResponse.class); assertEquals(\"incorrect number of elements\", 1, response.getJerseyResponse().getElements().length); verifyAMInfo(response); }\n",
      "@Test public void testInfoXML() throws JSONException, Exception { WebResource r = resource(); ClientResponse response = r.path(\"ws\").path( \"/appinfo\") .accept(MediaType.APPLICATION_XML) .get(ClientResponse.class); assertEquals(\"incorrect number of elements\", ClientResponse.NO_CONTENT, response.getType()); String xmlString = \"\"; try { xml = mapper.readValue(xmlString, new TypeReference<List<AppInfo>>() {}); } catch (JSONException e) { e.printStackTrace(); } String jsonStr = jsonString.toString(); assertTrue(jsonStr.contains(\"error\"), String.format(\"%s is not a valid JSON object.\", xmlStr)); }\n",
      "@Test public void testInfo() throws JSONException, Exception { WebResource r = resource(); ClientResponse response = r.path(\"ws\").path( \"/info\").accept(MediaType.APPLICATION_JSON) .get(ClientResponse.class); assertEquals(\"incorrect number of elements\", 1, response.getEntity().getElements().length); verifyAMInfo(response); }\n"
     ]
    }
   ],
   "source": [
    "generate_random_test()"
   ]
  },
  {
   "cell_type": "code",
   "execution_count": 32,
   "id": "32867d1e-6cf2-457b-9b67-d4bbd6f86b70",
   "metadata": {},
   "outputs": [
    {
     "name": "stdout",
     "output_type": "stream",
     "text": [
      "@SuppressWarnings(\"unchecked\") @Override public T7 get7() { return ((T7) values[7]); }\n",
      "\n",
      "@Test public void testGet7() { Datum d = DatumFactory.createInt2((short) 5); assertEquals(7,d.get7()); }\n",
      "@Test public void testGet7() { Datum d = DatumFactory.createInt2((short) 5); assertEquals(7,d.get7()); }\n",
      "@Test public void testGet7() { Datum d = DatumFactory.createInt2((short) 5); assertEquals(7,d.get7()); }\n"
     ]
    }
   ],
   "source": [
    "generate_random_test()"
   ]
  },
  {
   "cell_type": "code",
   "execution_count": 33,
   "id": "87e5c3ac-1a23-4d1a-aab5-13813e6c9d62",
   "metadata": {},
   "outputs": [
    {
     "name": "stdout",
     "output_type": "stream",
     "text": [
      "public synchronized void addValueNow(final float value) { addValue(value, UTCTime.now()); }\n",
      "\n",
      "@Test public void testAddValueNow() { final float value = 0.0F; final long time = System.currentTimeMillis() - (1000 * 60 * 1000L); final Map<String, Float> map = new HashMap<>(); map.put(\"test\", value); assertTrue(map.isEmpty()); assertEquals(0, (float) (0.5f * value)); }\n",
      "@Test public void testAddValueNow() { final float value = 0.0f; final int expected = (int) Math.round(TimeUnit.NANOSECONDS.toMillis(value) * 1000); final long start = System.currentTimeMillis(); final Duration dur = Duration.ofSeconds(5); Assert.assertEquals(expected, dur.getCurrentValue(), 0); }\n",
      "@Test public void testAddValueNow() { final float value = 0.0F; final UTCTime now = mock(UTCTime.class); final int expectedSize = 10; when(now.getMillis()).thenReturn(expectedSize); for (int i = -1; i < 1000; ++i) { assertTrue(counter.containsValue(value)); assertEquals(1, counter.getValueNow().intValue()); } }\n"
     ]
    }
   ],
   "source": [
    "generate_random_test()"
   ]
  },
  {
   "cell_type": "code",
   "execution_count": null,
   "id": "0b89e2f6-ed66-4042-b24c-a61d89d4210a",
   "metadata": {},
   "outputs": [],
   "source": []
  }
 ],
 "metadata": {
  "kernelspec": {
   "display_name": "Python 3 (ipykernel)",
   "language": "python",
   "name": "python3"
  },
  "language_info": {
   "codemirror_mode": {
    "name": "ipython",
    "version": 3
   },
   "file_extension": ".py",
   "mimetype": "text/x-python",
   "name": "python",
   "nbconvert_exporter": "python",
   "pygments_lexer": "ipython3",
   "version": "3.8.10"
  }
 },
 "nbformat": 4,
 "nbformat_minor": 5
}
