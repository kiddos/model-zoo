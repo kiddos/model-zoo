{
 "cells": [
  {
   "cell_type": "code",
   "execution_count": 9,
   "id": "01f6533f-bea3-47de-a296-8d1d7f62a00a",
   "metadata": {},
   "outputs": [
    {
     "name": "stdout",
     "output_type": "stream",
     "text": [
      "train jsons 148570\n",
      "eval jsons 78534\n"
     ]
    }
   ],
   "source": [
    "import os\n",
    "from glob import glob\n",
    "\n",
    "root = os.path.join(os.getenv('HOME'), 'datasets', 'methods2test', 'corpus')\n",
    "train_jsons = glob(root + '/json/train/*/*.json')\n",
    "eval_jsons = glob(root + '/json/eval/*/*.json')\n",
    "\n",
    "print('train jsons', len(train_jsons))\n",
    "print('eval jsons', len(eval_jsons))"
   ]
  },
  {
   "cell_type": "code",
   "execution_count": 11,
   "id": "6f6071ec-514f-4056-8130-a99e412cb737",
   "metadata": {},
   "outputs": [
    {
     "data": {
      "text/plain": [
       "dict_keys(['target', 'src_fm', 'src_fm_fc', 'src_fm_fc_co', 'src_fm_fc_ms', 'src_fm_fc_ms_ff'])"
      ]
     },
     "execution_count": 11,
     "metadata": {},
     "output_type": "execute_result"
    }
   ],
   "source": [
    "import json\n",
    "\n",
    "with open(train_jsons[0], 'r') as f:\n",
    "    example = json.load(f)\n",
    "\n",
    "example.keys()"
   ]
  },
  {
   "cell_type": "code",
   "execution_count": 20,
   "id": "b926701b-2060-4606-93b5-b9bb6bf8600c",
   "metadata": {},
   "outputs": [
    {
     "name": "stdout",
     "output_type": "stream",
     "text": [
      "focal method:  public static String fullyQualifiedNameToDirName( final String fullyQualifiedName) { final String packageName = getPackageName(toValidName(fullyQualifiedName)); if (packageName == null) return \"/\"; return packageNameToDirName(packageName); }\n",
      "\n",
      "focal method + focal class name:  PathHelper { public static String fullyQualifiedNameToDirName( final String fullyQualifiedName) { final String packageName = getPackageName(toValidName(fullyQualifiedName)); if (packageName == null) return \"/\"; return packageNameToDirName(packageName); } }\n",
      "\n",
      "focal method + focal class name + constructor signatures:  PathHelper { public static String fullyQualifiedNameToDirName( final String fullyQualifiedName) { final String packageName = getPackageName(toValidName(fullyQualifiedName)); if (packageName == null) return \"/\"; return packageNameToDirName(packageName); } private  PathHelper(); }\n",
      "\n",
      "focal method + focal class name + constructor signatures + public method signatures: \n",
      " PathHelper { public static String fullyQualifiedNameToDirName( final String fullyQualifiedName) { final String packageName = getPackageName(toValidName(fullyQualifiedName)); if (packageName == null) return \"/\"; return packageNameToDirName(packageName); } private  PathHelper(); static boolean isValid(final String path); static boolean isRelative(final String path); static String getParent(final String path); static String getFileName(final String path); static String getExtension(final String path); static String removeExtension(final String path); static String replaceExtension(final String path, String extension); static String toAbsolute(String dirName, String path); static String fullyQualifiedNameToDirName(\n",
      "      final String fullyQualifiedName); static String packageNameToDirName(final String packageName); static String fullyQualifiedNameToAbsolute(\n",
      "      final String fullyQualifiedName, final String path); static String packageNameToAbsolute(final String packageName,\n",
      "      final String path); static String fullyQualifiedNameToPath(\n",
      "      final String fullyQualifiedName, final String extension); static String fullyQualifiedNameToPath(\n",
      "      final String fullyQualifiedName, final String suffix,\n",
      "      final String extension); }\n",
      "\n",
      "focal method + focal class name + constructor signatures + public method signatures + public fields: \n",
      " PathHelper { public static String fullyQualifiedNameToDirName( final String fullyQualifiedName) { final String packageName = getPackageName(toValidName(fullyQualifiedName)); if (packageName == null) return \"/\"; return packageNameToDirName(packageName); } private  PathHelper(); static boolean isValid(final String path); static boolean isRelative(final String path); static String getParent(final String path); static String getFileName(final String path); static String getExtension(final String path); static String removeExtension(final String path); static String replaceExtension(final String path, String extension); static String toAbsolute(String dirName, String path); static String fullyQualifiedNameToDirName(\n",
      "      final String fullyQualifiedName); static String packageNameToDirName(final String packageName); static String fullyQualifiedNameToAbsolute(\n",
      "      final String fullyQualifiedName, final String path); static String packageNameToAbsolute(final String packageName,\n",
      "      final String path); static String fullyQualifiedNameToPath(\n",
      "      final String fullyQualifiedName, final String extension); static String fullyQualifiedNameToPath(\n",
      "      final String fullyQualifiedName, final String suffix,\n",
      "      final String extension); static final String PATH_REGEXP; }\n",
      "\n",
      "target:  @Test(groups = {\"functional\"}) public void testFullyQualifiedNameToDirName() { assertEquals(\"/foo\", fullyQualifiedNameToDirName(\"foo.bar\")); assertEquals(\"/foo/toto\", fullyQualifiedNameToDirName(\"foo.toto.bar\")); assertEquals(\"/\", fullyQualifiedNameToDirName(\"bar\")); }\n"
     ]
    }
   ],
   "source": [
    "print('focal method: ', example['src_fm'])\n",
    "print()\n",
    "print('focal method + focal class name: ', example['src_fm_fc'])\n",
    "print()\n",
    "print('focal method + focal class name + constructor signatures: ', example['src_fm_fc_co'])\n",
    "print()\n",
    "print('focal method + focal class name + constructor signatures + public method signatures: \\n', example['src_fm_fc_ms'])\n",
    "print()\n",
    "print('focal method + focal class name + constructor signatures + public method signatures + public fields: \\n', example['src_fm_fc_ms_ff'])\n",
    "print()\n",
    "print('target: ', example['target'])"
   ]
  },
  {
   "cell_type": "code",
   "execution_count": 21,
   "id": "6a09b2f9-2acb-42f6-8c34-80594e80969c",
   "metadata": {},
   "outputs": [
    {
     "data": {
      "application/json": {
       "ascii": false,
       "bar_format": null,
       "colour": null,
       "elapsed": 0.010256528854370117,
       "initial": 0,
       "n": 0,
       "ncols": null,
       "nrows": 24,
       "postfix": null,
       "prefix": "",
       "rate": null,
       "total": 148570,
       "unit": "it",
       "unit_divisor": 1000,
       "unit_scale": false
      },
      "application/vnd.jupyter.widget-view+json": {
       "model_id": "b5875c85707c4c8f856588a1cc60a2e2",
       "version_major": 2,
       "version_minor": 0
      },
      "text/plain": [
       "  0%|          | 0/148570 [00:00<?, ?it/s]"
      ]
     },
     "metadata": {},
     "output_type": "display_data"
    }
   ],
   "source": [
    "from tqdm.auto import tqdm\n",
    "\n",
    "\n",
    "def load_jsons(jsons):\n",
    "    source = []\n",
    "    target = []\n",
    "    for p in tqdm(jsons):\n",
    "        with open(p, 'r') as f:\n",
    "            example = json.load(f)\n",
    "            source.append(example['src_fm'])\n",
    "            target.append(example['target'])\n",
    "    return source, target\n",
    "\n",
    "\n",
    "train_source, train_target = load_jsons(train_jsons)"
   ]
  },
  {
   "cell_type": "code",
   "execution_count": 22,
   "id": "2f67b3ab-5dcb-438e-b9a7-51af58167992",
   "metadata": {},
   "outputs": [
    {
     "data": {
      "application/json": {
       "ascii": false,
       "bar_format": null,
       "colour": null,
       "elapsed": 0.01720905303955078,
       "initial": 0,
       "n": 0,
       "ncols": null,
       "nrows": 24,
       "postfix": null,
       "prefix": "",
       "rate": null,
       "total": 78534,
       "unit": "it",
       "unit_divisor": 1000,
       "unit_scale": false
      },
      "application/vnd.jupyter.widget-view+json": {
       "model_id": "c83fab08bfbf43a5960cbec817d509a1",
       "version_major": 2,
       "version_minor": 0
      },
      "text/plain": [
       "  0%|          | 0/78534 [00:00<?, ?it/s]"
      ]
     },
     "metadata": {},
     "output_type": "display_data"
    }
   ],
   "source": [
    "eval_source, eval_target = load_jsons(eval_jsons)"
   ]
  },
  {
   "cell_type": "code",
   "execution_count": 23,
   "id": "a365dfe1-1d59-4e1c-b325-1a83c7fb7948",
   "metadata": {},
   "outputs": [],
   "source": [
    "from datasets import Dataset\n",
    "\n",
    "train_dataset = Dataset.from_dict({\n",
    "    'source': train_source,\n",
    "    'target': train_target\n",
    "})\n",
    "\n",
    "eval_dataset = Dataset.from_dict({\n",
    "    'source': eval_source,\n",
    "    'target': eval_target\n",
    "})"
   ]
  },
  {
   "cell_type": "code",
   "execution_count": 24,
   "id": "8340dedf-ae18-4a68-b6bf-cc26fb05ec84",
   "metadata": {},
   "outputs": [
    {
     "data": {
      "text/plain": [
       "Dataset({\n",
       "    features: ['source', 'target'],\n",
       "    num_rows: 148570\n",
       "})"
      ]
     },
     "execution_count": 24,
     "metadata": {},
     "output_type": "execute_result"
    }
   ],
   "source": [
    "train_dataset"
   ]
  },
  {
   "cell_type": "code",
   "execution_count": 25,
   "id": "a335da67-5921-4fb3-9bf4-5ca22377f899",
   "metadata": {},
   "outputs": [
    {
     "data": {
      "text/plain": [
       "Dataset({\n",
       "    features: ['source', 'target'],\n",
       "    num_rows: 78534\n",
       "})"
      ]
     },
     "execution_count": 25,
     "metadata": {},
     "output_type": "execute_result"
    }
   ],
   "source": [
    "eval_dataset"
   ]
  },
  {
   "cell_type": "code",
   "execution_count": 26,
   "id": "7c2d65f7-f0ee-4570-ba0c-f46c7c71d172",
   "metadata": {},
   "outputs": [
    {
     "data": {
      "application/json": {
       "ascii": false,
       "bar_format": null,
       "colour": null,
       "elapsed": 0.010532617568969727,
       "initial": 0,
       "n": 0,
       "ncols": null,
       "nrows": 24,
       "postfix": null,
       "prefix": "Saving the dataset (0/1 shards)",
       "rate": null,
       "total": 148570,
       "unit": " examples",
       "unit_divisor": 1000,
       "unit_scale": false
      },
      "application/vnd.jupyter.widget-view+json": {
       "model_id": "89dea763ed3b4b508b3944342a0d8c32",
       "version_major": 2,
       "version_minor": 0
      },
      "text/plain": [
       "Saving the dataset (0/1 shards):   0%|          | 0/148570 [00:00<?, ? examples/s]"
      ]
     },
     "metadata": {},
     "output_type": "display_data"
    },
    {
     "data": {
      "application/json": {
       "ascii": false,
       "bar_format": null,
       "colour": null,
       "elapsed": 0.010126113891601562,
       "initial": 0,
       "n": 0,
       "ncols": null,
       "nrows": 24,
       "postfix": null,
       "prefix": "Saving the dataset (0/1 shards)",
       "rate": null,
       "total": 78534,
       "unit": " examples",
       "unit_divisor": 1000,
       "unit_scale": false
      },
      "application/vnd.jupyter.widget-view+json": {
       "model_id": "959923f10856493dbf6712ec76c32c7e",
       "version_major": 2,
       "version_minor": 0
      },
      "text/plain": [
       "Saving the dataset (0/1 shards):   0%|          | 0/78534 [00:00<?, ? examples/s]"
      ]
     },
     "metadata": {},
     "output_type": "display_data"
    }
   ],
   "source": [
    "save_root = os.path.join(os.getenv('HOME'), 'datasets', 'methods2test', 'preprocessed')\n",
    "target = os.path.join(save_root, 'train')\n",
    "train_dataset.save_to_disk(target)\n",
    "target = os.path.join(save_root, 'eval')\n",
    "eval_dataset.save_to_disk(target)"
   ]
  },
  {
   "cell_type": "code",
   "execution_count": null,
   "id": "917fc8b8-abb7-4d1a-afc1-9fe41c051b87",
   "metadata": {},
   "outputs": [],
   "source": []
  }
 ],
 "metadata": {
  "kernelspec": {
   "display_name": "Python 3 (ipykernel)",
   "language": "python",
   "name": "python3"
  },
  "language_info": {
   "codemirror_mode": {
    "name": "ipython",
    "version": 3
   },
   "file_extension": ".py",
   "mimetype": "text/x-python",
   "name": "python",
   "nbconvert_exporter": "python",
   "pygments_lexer": "ipython3",
   "version": "3.8.10"
  }
 },
 "nbformat": 4,
 "nbformat_minor": 5
}
