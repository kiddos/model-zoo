{
 "cells": [
  {
   "cell_type": "code",
   "execution_count": 1,
   "id": "3db414f6-7d45-4e16-b0d8-3198ffdefa42",
   "metadata": {},
   "outputs": [
    {
     "name": "stdout",
     "output_type": "stream",
     "text": [
      "Files already downloaded and verified\n",
      "Files already downloaded and verified\n"
     ]
    }
   ],
   "source": [
    "import os\n",
    "from torchvision import datasets\n",
    "import torchvision.transforms as T\n",
    "from imgaug import augmenters as iaa\n",
    "import numpy as np\n",
    "\n",
    "root = os.path.join(os.getenv('TORCH_HOME'), 'cifar100')\n",
    "\n",
    "train_transformations = T.Compose([\n",
    "    np.asarray,\n",
    "    iaa.Sequential([\n",
    "        iaa.Fliplr(0.5),\n",
    "        iaa.CropAndPad(px=(-4, 4), pad_mode=\"reflect\"),\n",
    "    ]).augment_image,\n",
    "    np.copy,\n",
    "    T.ToTensor(),\n",
    "    T.Normalize(\n",
    "        mean=(0.5074, 0.4867, 0.4411),\n",
    "        std=(0.2011, 0.1987, 0.2025)\n",
    "    )\n",
    "])\n",
    "\n",
    "training_dataset = datasets.CIFAR100(\n",
    "    root=root,\n",
    "    train=True,\n",
    "    download=True,\n",
    "    transform=train_transformations,\n",
    ")\n",
    "\n",
    "test_transformations = T.Compose([\n",
    "    T.ToTensor(),\n",
    "    T.Normalize(\n",
    "        mean=(0.5074, 0.4867, 0.4411),\n",
    "        std=(0.2011, 0.1987, 0.2025)\n",
    "    )\n",
    "])\n",
    "\n",
    "test_dataset = datasets.CIFAR100(\n",
    "    root=root,\n",
    "    train=False,\n",
    "    download=True,\n",
    "    transform=test_transformations\n",
    ")"
   ]
  },
  {
   "cell_type": "code",
   "execution_count": 2,
   "id": "a38346fd-5b1b-4f3b-8930-81a1d3f35f17",
   "metadata": {},
   "outputs": [],
   "source": [
    "from torch.utils.data import DataLoader\n",
    "\n",
    "batch_size = 128\n",
    "num_workers = 8\n",
    "\n",
    "train_dataloader = DataLoader(training_dataset, batch_size=batch_size, shuffle=True, num_workers=num_workers)\n",
    "test_dataloader = DataLoader(test_dataset, batch_size=batch_size, shuffle=False, num_workers=num_workers)"
   ]
  },
  {
   "cell_type": "code",
   "execution_count": 3,
   "id": "8e81806d-079d-4c29-88ec-30d2fa7bdd62",
   "metadata": {},
   "outputs": [
    {
     "data": {
      "text/plain": [
       "torch.Size([128, 3, 32, 32])"
      ]
     },
     "execution_count": 3,
     "metadata": {},
     "output_type": "execute_result"
    }
   ],
   "source": [
    "device = 'cuda'\n",
    "\n",
    "for batch in train_dataloader:\n",
    "    break\n",
    "\n",
    "example_images, example_labels = batch\n",
    "\n",
    "example_images = example_images.to(device)\n",
    "example_labels = example_labels.to(device)\n",
    "example_images.shape"
   ]
  },
  {
   "cell_type": "code",
   "execution_count": 4,
   "id": "384c44ba-062e-4291-900f-f87d39b3a639",
   "metadata": {},
   "outputs": [
    {
     "name": "stderr",
     "output_type": "stream",
     "text": [
      "Clipping input data to the valid range for imshow with RGB data ([0..1] for floats or [0..255] for integers).\n"
     ]
    },
    {
     "data": {
      "image/png": "[encoded data removed]",
      "text/plain": [
       "<Figure size 432x288 with 1 Axes>"
      ]
     },
     "metadata": {
      "needs_background": "light"
     },
     "output_type": "display_data"
    }
   ],
   "source": [
    "import matplotlib.pyplot as plt\n",
    "import torch\n",
    "\n",
    "example_img = torch.permute(example_images[0].cpu(), (1, 2, 0))\n",
    "# img = images[0]\n",
    "plt.imshow(example_img)\n",
    "plt.show()"
   ]
  },
  {
   "cell_type": "code",
   "execution_count": 5,
   "id": "3ceb9508-830e-481b-87a3-fd4e727ba4a5",
   "metadata": {
    "scrolled": true,
    "tags": []
   },
   "outputs": [],
   "source": [
    "import torch.nn as nn\n",
    "from torchvision.models.resnet import resnet18, resnet50\n",
    "\n",
    "teacher_model = resnet50()\n",
    "student_model = resnet18()"
   ]
  },
  {
   "cell_type": "code",
   "execution_count": 6,
   "id": "baef0cdb-2402-408c-8123-3dc967094b89",
   "metadata": {
    "scrolled": true,
    "tags": []
   },
   "outputs": [
    {
     "name": "stdout",
     "output_type": "stream",
     "text": [
      "==========================================================================================\n",
      "Layer (type:depth-idx)                   Output Shape              Param #\n",
      "==========================================================================================\n",
      "ResNet                                   [1, 1000]                 --\n",
      "├─Conv2d: 1-1                            [1, 64, 16, 16]           9,408\n",
      "├─BatchNorm2d: 1-2                       [1, 64, 16, 16]           128\n",
      "├─ReLU: 1-3                              [1, 64, 16, 16]           --\n",
      "├─MaxPool2d: 1-4                         [1, 64, 8, 8]             --\n",
      "├─Sequential: 1-5                        [1, 256, 8, 8]            --\n",
      "│    └─Bottleneck: 2-1                   [1, 256, 8, 8]            --\n",
      "│    │    └─Conv2d: 3-1                  [1, 64, 8, 8]             4,096\n",
      "│    │    └─BatchNorm2d: 3-2             [1, 64, 8, 8]             128\n",
      "│    │    └─ReLU: 3-3                    [1, 64, 8, 8]             --\n",
      "│    │    └─Conv2d: 3-4                  [1, 64, 8, 8]             36,864\n",
      "│    │    └─BatchNorm2d: 3-5             [1, 64, 8, 8]             128\n",
      "│    │    └─ReLU: 3-6                    [1, 64, 8, 8]             --\n",
      "│    │    └─Conv2d: 3-7                  [1, 256, 8, 8]            16,384\n",
      "│    │    └─BatchNorm2d: 3-8             [1, 256, 8, 8]            512\n",
      "│    │    └─Sequential: 3-9              [1, 256, 8, 8]            16,896\n",
      "│    │    └─ReLU: 3-10                   [1, 256, 8, 8]            --\n",
      "│    └─Bottleneck: 2-2                   [1, 256, 8, 8]            --\n",
      "│    │    └─Conv2d: 3-11                 [1, 64, 8, 8]             16,384\n",
      "│    │    └─BatchNorm2d: 3-12            [1, 64, 8, 8]             128\n",
      "│    │    └─ReLU: 3-13                   [1, 64, 8, 8]             --\n",
      "│    │    └─Conv2d: 3-14                 [1, 64, 8, 8]             36,864\n",
      "│    │    └─BatchNorm2d: 3-15            [1, 64, 8, 8]             128\n",
      "│    │    └─ReLU: 3-16                   [1, 64, 8, 8]             --\n",
      "│    │    └─Conv2d: 3-17                 [1, 256, 8, 8]            16,384\n",
      "│    │    └─BatchNorm2d: 3-18            [1, 256, 8, 8]            512\n",
      "│    │    └─ReLU: 3-19                   [1, 256, 8, 8]            --\n",
      "│    └─Bottleneck: 2-3                   [1, 256, 8, 8]            --\n",
      "│    │    └─Conv2d: 3-20                 [1, 64, 8, 8]             16,384\n",
      "│    │    └─BatchNorm2d: 3-21            [1, 64, 8, 8]             128\n",
      "│    │    └─ReLU: 3-22                   [1, 64, 8, 8]             --\n",
      "│    │    └─Conv2d: 3-23                 [1, 64, 8, 8]             36,864\n",
      "│    │    └─BatchNorm2d: 3-24            [1, 64, 8, 8]             128\n",
      "│    │    └─ReLU: 3-25                   [1, 64, 8, 8]             --\n",
      "│    │    └─Conv2d: 3-26                 [1, 256, 8, 8]            16,384\n",
      "│    │    └─BatchNorm2d: 3-27            [1, 256, 8, 8]            512\n",
      "│    │    └─ReLU: 3-28                   [1, 256, 8, 8]            --\n",
      "├─Sequential: 1-6                        [1, 512, 4, 4]            --\n",
      "│    └─Bottleneck: 2-4                   [1, 512, 4, 4]            --\n",
      "│    │    └─Conv2d: 3-29                 [1, 128, 8, 8]            32,768\n",
      "│    │    └─BatchNorm2d: 3-30            [1, 128, 8, 8]            256\n",
      "│    │    └─ReLU: 3-31                   [1, 128, 8, 8]            --\n",
      "│    │    └─Conv2d: 3-32                 [1, 128, 4, 4]            147,456\n",
      "│    │    └─BatchNorm2d: 3-33            [1, 128, 4, 4]            256\n",
      "│    │    └─ReLU: 3-34                   [1, 128, 4, 4]            --\n",
      "│    │    └─Conv2d: 3-35                 [1, 512, 4, 4]            65,536\n",
      "│    │    └─BatchNorm2d: 3-36            [1, 512, 4, 4]            1,024\n",
      "│    │    └─Sequential: 3-37             [1, 512, 4, 4]            132,096\n",
      "│    │    └─ReLU: 3-38                   [1, 512, 4, 4]            --\n",
      "│    └─Bottleneck: 2-5                   [1, 512, 4, 4]            --\n",
      "│    │    └─Conv2d: 3-39                 [1, 128, 4, 4]            65,536\n",
      "│    │    └─BatchNorm2d: 3-40            [1, 128, 4, 4]            256\n",
      "│    │    └─ReLU: 3-41                   [1, 128, 4, 4]            --\n",
      "│    │    └─Conv2d: 3-42                 [1, 128, 4, 4]            147,456\n",
      "│    │    └─BatchNorm2d: 3-43            [1, 128, 4, 4]            256\n",
      "│    │    └─ReLU: 3-44                   [1, 128, 4, 4]            --\n",
      "│    │    └─Conv2d: 3-45                 [1, 512, 4, 4]            65,536\n",
      "│    │    └─BatchNorm2d: 3-46            [1, 512, 4, 4]            1,024\n",
      "│    │    └─ReLU: 3-47                   [1, 512, 4, 4]            --\n",
      "│    └─Bottleneck: 2-6                   [1, 512, 4, 4]            --\n",
      "│    │    └─Conv2d: 3-48                 [1, 128, 4, 4]            65,536\n",
      "│    │    └─BatchNorm2d: 3-49            [1, 128, 4, 4]            256\n",
      "│    │    └─ReLU: 3-50                   [1, 128, 4, 4]            --\n",
      "│    │    └─Conv2d: 3-51                 [1, 128, 4, 4]            147,456\n",
      "│    │    └─BatchNorm2d: 3-52            [1, 128, 4, 4]            256\n",
      "│    │    └─ReLU: 3-53                   [1, 128, 4, 4]            --\n",
      "│    │    └─Conv2d: 3-54                 [1, 512, 4, 4]            65,536\n",
      "│    │    └─BatchNorm2d: 3-55            [1, 512, 4, 4]            1,024\n",
      "│    │    └─ReLU: 3-56                   [1, 512, 4, 4]            --\n",
      "│    └─Bottleneck: 2-7                   [1, 512, 4, 4]            --\n",
      "│    │    └─Conv2d: 3-57                 [1, 128, 4, 4]            65,536\n",
      "│    │    └─BatchNorm2d: 3-58            [1, 128, 4, 4]            256\n",
      "│    │    └─ReLU: 3-59                   [1, 128, 4, 4]            --\n",
      "│    │    └─Conv2d: 3-60                 [1, 128, 4, 4]            147,456\n",
      "│    │    └─BatchNorm2d: 3-61            [1, 128, 4, 4]            256\n",
      "│    │    └─ReLU: 3-62                   [1, 128, 4, 4]            --\n",
      "│    │    └─Conv2d: 3-63                 [1, 512, 4, 4]            65,536\n",
      "│    │    └─BatchNorm2d: 3-64            [1, 512, 4, 4]            1,024\n",
      "│    │    └─ReLU: 3-65                   [1, 512, 4, 4]            --\n",
      "├─Sequential: 1-7                        [1, 1024, 2, 2]           --\n",
      "│    └─Bottleneck: 2-8                   [1, 1024, 2, 2]           --\n",
      "│    │    └─Conv2d: 3-66                 [1, 256, 4, 4]            131,072\n",
      "│    │    └─BatchNorm2d: 3-67            [1, 256, 4, 4]            512\n",
      "│    │    └─ReLU: 3-68                   [1, 256, 4, 4]            --\n",
      "│    │    └─Conv2d: 3-69                 [1, 256, 2, 2]            589,824\n",
      "│    │    └─BatchNorm2d: 3-70            [1, 256, 2, 2]            512\n",
      "│    │    └─ReLU: 3-71                   [1, 256, 2, 2]            --\n",
      "│    │    └─Conv2d: 3-72                 [1, 1024, 2, 2]           262,144\n",
      "│    │    └─BatchNorm2d: 3-73            [1, 1024, 2, 2]           2,048\n",
      "│    │    └─Sequential: 3-74             [1, 1024, 2, 2]           526,336\n",
      "│    │    └─ReLU: 3-75                   [1, 1024, 2, 2]           --\n",
      "│    └─Bottleneck: 2-9                   [1, 1024, 2, 2]           --\n",
      "│    │    └─Conv2d: 3-76                 [1, 256, 2, 2]            262,144\n",
      "│    │    └─BatchNorm2d: 3-77            [1, 256, 2, 2]            512\n",
      "│    │    └─ReLU: 3-78                   [1, 256, 2, 2]            --\n",
      "│    │    └─Conv2d: 3-79                 [1, 256, 2, 2]            589,824\n",
      "│    │    └─BatchNorm2d: 3-80            [1, 256, 2, 2]            512\n",
      "│    │    └─ReLU: 3-81                   [1, 256, 2, 2]            --\n",
      "│    │    └─Conv2d: 3-82                 [1, 1024, 2, 2]           262,144\n",
      "│    │    └─BatchNorm2d: 3-83            [1, 1024, 2, 2]           2,048\n",
      "│    │    └─ReLU: 3-84                   [1, 1024, 2, 2]           --\n",
      "│    └─Bottleneck: 2-10                  [1, 1024, 2, 2]           --\n",
      "│    │    └─Conv2d: 3-85                 [1, 256, 2, 2]            262,144\n",
      "│    │    └─BatchNorm2d: 3-86            [1, 256, 2, 2]            512\n",
      "│    │    └─ReLU: 3-87                   [1, 256, 2, 2]            --\n",
      "│    │    └─Conv2d: 3-88                 [1, 256, 2, 2]            589,824\n",
      "│    │    └─BatchNorm2d: 3-89            [1, 256, 2, 2]            512\n",
      "│    │    └─ReLU: 3-90                   [1, 256, 2, 2]            --\n",
      "│    │    └─Conv2d: 3-91                 [1, 1024, 2, 2]           262,144\n",
      "│    │    └─BatchNorm2d: 3-92            [1, 1024, 2, 2]           2,048\n",
      "│    │    └─ReLU: 3-93                   [1, 1024, 2, 2]           --\n",
      "│    └─Bottleneck: 2-11                  [1, 1024, 2, 2]           --\n",
      "│    │    └─Conv2d: 3-94                 [1, 256, 2, 2]            262,144\n",
      "│    │    └─BatchNorm2d: 3-95            [1, 256, 2, 2]            512\n",
      "│    │    └─ReLU: 3-96                   [1, 256, 2, 2]            --\n",
      "│    │    └─Conv2d: 3-97                 [1, 256, 2, 2]            589,824\n",
      "│    │    └─BatchNorm2d: 3-98            [1, 256, 2, 2]            512\n",
      "│    │    └─ReLU: 3-99                   [1, 256, 2, 2]            --\n",
      "│    │    └─Conv2d: 3-100                [1, 1024, 2, 2]           262,144\n",
      "│    │    └─BatchNorm2d: 3-101           [1, 1024, 2, 2]           2,048\n",
      "│    │    └─ReLU: 3-102                  [1, 1024, 2, 2]           --\n",
      "│    └─Bottleneck: 2-12                  [1, 1024, 2, 2]           --\n",
      "│    │    └─Conv2d: 3-103                [1, 256, 2, 2]            262,144\n",
      "│    │    └─BatchNorm2d: 3-104           [1, 256, 2, 2]            512\n",
      "│    │    └─ReLU: 3-105                  [1, 256, 2, 2]            --\n",
      "│    │    └─Conv2d: 3-106                [1, 256, 2, 2]            589,824\n",
      "│    │    └─BatchNorm2d: 3-107           [1, 256, 2, 2]            512\n",
      "│    │    └─ReLU: 3-108                  [1, 256, 2, 2]            --\n",
      "│    │    └─Conv2d: 3-109                [1, 1024, 2, 2]           262,144\n",
      "│    │    └─BatchNorm2d: 3-110           [1, 1024, 2, 2]           2,048\n",
      "│    │    └─ReLU: 3-111                  [1, 1024, 2, 2]           --\n",
      "│    └─Bottleneck: 2-13                  [1, 1024, 2, 2]           --\n",
      "│    │    └─Conv2d: 3-112                [1, 256, 2, 2]            262,144\n",
      "│    │    └─BatchNorm2d: 3-113           [1, 256, 2, 2]            512\n",
      "│    │    └─ReLU: 3-114                  [1, 256, 2, 2]            --\n",
      "│    │    └─Conv2d: 3-115                [1, 256, 2, 2]            589,824\n",
      "│    │    └─BatchNorm2d: 3-116           [1, 256, 2, 2]            512\n",
      "│    │    └─ReLU: 3-117                  [1, 256, 2, 2]            --\n",
      "│    │    └─Conv2d: 3-118                [1, 1024, 2, 2]           262,144\n",
      "│    │    └─BatchNorm2d: 3-119           [1, 1024, 2, 2]           2,048\n",
      "│    │    └─ReLU: 3-120                  [1, 1024, 2, 2]           --\n",
      "├─Sequential: 1-8                        [1, 2048, 1, 1]           --\n",
      "│    └─Bottleneck: 2-14                  [1, 2048, 1, 1]           --\n",
      "│    │    └─Conv2d: 3-121                [1, 512, 2, 2]            524,288\n",
      "│    │    └─BatchNorm2d: 3-122           [1, 512, 2, 2]            1,024\n",
      "│    │    └─ReLU: 3-123                  [1, 512, 2, 2]            --\n",
      "│    │    └─Conv2d: 3-124                [1, 512, 1, 1]            2,359,296\n",
      "│    │    └─BatchNorm2d: 3-125           [1, 512, 1, 1]            1,024\n",
      "│    │    └─ReLU: 3-126                  [1, 512, 1, 1]            --\n",
      "│    │    └─Conv2d: 3-127                [1, 2048, 1, 1]           1,048,576\n",
      "│    │    └─BatchNorm2d: 3-128           [1, 2048, 1, 1]           4,096\n",
      "│    │    └─Sequential: 3-129            [1, 2048, 1, 1]           2,101,248\n",
      "│    │    └─ReLU: 3-130                  [1, 2048, 1, 1]           --\n",
      "│    └─Bottleneck: 2-15                  [1, 2048, 1, 1]           --\n",
      "│    │    └─Conv2d: 3-131                [1, 512, 1, 1]            1,048,576\n",
      "│    │    └─BatchNorm2d: 3-132           [1, 512, 1, 1]            1,024\n",
      "│    │    └─ReLU: 3-133                  [1, 512, 1, 1]            --\n",
      "│    │    └─Conv2d: 3-134                [1, 512, 1, 1]            2,359,296\n",
      "│    │    └─BatchNorm2d: 3-135           [1, 512, 1, 1]            1,024\n",
      "│    │    └─ReLU: 3-136                  [1, 512, 1, 1]            --\n",
      "│    │    └─Conv2d: 3-137                [1, 2048, 1, 1]           1,048,576\n",
      "│    │    └─BatchNorm2d: 3-138           [1, 2048, 1, 1]           4,096\n",
      "│    │    └─ReLU: 3-139                  [1, 2048, 1, 1]           --\n",
      "│    └─Bottleneck: 2-16                  [1, 2048, 1, 1]           --\n",
      "│    │    └─Conv2d: 3-140                [1, 512, 1, 1]            1,048,576\n",
      "│    │    └─BatchNorm2d: 3-141           [1, 512, 1, 1]            1,024\n",
      "│    │    └─ReLU: 3-142                  [1, 512, 1, 1]            --\n",
      "│    │    └─Conv2d: 3-143                [1, 512, 1, 1]            2,359,296\n",
      "│    │    └─BatchNorm2d: 3-144           [1, 512, 1, 1]            1,024\n",
      "│    │    └─ReLU: 3-145                  [1, 512, 1, 1]            --\n",
      "│    │    └─Conv2d: 3-146                [1, 2048, 1, 1]           1,048,576\n",
      "│    │    └─BatchNorm2d: 3-147           [1, 2048, 1, 1]           4,096\n",
      "│    │    └─ReLU: 3-148                  [1, 2048, 1, 1]           --\n",
      "├─AdaptiveAvgPool2d: 1-9                 [1, 2048, 1, 1]           --\n",
      "├─Linear: 1-10                           [1, 1000]                 2,049,000\n",
      "==========================================================================================\n",
      "Total params: 25,557,032\n",
      "Trainable params: 25,557,032\n",
      "Non-trainable params: 0\n",
      "Total mult-adds (M): 85.51\n",
      "==========================================================================================\n",
      "Input size (MB): 0.01\n",
      "Forward/backward pass size (MB): 3.64\n",
      "Params size (MB): 102.23\n",
      "Estimated Total Size (MB): 105.88\n",
      "==========================================================================================\n"
     ]
    }
   ],
   "source": [
    "from torchinfo import summary\n",
    "\n",
    "print(summary(teacher_model, input_size=(1, 3, 32, 32)))"
   ]
  },
  {
   "cell_type": "code",
   "execution_count": 7,
   "id": "432445bd-0eae-4e06-90c8-3e08a8514b7f",
   "metadata": {
    "scrolled": true,
    "tags": []
   },
   "outputs": [
    {
     "name": "stdout",
     "output_type": "stream",
     "text": [
      "==========================================================================================\n",
      "Layer (type:depth-idx)                   Output Shape              Param #\n",
      "==========================================================================================\n",
      "ResNet                                   [1, 1000]                 --\n",
      "├─Conv2d: 1-1                            [1, 64, 16, 16]           9,408\n",
      "├─BatchNorm2d: 1-2                       [1, 64, 16, 16]           128\n",
      "├─ReLU: 1-3                              [1, 64, 16, 16]           --\n",
      "├─MaxPool2d: 1-4                         [1, 64, 8, 8]             --\n",
      "├─Sequential: 1-5                        [1, 64, 8, 8]             --\n",
      "│    └─BasicBlock: 2-1                   [1, 64, 8, 8]             --\n",
      "│    │    └─Conv2d: 3-1                  [1, 64, 8, 8]             36,864\n",
      "│    │    └─BatchNorm2d: 3-2             [1, 64, 8, 8]             128\n",
      "│    │    └─ReLU: 3-3                    [1, 64, 8, 8]             --\n",
      "│    │    └─Conv2d: 3-4                  [1, 64, 8, 8]             36,864\n",
      "│    │    └─BatchNorm2d: 3-5             [1, 64, 8, 8]             128\n",
      "│    │    └─ReLU: 3-6                    [1, 64, 8, 8]             --\n",
      "│    └─BasicBlock: 2-2                   [1, 64, 8, 8]             --\n",
      "│    │    └─Conv2d: 3-7                  [1, 64, 8, 8]             36,864\n",
      "│    │    └─BatchNorm2d: 3-8             [1, 64, 8, 8]             128\n",
      "│    │    └─ReLU: 3-9                    [1, 64, 8, 8]             --\n",
      "│    │    └─Conv2d: 3-10                 [1, 64, 8, 8]             36,864\n",
      "│    │    └─BatchNorm2d: 3-11            [1, 64, 8, 8]             128\n",
      "│    │    └─ReLU: 3-12                   [1, 64, 8, 8]             --\n",
      "├─Sequential: 1-6                        [1, 128, 4, 4]            --\n",
      "│    └─BasicBlock: 2-3                   [1, 128, 4, 4]            --\n",
      "│    │    └─Conv2d: 3-13                 [1, 128, 4, 4]            73,728\n",
      "│    │    └─BatchNorm2d: 3-14            [1, 128, 4, 4]            256\n",
      "│    │    └─ReLU: 3-15                   [1, 128, 4, 4]            --\n",
      "│    │    └─Conv2d: 3-16                 [1, 128, 4, 4]            147,456\n",
      "│    │    └─BatchNorm2d: 3-17            [1, 128, 4, 4]            256\n",
      "│    │    └─Sequential: 3-18             [1, 128, 4, 4]            8,448\n",
      "│    │    └─ReLU: 3-19                   [1, 128, 4, 4]            --\n",
      "│    └─BasicBlock: 2-4                   [1, 128, 4, 4]            --\n",
      "│    │    └─Conv2d: 3-20                 [1, 128, 4, 4]            147,456\n",
      "│    │    └─BatchNorm2d: 3-21            [1, 128, 4, 4]            256\n",
      "│    │    └─ReLU: 3-22                   [1, 128, 4, 4]            --\n",
      "│    │    └─Conv2d: 3-23                 [1, 128, 4, 4]            147,456\n",
      "│    │    └─BatchNorm2d: 3-24            [1, 128, 4, 4]            256\n",
      "│    │    └─ReLU: 3-25                   [1, 128, 4, 4]            --\n",
      "├─Sequential: 1-7                        [1, 256, 2, 2]            --\n",
      "│    └─BasicBlock: 2-5                   [1, 256, 2, 2]            --\n",
      "│    │    └─Conv2d: 3-26                 [1, 256, 2, 2]            294,912\n",
      "│    │    └─BatchNorm2d: 3-27            [1, 256, 2, 2]            512\n",
      "│    │    └─ReLU: 3-28                   [1, 256, 2, 2]            --\n",
      "│    │    └─Conv2d: 3-29                 [1, 256, 2, 2]            589,824\n",
      "│    │    └─BatchNorm2d: 3-30            [1, 256, 2, 2]            512\n",
      "│    │    └─Sequential: 3-31             [1, 256, 2, 2]            33,280\n",
      "│    │    └─ReLU: 3-32                   [1, 256, 2, 2]            --\n",
      "│    └─BasicBlock: 2-6                   [1, 256, 2, 2]            --\n",
      "│    │    └─Conv2d: 3-33                 [1, 256, 2, 2]            589,824\n",
      "│    │    └─BatchNorm2d: 3-34            [1, 256, 2, 2]            512\n",
      "│    │    └─ReLU: 3-35                   [1, 256, 2, 2]            --\n",
      "│    │    └─Conv2d: 3-36                 [1, 256, 2, 2]            589,824\n",
      "│    │    └─BatchNorm2d: 3-37            [1, 256, 2, 2]            512\n",
      "│    │    └─ReLU: 3-38                   [1, 256, 2, 2]            --\n",
      "├─Sequential: 1-8                        [1, 512, 1, 1]            --\n",
      "│    └─BasicBlock: 2-7                   [1, 512, 1, 1]            --\n",
      "│    │    └─Conv2d: 3-39                 [1, 512, 1, 1]            1,179,648\n",
      "│    │    └─BatchNorm2d: 3-40            [1, 512, 1, 1]            1,024\n",
      "│    │    └─ReLU: 3-41                   [1, 512, 1, 1]            --\n",
      "│    │    └─Conv2d: 3-42                 [1, 512, 1, 1]            2,359,296\n",
      "│    │    └─BatchNorm2d: 3-43            [1, 512, 1, 1]            1,024\n",
      "│    │    └─Sequential: 3-44             [1, 512, 1, 1]            132,096\n",
      "│    │    └─ReLU: 3-45                   [1, 512, 1, 1]            --\n",
      "│    └─BasicBlock: 2-8                   [1, 512, 1, 1]            --\n",
      "│    │    └─Conv2d: 3-46                 [1, 512, 1, 1]            2,359,296\n",
      "│    │    └─BatchNorm2d: 3-47            [1, 512, 1, 1]            1,024\n",
      "│    │    └─ReLU: 3-48                   [1, 512, 1, 1]            --\n",
      "│    │    └─Conv2d: 3-49                 [1, 512, 1, 1]            2,359,296\n",
      "│    │    └─BatchNorm2d: 3-50            [1, 512, 1, 1]            1,024\n",
      "│    │    └─ReLU: 3-51                   [1, 512, 1, 1]            --\n",
      "├─AdaptiveAvgPool2d: 1-9                 [1, 512, 1, 1]            --\n",
      "├─Linear: 1-10                           [1, 1000]                 513,000\n",
      "==========================================================================================\n",
      "Total params: 11,689,512\n",
      "Trainable params: 11,689,512\n",
      "Non-trainable params: 0\n",
      "Total mult-adds (M): 37.53\n",
      "==========================================================================================\n",
      "Input size (MB): 0.01\n",
      "Forward/backward pass size (MB): 0.82\n",
      "Params size (MB): 46.76\n",
      "Estimated Total Size (MB): 47.59\n",
      "==========================================================================================\n"
     ]
    }
   ],
   "source": [
    "print(summary(student_model, input_size=(1, 3, 32, 32)))"
   ]
  },
  {
   "cell_type": "code",
   "execution_count": 8,
   "id": "ef06f5c5-86d4-40a6-bd50-2b6c0c33f8fd",
   "metadata": {},
   "outputs": [
    {
     "data": {
      "text/plain": [
       "Linear(in_features=2048, out_features=1000, bias=True)"
      ]
     },
     "execution_count": 8,
     "metadata": {},
     "output_type": "execute_result"
    }
   ],
   "source": [
    "teacher_model.fc"
   ]
  },
  {
   "cell_type": "code",
   "execution_count": 9,
   "id": "74261789-8352-4037-9147-95f8e4d90d66",
   "metadata": {},
   "outputs": [
    {
     "data": {
      "text/plain": [
       "Linear(in_features=512, out_features=1000, bias=True)"
      ]
     },
     "execution_count": 9,
     "metadata": {},
     "output_type": "execute_result"
    }
   ],
   "source": [
    "student_model.fc"
   ]
  },
  {
   "cell_type": "code",
   "execution_count": 10,
   "id": "4fbb1030-7276-407e-b385-e51310c53efa",
   "metadata": {},
   "outputs": [],
   "source": [
    "teacher_model.fc = nn.Sequential(\n",
    "    nn.Linear(2048, 512),\n",
    "    nn.ReLU(),\n",
    "    nn.Linear(512, 100),\n",
    ")\n",
    "\n",
    "student_model.fc = nn.Sequential(\n",
    "    nn.Linear(512, 100),\n",
    ")"
   ]
  },
  {
   "cell_type": "code",
   "execution_count": 11,
   "id": "c360e152-d1a9-4727-b234-43f12259f82a",
   "metadata": {
    "scrolled": true,
    "tags": []
   },
   "outputs": [
    {
     "data": {
      "text/plain": [
       "ResNet(\n",
       "  (conv1): Conv2d(3, 64, kernel_size=(7, 7), stride=(2, 2), padding=(3, 3), bias=False)\n",
       "  (bn1): BatchNorm2d(64, eps=1e-05, momentum=0.1, affine=True, track_running_stats=True)\n",
       "  (relu): ReLU(inplace=True)\n",
       "  (maxpool): MaxPool2d(kernel_size=3, stride=2, padding=1, dilation=1, ceil_mode=False)\n",
       "  (layer1): Sequential(\n",
       "    (0): BasicBlock(\n",
       "      (conv1): Conv2d(64, 64, kernel_size=(3, 3), stride=(1, 1), padding=(1, 1), bias=False)\n",
       "      (bn1): BatchNorm2d(64, eps=1e-05, momentum=0.1, affine=True, track_running_stats=True)\n",
       "      (relu): ReLU(inplace=True)\n",
       "      (conv2): Conv2d(64, 64, kernel_size=(3, 3), stride=(1, 1), padding=(1, 1), bias=False)\n",
       "      (bn2): BatchNorm2d(64, eps=1e-05, momentum=0.1, affine=True, track_running_stats=True)\n",
       "    )\n",
       "    (1): BasicBlock(\n",
       "      (conv1): Conv2d(64, 64, kernel_size=(3, 3), stride=(1, 1), padding=(1, 1), bias=False)\n",
       "      (bn1): BatchNorm2d(64, eps=1e-05, momentum=0.1, affine=True, track_running_stats=True)\n",
       "      (relu): ReLU(inplace=True)\n",
       "      (conv2): Conv2d(64, 64, kernel_size=(3, 3), stride=(1, 1), padding=(1, 1), bias=False)\n",
       "      (bn2): BatchNorm2d(64, eps=1e-05, momentum=0.1, affine=True, track_running_stats=True)\n",
       "    )\n",
       "  )\n",
       "  (layer2): Sequential(\n",
       "    (0): BasicBlock(\n",
       "      (conv1): Conv2d(64, 128, kernel_size=(3, 3), stride=(2, 2), padding=(1, 1), bias=False)\n",
       "      (bn1): BatchNorm2d(128, eps=1e-05, momentum=0.1, affine=True, track_running_stats=True)\n",
       "      (relu): ReLU(inplace=True)\n",
       "      (conv2): Conv2d(128, 128, kernel_size=(3, 3), stride=(1, 1), padding=(1, 1), bias=False)\n",
       "      (bn2): BatchNorm2d(128, eps=1e-05, momentum=0.1, affine=True, track_running_stats=True)\n",
       "      (downsample): Sequential(\n",
       "        (0): Conv2d(64, 128, kernel_size=(1, 1), stride=(2, 2), bias=False)\n",
       "        (1): BatchNorm2d(128, eps=1e-05, momentum=0.1, affine=True, track_running_stats=True)\n",
       "      )\n",
       "    )\n",
       "    (1): BasicBlock(\n",
       "      (conv1): Conv2d(128, 128, kernel_size=(3, 3), stride=(1, 1), padding=(1, 1), bias=False)\n",
       "      (bn1): BatchNorm2d(128, eps=1e-05, momentum=0.1, affine=True, track_running_stats=True)\n",
       "      (relu): ReLU(inplace=True)\n",
       "      (conv2): Conv2d(128, 128, kernel_size=(3, 3), stride=(1, 1), padding=(1, 1), bias=False)\n",
       "      (bn2): BatchNorm2d(128, eps=1e-05, momentum=0.1, affine=True, track_running_stats=True)\n",
       "    )\n",
       "  )\n",
       "  (layer3): Sequential(\n",
       "    (0): BasicBlock(\n",
       "      (conv1): Conv2d(128, 256, kernel_size=(3, 3), stride=(2, 2), padding=(1, 1), bias=False)\n",
       "      (bn1): BatchNorm2d(256, eps=1e-05, momentum=0.1, affine=True, track_running_stats=True)\n",
       "      (relu): ReLU(inplace=True)\n",
       "      (conv2): Conv2d(256, 256, kernel_size=(3, 3), stride=(1, 1), padding=(1, 1), bias=False)\n",
       "      (bn2): BatchNorm2d(256, eps=1e-05, momentum=0.1, affine=True, track_running_stats=True)\n",
       "      (downsample): Sequential(\n",
       "        (0): Conv2d(128, 256, kernel_size=(1, 1), stride=(2, 2), bias=False)\n",
       "        (1): BatchNorm2d(256, eps=1e-05, momentum=0.1, affine=True, track_running_stats=True)\n",
       "      )\n",
       "    )\n",
       "    (1): BasicBlock(\n",
       "      (conv1): Conv2d(256, 256, kernel_size=(3, 3), stride=(1, 1), padding=(1, 1), bias=False)\n",
       "      (bn1): BatchNorm2d(256, eps=1e-05, momentum=0.1, affine=True, track_running_stats=True)\n",
       "      (relu): ReLU(inplace=True)\n",
       "      (conv2): Conv2d(256, 256, kernel_size=(3, 3), stride=(1, 1), padding=(1, 1), bias=False)\n",
       "      (bn2): BatchNorm2d(256, eps=1e-05, momentum=0.1, affine=True, track_running_stats=True)\n",
       "    )\n",
       "  )\n",
       "  (layer4): Sequential(\n",
       "    (0): BasicBlock(\n",
       "      (conv1): Conv2d(256, 512, kernel_size=(3, 3), stride=(2, 2), padding=(1, 1), bias=False)\n",
       "      (bn1): BatchNorm2d(512, eps=1e-05, momentum=0.1, affine=True, track_running_stats=True)\n",
       "      (relu): ReLU(inplace=True)\n",
       "      (conv2): Conv2d(512, 512, kernel_size=(3, 3), stride=(1, 1), padding=(1, 1), bias=False)\n",
       "      (bn2): BatchNorm2d(512, eps=1e-05, momentum=0.1, affine=True, track_running_stats=True)\n",
       "      (downsample): Sequential(\n",
       "        (0): Conv2d(256, 512, kernel_size=(1, 1), stride=(2, 2), bias=False)\n",
       "        (1): BatchNorm2d(512, eps=1e-05, momentum=0.1, affine=True, track_running_stats=True)\n",
       "      )\n",
       "    )\n",
       "    (1): BasicBlock(\n",
       "      (conv1): Conv2d(512, 512, kernel_size=(3, 3), stride=(1, 1), padding=(1, 1), bias=False)\n",
       "      (bn1): BatchNorm2d(512, eps=1e-05, momentum=0.1, affine=True, track_running_stats=True)\n",
       "      (relu): ReLU(inplace=True)\n",
       "      (conv2): Conv2d(512, 512, kernel_size=(3, 3), stride=(1, 1), padding=(1, 1), bias=False)\n",
       "      (bn2): BatchNorm2d(512, eps=1e-05, momentum=0.1, affine=True, track_running_stats=True)\n",
       "    )\n",
       "  )\n",
       "  (avgpool): AdaptiveAvgPool2d(output_size=(1, 1))\n",
       "  (fc): Sequential(\n",
       "    (0): Linear(in_features=512, out_features=100, bias=True)\n",
       "  )\n",
       ")"
      ]
     },
     "execution_count": 11,
     "metadata": {},
     "output_type": "execute_result"
    }
   ],
   "source": [
    "teacher_model.to(device)\n",
    "student_model.to(device)"
   ]
  },
  {
   "cell_type": "code",
   "execution_count": 12,
   "id": "60f12646-6182-408a-a2f9-7f369f469e60",
   "metadata": {},
   "outputs": [
    {
     "data": {
      "text/plain": [
       "torch.Size([128, 100])"
      ]
     },
     "execution_count": 12,
     "metadata": {},
     "output_type": "execute_result"
    }
   ],
   "source": [
    "teacher_model(example_images).shape"
   ]
  },
  {
   "cell_type": "code",
   "execution_count": 13,
   "id": "dbbcb776-1cc0-4627-83e2-503aa4f250d7",
   "metadata": {},
   "outputs": [
    {
     "data": {
      "text/plain": [
       "torch.Size([128, 100])"
      ]
     },
     "execution_count": 13,
     "metadata": {},
     "output_type": "execute_result"
    }
   ],
   "source": [
    "student_model(example_images).shape"
   ]
  },
  {
   "cell_type": "code",
   "execution_count": 14,
   "id": "cf0b572b-7fdb-4d33-a000-52897847cf00",
   "metadata": {},
   "outputs": [
    {
     "data": {
      "text/plain": [
       "{'teacher_loss': 4.618436336517334, 'student_loss': 5.239637851715088}"
      ]
     },
     "execution_count": 14,
     "metadata": {},
     "output_type": "execute_result"
    }
   ],
   "source": [
    "import torch\n",
    "import torch.nn.functional as F\n",
    "from torch.optim import AdamW\n",
    "\n",
    "teacher_loss_function = nn.CrossEntropyLoss()\n",
    "student_loss_function = nn.KLDivLoss(reduction=\"batchmean\")\n",
    "\n",
    "def train_step(teacher, student, teacher_optimizer, student_optimizer, batch) -> dict:\n",
    "    images, labels = batch\n",
    "    images = images.to(device)\n",
    "    labels = labels.to(device)\n",
    "    \n",
    "    t = teacher(images)\n",
    "    teacher_loss = teacher_loss_function(t, labels)\n",
    "    s = student(images)\n",
    "    student_ce_loss = teacher_loss_function(s, labels)\n",
    "    student_kd_loss = student_loss_function(F.log_softmax(s, dim=1), F.softmax(t.detach(), dim=1))\n",
    "    student_loss = student_kd_loss + student_ce_loss\n",
    "    \n",
    "    teacher_optimizer.zero_grad()\n",
    "    teacher_loss.backward()\n",
    "    teacher_optimizer.step()\n",
    "    \n",
    "    student_optimizer.zero_grad()\n",
    "    student_loss.backward()\n",
    "    student_optimizer.step()\n",
    "    \n",
    "    return {\n",
    "        \"teacher_loss\": float(teacher_loss.item()),\n",
    "        \"student_loss\": float(student_loss.item()),\n",
    "    }\n",
    "\n",
    "\n",
    "learning_rate = 1e-2\n",
    "teacher_optimizer = AdamW(teacher_model.parameters(), lr=learning_rate)\n",
    "student_optimizer = AdamW(student_model.parameters(), lr=learning_rate)\n",
    "\n",
    "train_step(teacher_model, student_model, teacher_optimizer, student_optimizer, batch)"
   ]
  },
  {
   "cell_type": "code",
   "execution_count": 15,
   "id": "5681e420-98c2-42a2-83a7-1270f81037a5",
   "metadata": {
    "scrolled": true,
    "tags": []
   },
   "outputs": [
    {
     "name": "stderr",
     "output_type": "stream",
     "text": [
      "Using cache found in /home/kiddos/pytorch/hub/pytorch_vision_v0.14.0\n"
     ]
    },
    {
     "data": {
      "text/plain": [
       "['alexnet',\n",
       " 'convnext_base',\n",
       " 'convnext_large',\n",
       " 'convnext_small',\n",
       " 'convnext_tiny',\n",
       " 'deeplabv3_mobilenet_v3_large',\n",
       " 'deeplabv3_resnet101',\n",
       " 'deeplabv3_resnet50',\n",
       " 'densenet121',\n",
       " 'densenet161',\n",
       " 'densenet169',\n",
       " 'densenet201',\n",
       " 'efficientnet_b0',\n",
       " 'efficientnet_b1',\n",
       " 'efficientnet_b2',\n",
       " 'efficientnet_b3',\n",
       " 'efficientnet_b4',\n",
       " 'efficientnet_b5',\n",
       " 'efficientnet_b6',\n",
       " 'efficientnet_b7',\n",
       " 'efficientnet_v2_l',\n",
       " 'efficientnet_v2_m',\n",
       " 'efficientnet_v2_s',\n",
       " 'fcn_resnet101',\n",
       " 'fcn_resnet50',\n",
       " 'get_model_weights',\n",
       " 'get_weight',\n",
       " 'googlenet',\n",
       " 'inception_v3',\n",
       " 'lraspp_mobilenet_v3_large',\n",
       " 'mnasnet0_5',\n",
       " 'mnasnet0_75',\n",
       " 'mnasnet1_0',\n",
       " 'mnasnet1_3',\n",
       " 'mobilenet_v2',\n",
       " 'mobilenet_v3_large',\n",
       " 'mobilenet_v3_small',\n",
       " 'raft_large',\n",
       " 'raft_small',\n",
       " 'regnet_x_16gf',\n",
       " 'regnet_x_1_6gf',\n",
       " 'regnet_x_32gf',\n",
       " 'regnet_x_3_2gf',\n",
       " 'regnet_x_400mf',\n",
       " 'regnet_x_800mf',\n",
       " 'regnet_x_8gf',\n",
       " 'regnet_y_128gf',\n",
       " 'regnet_y_16gf',\n",
       " 'regnet_y_1_6gf',\n",
       " 'regnet_y_32gf',\n",
       " 'regnet_y_3_2gf',\n",
       " 'regnet_y_400mf',\n",
       " 'regnet_y_800mf',\n",
       " 'regnet_y_8gf',\n",
       " 'resnet101',\n",
       " 'resnet152',\n",
       " 'resnet18',\n",
       " 'resnet34',\n",
       " 'resnet50',\n",
       " 'resnext101_32x8d',\n",
       " 'resnext101_64x4d',\n",
       " 'resnext50_32x4d',\n",
       " 'shufflenet_v2_x0_5',\n",
       " 'shufflenet_v2_x1_0',\n",
       " 'shufflenet_v2_x1_5',\n",
       " 'shufflenet_v2_x2_0',\n",
       " 'squeezenet1_0',\n",
       " 'squeezenet1_1',\n",
       " 'swin_b',\n",
       " 'swin_s',\n",
       " 'swin_t',\n",
       " 'vgg11',\n",
       " 'vgg11_bn',\n",
       " 'vgg13',\n",
       " 'vgg13_bn',\n",
       " 'vgg16',\n",
       " 'vgg16_bn',\n",
       " 'vgg19',\n",
       " 'vgg19_bn',\n",
       " 'vit_b_16',\n",
       " 'vit_b_32',\n",
       " 'vit_h_14',\n",
       " 'vit_l_16',\n",
       " 'vit_l_32',\n",
       " 'wide_resnet101_2',\n",
       " 'wide_resnet50_2']"
      ]
     },
     "execution_count": 15,
     "metadata": {},
     "output_type": "execute_result"
    }
   ],
   "source": [
    "torch.hub.list('pytorch/vision:v0.14.0')"
   ]
  },
  {
   "cell_type": "code",
   "execution_count": 16,
   "id": "68d9200a-8474-4402-8589-3a6807159ecd",
   "metadata": {},
   "outputs": [
    {
     "data": {
      "text/plain": [
       "{'teacher_accuracy': tensor(0.0099, device='cuda:0'),\n",
       " 'student_accuracy': tensor(0.0154, device='cuda:0')}"
      ]
     },
     "execution_count": 16,
     "metadata": {},
     "output_type": "execute_result"
    }
   ],
   "source": [
    "def accuracy(predictions: torch.Tensor, labels: torch.Tensor) -> torch.Tensor:\n",
    "    predicted_classes = torch.argmax(F.softmax(predictions, dim=1), dim=1)\n",
    "    correct_predictions = torch.sum(predicted_classes == labels)\n",
    "    return correct_predictions / len(labels)\n",
    "\n",
    "\n",
    "def run_evaluation(teacher, student, dataloader) -> dict:\n",
    "    ts = []\n",
    "    ss = []\n",
    "    for batch in dataloader:\n",
    "        images, labels = batch\n",
    "        images = images.to(device)\n",
    "        labels = labels.to(device)\n",
    "        \n",
    "        t = teacher(images)\n",
    "        s = student(images)\n",
    "        ts.append(accuracy(t, labels))\n",
    "        ss.append(accuracy(s, labels))\n",
    "    ts = torch.mean(torch.stack(ts))\n",
    "    ss = torch.mean(torch.stack(ss))\n",
    "    return {\n",
    "        'teacher_accuracy': ts,\n",
    "        'student_accuracy': ss,\n",
    "    }\n",
    "\n",
    "run_evaluation(teacher_model, student_model, test_dataloader)"
   ]
  },
  {
   "cell_type": "code",
   "execution_count": 17,
   "id": "168a6328-2ed2-4dec-be87-289af6dd8e79",
   "metadata": {
    "scrolled": true,
    "tags": []
   },
   "outputs": [
    {
     "data": {
      "application/json": {
       "ascii": false,
       "bar_format": null,
       "colour": null,
       "elapsed": 0.011565208435058594,
       "initial": 0,
       "n": 0,
       "ncols": null,
       "nrows": 24,
       "postfix": null,
       "prefix": "Iteration: ",
       "rate": null,
       "total": 391,
       "unit": "it",
       "unit_divisor": 1000,
       "unit_scale": false
      },
      "application/vnd.jupyter.widget-view+json": {
       "model_id": "5defcec7c9d94c0d940987e82c129e45",
       "version_major": 2,
       "version_minor": 0
      },
      "text/plain": [
       "Iteration:   0%|          | 0/391 [00:00<?, ?it/s]"
      ]
     },
     "metadata": {},
     "output_type": "display_data"
    },
    {
     "name": "stdout",
     "output_type": "stream",
     "text": [
      "teacher accuracy: 0.040348101407289505\n",
      "student accuracy: 0.0859375\n"
     ]
    },
    {
     "data": {
      "application/json": {
       "ascii": false,
       "bar_format": null,
       "colour": null,
       "elapsed": 0.010232686996459961,
       "initial": 0,
       "n": 0,
       "ncols": null,
       "nrows": 24,
       "postfix": null,
       "prefix": "Iteration: ",
       "rate": null,
       "total": 391,
       "unit": "it",
       "unit_divisor": 1000,
       "unit_scale": false
      },
      "application/vnd.jupyter.widget-view+json": {
       "model_id": "9a19599e137f4299981a10972836df34",
       "version_major": 2,
       "version_minor": 0
      },
      "text/plain": [
       "Iteration:   0%|          | 0/391 [00:00<?, ?it/s]"
      ]
     },
     "metadata": {},
     "output_type": "display_data"
    },
    {
     "name": "stdout",
     "output_type": "stream",
     "text": [
      "teacher accuracy: 0.07436709105968475\n",
      "student accuracy: 0.1386471539735794\n"
     ]
    },
    {
     "data": {
      "application/json": {
       "ascii": false,
       "bar_format": null,
       "colour": null,
       "elapsed": 0.009885311126708984,
       "initial": 0,
       "n": 0,
       "ncols": null,
       "nrows": 24,
       "postfix": null,
       "prefix": "Iteration: ",
       "rate": null,
       "total": 391,
       "unit": "it",
       "unit_divisor": 1000,
       "unit_scale": false
      },
      "application/vnd.jupyter.widget-view+json": {
       "model_id": "54f9e961a51c4a7abe40a9d3e6be1a5b",
       "version_major": 2,
       "version_minor": 0
      },
      "text/plain": [
       "Iteration:   0%|          | 0/391 [00:00<?, ?it/s]"
      ]
     },
     "metadata": {},
     "output_type": "display_data"
    },
    {
     "name": "stdout",
     "output_type": "stream",
     "text": [
      "teacher accuracy: 0.09206882864236832\n",
      "student accuracy: 0.1819620281457901\n"
     ]
    },
    {
     "data": {
      "application/json": {
       "ascii": false,
       "bar_format": null,
       "colour": null,
       "elapsed": 0.009896278381347656,
       "initial": 0,
       "n": 0,
       "ncols": null,
       "nrows": 24,
       "postfix": null,
       "prefix": "Iteration: ",
       "rate": null,
       "total": 391,
       "unit": "it",
       "unit_divisor": 1000,
       "unit_scale": false
      },
      "application/vnd.jupyter.widget-view+json": {
       "model_id": "29606b30bb7e41789bf4838d37fc05a8",
       "version_major": 2,
       "version_minor": 0
      },
      "text/plain": [
       "Iteration:   0%|          | 0/391 [00:00<?, ?it/s]"
      ]
     },
     "metadata": {},
     "output_type": "display_data"
    },
    {
     "name": "stdout",
     "output_type": "stream",
     "text": [
      "teacher accuracy: 0.10947389155626297\n",
      "student accuracy: 0.21054193377494812\n"
     ]
    },
    {
     "data": {
      "application/json": {
       "ascii": false,
       "bar_format": null,
       "colour": null,
       "elapsed": 0.01022648811340332,
       "initial": 0,
       "n": 0,
       "ncols": null,
       "nrows": 24,
       "postfix": null,
       "prefix": "Iteration: ",
       "rate": null,
       "total": 391,
       "unit": "it",
       "unit_divisor": 1000,
       "unit_scale": false
      },
      "application/vnd.jupyter.widget-view+json": {
       "model_id": "c247c20633c745c39ebeabb8ee270eed",
       "version_major": 2,
       "version_minor": 0
      },
      "text/plain": [
       "Iteration:   0%|          | 0/391 [00:00<?, ?it/s]"
      ]
     },
     "metadata": {},
     "output_type": "display_data"
    },
    {
     "name": "stdout",
     "output_type": "stream",
     "text": [
      "teacher accuracy: 0.07466376572847366\n",
      "student accuracy: 0.2366495281457901\n"
     ]
    },
    {
     "data": {
      "application/json": {
       "ascii": false,
       "bar_format": null,
       "colour": null,
       "elapsed": 0.01049041748046875,
       "initial": 0,
       "n": 0,
       "ncols": null,
       "nrows": 24,
       "postfix": null,
       "prefix": "Iteration: ",
       "rate": null,
       "total": 391,
       "unit": "it",
       "unit_divisor": 1000,
       "unit_scale": false
      },
      "application/vnd.jupyter.widget-view+json": {
       "model_id": "d94563cc2eee40bb8971ae86723f7197",
       "version_major": 2,
       "version_minor": 0
      },
      "text/plain": [
       "Iteration:   0%|          | 0/391 [00:00<?, ?it/s]"
      ]
     },
     "metadata": {},
     "output_type": "display_data"
    },
    {
     "name": "stdout",
     "output_type": "stream",
     "text": [
      "teacher accuracy: 0.15733781456947327\n",
      "student accuracy: 0.2624604403972626\n"
     ]
    },
    {
     "data": {
      "application/json": {
       "ascii": false,
       "bar_format": null,
       "colour": null,
       "elapsed": 0.010329961776733398,
       "initial": 0,
       "n": 0,
       "ncols": null,
       "nrows": 24,
       "postfix": null,
       "prefix": "Iteration: ",
       "rate": null,
       "total": 391,
       "unit": "it",
       "unit_divisor": 1000,
       "unit_scale": false
      },
      "application/vnd.jupyter.widget-view+json": {
       "model_id": "1a40527887674a19b31a89f5bfd6e08b",
       "version_major": 2,
       "version_minor": 0
      },
      "text/plain": [
       "Iteration:   0%|          | 0/391 [00:00<?, ?it/s]"
      ]
     },
     "metadata": {},
     "output_type": "display_data"
    },
    {
     "name": "stdout",
     "output_type": "stream",
     "text": [
      "teacher accuracy: 0.17207278311252594\n",
      "student accuracy: 0.2841178774833679\n"
     ]
    },
    {
     "data": {
      "application/json": {
       "ascii": false,
       "bar_format": null,
       "colour": null,
       "elapsed": 0.010032892227172852,
       "initial": 0,
       "n": 0,
       "ncols": null,
       "nrows": 24,
       "postfix": null,
       "prefix": "Iteration: ",
       "rate": null,
       "total": 391,
       "unit": "it",
       "unit_divisor": 1000,
       "unit_scale": false
      },
      "application/vnd.jupyter.widget-view+json": {
       "model_id": "24c37db03d1742e69c6c3f149f593143",
       "version_major": 2,
       "version_minor": 0
      },
      "text/plain": [
       "Iteration:   0%|          | 0/391 [00:00<?, ?it/s]"
      ]
     },
     "metadata": {},
     "output_type": "display_data"
    },
    {
     "name": "stdout",
     "output_type": "stream",
     "text": [
      "teacher accuracy: 0.18117089569568634\n",
      "student accuracy: 0.3045886158943176\n"
     ]
    },
    {
     "data": {
      "application/json": {
       "ascii": false,
       "bar_format": null,
       "colour": null,
       "elapsed": 0.010825634002685547,
       "initial": 0,
       "n": 0,
       "ncols": null,
       "nrows": 24,
       "postfix": null,
       "prefix": "Iteration: ",
       "rate": null,
       "total": 391,
       "unit": "it",
       "unit_divisor": 1000,
       "unit_scale": false
      },
      "application/vnd.jupyter.widget-view+json": {
       "model_id": "828d59a42b3040cfabdb8d4e9ce36d1f",
       "version_major": 2,
       "version_minor": 0
      },
      "text/plain": [
       "Iteration:   0%|          | 0/391 [00:00<?, ?it/s]"
      ]
     },
     "metadata": {},
     "output_type": "display_data"
    },
    {
     "name": "stdout",
     "output_type": "stream",
     "text": [
      "teacher accuracy: 0.15714003145694733\n",
      "student accuracy: 0.3284216821193695\n"
     ]
    },
    {
     "data": {
      "application/json": {
       "ascii": false,
       "bar_format": null,
       "colour": null,
       "elapsed": 0.01016998291015625,
       "initial": 0,
       "n": 0,
       "ncols": null,
       "nrows": 24,
       "postfix": null,
       "prefix": "Iteration: ",
       "rate": null,
       "total": 391,
       "unit": "it",
       "unit_divisor": 1000,
       "unit_scale": false
      },
      "application/vnd.jupyter.widget-view+json": {
       "model_id": "a59582b9c39d450c9c7ef6f91f901b3e",
       "version_major": 2,
       "version_minor": 0
      },
      "text/plain": [
       "Iteration:   0%|          | 0/391 [00:00<?, ?it/s]"
      ]
     },
     "metadata": {},
     "output_type": "display_data"
    },
    {
     "name": "stdout",
     "output_type": "stream",
     "text": [
      "teacher accuracy: 0.1376582384109497\n",
      "student accuracy: 0.32703718543052673\n"
     ]
    },
    {
     "data": {
      "application/json": {
       "ascii": false,
       "bar_format": null,
       "colour": null,
       "elapsed": 0.009957313537597656,
       "initial": 0,
       "n": 0,
       "ncols": null,
       "nrows": 24,
       "postfix": null,
       "prefix": "Iteration: ",
       "rate": null,
       "total": 391,
       "unit": "it",
       "unit_divisor": 1000,
       "unit_scale": false
      },
      "application/vnd.jupyter.widget-view+json": {
       "model_id": "bfdf11da49744c92bda2a0162603c6ef",
       "version_major": 2,
       "version_minor": 0
      },
      "text/plain": [
       "Iteration:   0%|          | 0/391 [00:00<?, ?it/s]"
      ]
     },
     "metadata": {},
     "output_type": "display_data"
    },
    {
     "name": "stdout",
     "output_type": "stream",
     "text": [
      "teacher accuracy: 0.18018196523189545\n",
      "student accuracy: 0.349683552980423\n"
     ]
    },
    {
     "data": {
      "application/json": {
       "ascii": false,
       "bar_format": null,
       "colour": null,
       "elapsed": 0.010220527648925781,
       "initial": 0,
       "n": 0,
       "ncols": null,
       "nrows": 24,
       "postfix": null,
       "prefix": "Iteration: ",
       "rate": null,
       "total": 391,
       "unit": "it",
       "unit_divisor": 1000,
       "unit_scale": false
      },
      "application/vnd.jupyter.widget-view+json": {
       "model_id": "ae542d17492841778c2c344798cba737",
       "version_major": 2,
       "version_minor": 0
      },
      "text/plain": [
       "Iteration:   0%|          | 0/391 [00:00<?, ?it/s]"
      ]
     },
     "metadata": {},
     "output_type": "display_data"
    },
    {
     "name": "stdout",
     "output_type": "stream",
     "text": [
      "teacher accuracy: 0.1943235844373703\n",
      "student accuracy: 0.3570016026496887\n"
     ]
    },
    {
     "data": {
      "application/json": {
       "ascii": false,
       "bar_format": null,
       "colour": null,
       "elapsed": 0.009996175765991211,
       "initial": 0,
       "n": 0,
       "ncols": null,
       "nrows": 24,
       "postfix": null,
       "prefix": "Iteration: ",
       "rate": null,
       "total": 391,
       "unit": "it",
       "unit_divisor": 1000,
       "unit_scale": false
      },
      "application/vnd.jupyter.widget-view+json": {
       "model_id": "9193f27c1bfc4ec681f72d72654941ab",
       "version_major": 2,
       "version_minor": 0
      },
      "text/plain": [
       "Iteration:   0%|          | 0/391 [00:00<?, ?it/s]"
      ]
     },
     "metadata": {},
     "output_type": "display_data"
    },
    {
     "name": "stdout",
     "output_type": "stream",
     "text": [
      "teacher accuracy: 0.1701938360929489\n",
      "student accuracy: 0.35719937086105347\n"
     ]
    },
    {
     "data": {
      "application/json": {
       "ascii": false,
       "bar_format": null,
       "colour": null,
       "elapsed": 0.009748220443725586,
       "initial": 0,
       "n": 0,
       "ncols": null,
       "nrows": 24,
       "postfix": null,
       "prefix": "Iteration: ",
       "rate": null,
       "total": 391,
       "unit": "it",
       "unit_divisor": 1000,
       "unit_scale": false
      },
      "application/vnd.jupyter.widget-view+json": {
       "model_id": "6e493c1206ed47568b54edaedbd4b2a6",
       "version_major": 2,
       "version_minor": 0
      },
      "text/plain": [
       "Iteration:   0%|          | 0/391 [00:00<?, ?it/s]"
      ]
     },
     "metadata": {},
     "output_type": "display_data"
    },
    {
     "name": "stdout",
     "output_type": "stream",
     "text": [
      "teacher accuracy: 0.19214795529842377\n",
      "student accuracy: 0.3674841821193695\n"
     ]
    },
    {
     "data": {
      "application/json": {
       "ascii": false,
       "bar_format": null,
       "colour": null,
       "elapsed": 0.010208368301391602,
       "initial": 0,
       "n": 0,
       "ncols": null,
       "nrows": 24,
       "postfix": null,
       "prefix": "Iteration: ",
       "rate": null,
       "total": 391,
       "unit": "it",
       "unit_divisor": 1000,
       "unit_scale": false
      },
      "application/vnd.jupyter.widget-view+json": {
       "model_id": "f0b7c7289fed47cc963c813e839f7bbd",
       "version_major": 2,
       "version_minor": 0
      },
      "text/plain": [
       "Iteration:   0%|          | 0/391 [00:00<?, ?it/s]"
      ]
     },
     "metadata": {},
     "output_type": "display_data"
    },
    {
     "name": "stdout",
     "output_type": "stream",
     "text": [
      "teacher accuracy: 0.2129153460264206\n",
      "student accuracy: 0.375593364238739\n"
     ]
    },
    {
     "data": {
      "application/json": {
       "ascii": false,
       "bar_format": null,
       "colour": null,
       "elapsed": 0.010101079940795898,
       "initial": 0,
       "n": 0,
       "ncols": null,
       "nrows": 24,
       "postfix": null,
       "prefix": "Iteration: ",
       "rate": null,
       "total": 391,
       "unit": "it",
       "unit_divisor": 1000,
       "unit_scale": false
      },
      "application/vnd.jupyter.widget-view+json": {
       "model_id": "b698eaa6466f4fa7b828ca011d1b06d1",
       "version_major": 2,
       "version_minor": 0
      },
      "text/plain": [
       "Iteration:   0%|          | 0/391 [00:00<?, ?it/s]"
      ]
     },
     "metadata": {},
     "output_type": "display_data"
    },
    {
     "name": "stdout",
     "output_type": "stream",
     "text": [
      "teacher accuracy: 0.20787183940410614\n",
      "student accuracy: 0.39734968543052673\n"
     ]
    },
    {
     "data": {
      "application/json": {
       "ascii": false,
       "bar_format": null,
       "colour": null,
       "elapsed": 0.009836435317993164,
       "initial": 0,
       "n": 0,
       "ncols": null,
       "nrows": 24,
       "postfix": null,
       "prefix": "Iteration: ",
       "rate": null,
       "total": 391,
       "unit": "it",
       "unit_divisor": 1000,
       "unit_scale": false
      },
      "application/vnd.jupyter.widget-view+json": {
       "model_id": "99f5d353c7464fba923ec26966a6e820",
       "version_major": 2,
       "version_minor": 0
      },
      "text/plain": [
       "Iteration:   0%|          | 0/391 [00:00<?, ?it/s]"
      ]
     },
     "metadata": {},
     "output_type": "display_data"
    },
    {
     "name": "stdout",
     "output_type": "stream",
     "text": [
      "teacher accuracy: 0.2386273741722107\n",
      "student accuracy: 0.4048655033111572\n"
     ]
    },
    {
     "data": {
      "application/json": {
       "ascii": false,
       "bar_format": null,
       "colour": null,
       "elapsed": 0.010350227355957031,
       "initial": 0,
       "n": 0,
       "ncols": null,
       "nrows": 24,
       "postfix": null,
       "prefix": "Iteration: ",
       "rate": null,
       "total": 391,
       "unit": "it",
       "unit_divisor": 1000,
       "unit_scale": false
      },
      "application/vnd.jupyter.widget-view+json": {
       "model_id": "549fca025481449ba08aed119159a52b",
       "version_major": 2,
       "version_minor": 0
      },
      "text/plain": [
       "Iteration:   0%|          | 0/391 [00:00<?, ?it/s]"
      ]
     },
     "metadata": {},
     "output_type": "display_data"
    },
    {
     "name": "stdout",
     "output_type": "stream",
     "text": [
      "teacher accuracy: 0.23833070695400238\n",
      "student accuracy: 0.3987341821193695\n"
     ]
    },
    {
     "data": {
      "application/json": {
       "ascii": false,
       "bar_format": null,
       "colour": null,
       "elapsed": 0.009748697280883789,
       "initial": 0,
       "n": 0,
       "ncols": null,
       "nrows": 24,
       "postfix": null,
       "prefix": "Iteration: ",
       "rate": null,
       "total": 391,
       "unit": "it",
       "unit_divisor": 1000,
       "unit_scale": false
      },
      "application/vnd.jupyter.widget-view+json": {
       "model_id": "081992938bc84695b6b63bc8cf253daa",
       "version_major": 2,
       "version_minor": 0
      },
      "text/plain": [
       "Iteration:   0%|          | 0/391 [00:00<?, ?it/s]"
      ]
     },
     "metadata": {},
     "output_type": "display_data"
    },
    {
     "name": "stdout",
     "output_type": "stream",
     "text": [
      "teacher accuracy: 0.18433544039726257\n",
      "student accuracy: 0.42464399337768555\n"
     ]
    },
    {
     "data": {
      "application/json": {
       "ascii": false,
       "bar_format": null,
       "colour": null,
       "elapsed": 0.010047674179077148,
       "initial": 0,
       "n": 0,
       "ncols": null,
       "nrows": 24,
       "postfix": null,
       "prefix": "Iteration: ",
       "rate": null,
       "total": 391,
       "unit": "it",
       "unit_divisor": 1000,
       "unit_scale": false
      },
      "application/vnd.jupyter.widget-view+json": {
       "model_id": "002b7f0620ba4c9889457187d156ed8b",
       "version_major": 2,
       "version_minor": 0
      },
      "text/plain": [
       "Iteration:   0%|          | 0/391 [00:00<?, ?it/s]"
      ]
     },
     "metadata": {},
     "output_type": "display_data"
    },
    {
     "name": "stdout",
     "output_type": "stream",
     "text": [
      "teacher accuracy: 0.2056962102651596\n",
      "student accuracy: 0.41416141390800476\n"
     ]
    },
    {
     "data": {
      "application/json": {
       "ascii": false,
       "bar_format": null,
       "colour": null,
       "elapsed": 0.010064363479614258,
       "initial": 0,
       "n": 0,
       "ncols": null,
       "nrows": 24,
       "postfix": null,
       "prefix": "Iteration: ",
       "rate": null,
       "total": 391,
       "unit": "it",
       "unit_divisor": 1000,
       "unit_scale": false
      },
      "application/vnd.jupyter.widget-view+json": {
       "model_id": "a354f9f551ef4d5db5c3969b1169792f",
       "version_major": 2,
       "version_minor": 0
      },
      "text/plain": [
       "Iteration:   0%|          | 0/391 [00:00<?, ?it/s]"
      ]
     },
     "metadata": {},
     "output_type": "display_data"
    },
    {
     "name": "stdout",
     "output_type": "stream",
     "text": [
      "teacher accuracy: 0.24198971688747406\n",
      "student accuracy: 0.435621052980423\n"
     ]
    },
    {
     "data": {
      "application/json": {
       "ascii": false,
       "bar_format": null,
       "colour": null,
       "elapsed": 0.009942293167114258,
       "initial": 0,
       "n": 0,
       "ncols": null,
       "nrows": 24,
       "postfix": null,
       "prefix": "Iteration: ",
       "rate": null,
       "total": 391,
       "unit": "it",
       "unit_divisor": 1000,
       "unit_scale": false
      },
      "application/vnd.jupyter.widget-view+json": {
       "model_id": "9de807e01cd9454195be72a7a7825933",
       "version_major": 2,
       "version_minor": 0
      },
      "text/plain": [
       "Iteration:   0%|          | 0/391 [00:00<?, ?it/s]"
      ]
     },
     "metadata": {},
     "output_type": "display_data"
    },
    {
     "name": "stdout",
     "output_type": "stream",
     "text": [
      "teacher accuracy: 0.2434731125831604\n",
      "student accuracy: 0.4351266026496887\n"
     ]
    },
    {
     "data": {
      "application/json": {
       "ascii": false,
       "bar_format": null,
       "colour": null,
       "elapsed": 0.009900808334350586,
       "initial": 0,
       "n": 0,
       "ncols": null,
       "nrows": 24,
       "postfix": null,
       "prefix": "Iteration: ",
       "rate": null,
       "total": 391,
       "unit": "it",
       "unit_divisor": 1000,
       "unit_scale": false
      },
      "application/vnd.jupyter.widget-view+json": {
       "model_id": "a440818ccb964afb909b4f863d77ba6c",
       "version_major": 2,
       "version_minor": 0
      },
      "text/plain": [
       "Iteration:   0%|          | 0/391 [00:00<?, ?it/s]"
      ]
     },
     "metadata": {},
     "output_type": "display_data"
    },
    {
     "name": "stdout",
     "output_type": "stream",
     "text": [
      "teacher accuracy: 0.26443830132484436\n",
      "student accuracy: 0.4446202516555786\n"
     ]
    },
    {
     "data": {
      "application/json": {
       "ascii": false,
       "bar_format": null,
       "colour": null,
       "elapsed": 0.010019540786743164,
       "initial": 0,
       "n": 0,
       "ncols": null,
       "nrows": 24,
       "postfix": null,
       "prefix": "Iteration: ",
       "rate": null,
       "total": 391,
       "unit": "it",
       "unit_divisor": 1000,
       "unit_scale": false
      },
      "application/vnd.jupyter.widget-view+json": {
       "model_id": "3b1bb4a6b00c4642bf43373e8e906340",
       "version_major": 2,
       "version_minor": 0
      },
      "text/plain": [
       "Iteration:   0%|          | 0/391 [00:00<?, ?it/s]"
      ]
     },
     "metadata": {},
     "output_type": "display_data"
    },
    {
     "name": "stdout",
     "output_type": "stream",
     "text": [
      "teacher accuracy: 0.2542523741722107\n",
      "student accuracy: 0.43967562913894653\n"
     ]
    },
    {
     "data": {
      "application/json": {
       "ascii": false,
       "bar_format": null,
       "colour": null,
       "elapsed": 0.010190725326538086,
       "initial": 0,
       "n": 0,
       "ncols": null,
       "nrows": 24,
       "postfix": null,
       "prefix": "Iteration: ",
       "rate": null,
       "total": 391,
       "unit": "it",
       "unit_divisor": 1000,
       "unit_scale": false
      },
      "application/vnd.jupyter.widget-view+json": {
       "model_id": "15c1613d073c466f83230b0b542111e1",
       "version_major": 2,
       "version_minor": 0
      },
      "text/plain": [
       "Iteration:   0%|          | 0/391 [00:00<?, ?it/s]"
      ]
     },
     "metadata": {},
     "output_type": "display_data"
    },
    {
     "name": "stdout",
     "output_type": "stream",
     "text": [
      "teacher accuracy: 0.2649327516555786\n",
      "student accuracy: 0.4390822947025299\n"
     ]
    },
    {
     "data": {
      "application/json": {
       "ascii": false,
       "bar_format": null,
       "colour": null,
       "elapsed": 0.009881019592285156,
       "initial": 0,
       "n": 0,
       "ncols": null,
       "nrows": 24,
       "postfix": null,
       "prefix": "Iteration: ",
       "rate": null,
       "total": 391,
       "unit": "it",
       "unit_divisor": 1000,
       "unit_scale": false
      },
      "application/vnd.jupyter.widget-view+json": {
       "model_id": "26b0796f95dc4efdab4b3e723d1dffb2",
       "version_major": 2,
       "version_minor": 0
      },
      "text/plain": [
       "Iteration:   0%|          | 0/391 [00:00<?, ?it/s]"
      ]
     },
     "metadata": {},
     "output_type": "display_data"
    },
    {
     "name": "stdout",
     "output_type": "stream",
     "text": [
      "teacher accuracy: 0.26967960596084595\n",
      "student accuracy: 0.4457080662250519\n"
     ]
    },
    {
     "data": {
      "application/json": {
       "ascii": false,
       "bar_format": null,
       "colour": null,
       "elapsed": 0.009813070297241211,
       "initial": 0,
       "n": 0,
       "ncols": null,
       "nrows": 24,
       "postfix": null,
       "prefix": "Iteration: ",
       "rate": null,
       "total": 391,
       "unit": "it",
       "unit_divisor": 1000,
       "unit_scale": false
      },
      "application/vnd.jupyter.widget-view+json": {
       "model_id": "bc7fa5f3f9964cfa8fdf4a7fa75e2a5c",
       "version_major": 2,
       "version_minor": 0
      },
      "text/plain": [
       "Iteration:   0%|          | 0/391 [00:00<?, ?it/s]"
      ]
     },
     "metadata": {},
     "output_type": "display_data"
    },
    {
     "name": "stdout",
     "output_type": "stream",
     "text": [
      "teacher accuracy: 0.26710838079452515\n",
      "student accuracy: 0.4534216821193695\n"
     ]
    },
    {
     "data": {
      "application/json": {
       "ascii": false,
       "bar_format": null,
       "colour": null,
       "elapsed": 0.01003575325012207,
       "initial": 0,
       "n": 0,
       "ncols": null,
       "nrows": 24,
       "postfix": null,
       "prefix": "Iteration: ",
       "rate": null,
       "total": 391,
       "unit": "it",
       "unit_divisor": 1000,
       "unit_scale": false
      },
      "application/vnd.jupyter.widget-view+json": {
       "model_id": "937b94eec3e44318ad271ea4ba49e6de",
       "version_major": 2,
       "version_minor": 0
      },
      "text/plain": [
       "Iteration:   0%|          | 0/391 [00:00<?, ?it/s]"
      ]
     },
     "metadata": {},
     "output_type": "display_data"
    },
    {
     "name": "stdout",
     "output_type": "stream",
     "text": [
      "teacher accuracy: 0.2497033327817917\n",
      "student accuracy: 0.45421281456947327\n"
     ]
    },
    {
     "data": {
      "application/json": {
       "ascii": false,
       "bar_format": null,
       "colour": null,
       "elapsed": 0.01006007194519043,
       "initial": 0,
       "n": 0,
       "ncols": null,
       "nrows": 24,
       "postfix": null,
       "prefix": "Iteration: ",
       "rate": null,
       "total": 391,
       "unit": "it",
       "unit_divisor": 1000,
       "unit_scale": false
      },
      "application/vnd.jupyter.widget-view+json": {
       "model_id": "e53d2a26ec684f8c92e88d48758d2061",
       "version_major": 2,
       "version_minor": 0
      },
      "text/plain": [
       "Iteration:   0%|          | 0/391 [00:00<?, ?it/s]"
      ]
     },
     "metadata": {},
     "output_type": "display_data"
    },
    {
     "name": "stdout",
     "output_type": "stream",
     "text": [
      "teacher accuracy: 0.18660996854305267\n",
      "student accuracy: 0.43275317549705505\n"
     ]
    },
    {
     "data": {
      "application/json": {
       "ascii": false,
       "bar_format": null,
       "colour": null,
       "elapsed": 0.010089635848999023,
       "initial": 0,
       "n": 0,
       "ncols": null,
       "nrows": 24,
       "postfix": null,
       "prefix": "Iteration: ",
       "rate": null,
       "total": 391,
       "unit": "it",
       "unit_divisor": 1000,
       "unit_scale": false
      },
      "application/vnd.jupyter.widget-view+json": {
       "model_id": "3385c701027c428ba66b56e110c7597d",
       "version_major": 2,
       "version_minor": 0
      },
      "text/plain": [
       "Iteration:   0%|          | 0/391 [00:00<?, ?it/s]"
      ]
     },
     "metadata": {},
     "output_type": "display_data"
    },
    {
     "name": "stdout",
     "output_type": "stream",
     "text": [
      "teacher accuracy: 0.2606803774833679\n",
      "student accuracy: 0.46884891390800476\n"
     ]
    },
    {
     "data": {
      "application/json": {
       "ascii": false,
       "bar_format": null,
       "colour": null,
       "elapsed": 0.00997471809387207,
       "initial": 0,
       "n": 0,
       "ncols": null,
       "nrows": 24,
       "postfix": null,
       "prefix": "Iteration: ",
       "rate": null,
       "total": 391,
       "unit": "it",
       "unit_divisor": 1000,
       "unit_scale": false
      },
      "application/vnd.jupyter.widget-view+json": {
       "model_id": "13f540b4603b4db19b14a60bb848e432",
       "version_major": 2,
       "version_minor": 0
      },
      "text/plain": [
       "Iteration:   0%|          | 0/391 [00:00<?, ?it/s]"
      ]
     },
     "metadata": {},
     "output_type": "display_data"
    },
    {
     "name": "stdout",
     "output_type": "stream",
     "text": [
      "teacher accuracy: 0.2542523741722107\n",
      "student accuracy: 0.46766218543052673\n"
     ]
    },
    {
     "data": {
      "application/json": {
       "ascii": false,
       "bar_format": null,
       "colour": null,
       "elapsed": 0.010039806365966797,
       "initial": 0,
       "n": 0,
       "ncols": null,
       "nrows": 24,
       "postfix": null,
       "prefix": "Iteration: ",
       "rate": null,
       "total": 391,
       "unit": "it",
       "unit_divisor": 1000,
       "unit_scale": false
      },
      "application/vnd.jupyter.widget-view+json": {
       "model_id": "b450423c7d234f3f970ce8e533f7386f",
       "version_major": 2,
       "version_minor": 0
      },
      "text/plain": [
       "Iteration:   0%|          | 0/391 [00:00<?, ?it/s]"
      ]
     },
     "metadata": {},
     "output_type": "display_data"
    },
    {
     "name": "stdout",
     "output_type": "stream",
     "text": [
      "teacher accuracy: 0.2763053774833679\n",
      "student accuracy: 0.45747628808021545\n"
     ]
    },
    {
     "data": {
      "application/json": {
       "ascii": false,
       "bar_format": null,
       "colour": null,
       "elapsed": 0.010724306106567383,
       "initial": 0,
       "n": 0,
       "ncols": null,
       "nrows": 24,
       "postfix": null,
       "prefix": "Iteration: ",
       "rate": null,
       "total": 391,
       "unit": "it",
       "unit_divisor": 1000,
       "unit_scale": false
      },
      "application/vnd.jupyter.widget-view+json": {
       "model_id": "e87e7e24750b438085c68ace110141f1",
       "version_major": 2,
       "version_minor": 0
      },
      "text/plain": [
       "Iteration:   0%|          | 0/391 [00:00<?, ?it/s]"
      ]
     },
     "metadata": {},
     "output_type": "display_data"
    },
    {
     "name": "stdout",
     "output_type": "stream",
     "text": [
      "teacher accuracy: 0.2444620281457901\n",
      "student accuracy: 0.4738924205303192\n"
     ]
    },
    {
     "data": {
      "application/json": {
       "ascii": false,
       "bar_format": null,
       "colour": null,
       "elapsed": 0.010080814361572266,
       "initial": 0,
       "n": 0,
       "ncols": null,
       "nrows": 24,
       "postfix": null,
       "prefix": "Iteration: ",
       "rate": null,
       "total": 391,
       "unit": "it",
       "unit_divisor": 1000,
       "unit_scale": false
      },
      "application/vnd.jupyter.widget-view+json": {
       "model_id": "cf17899b0554495e91f5f6ff29acd860",
       "version_major": 2,
       "version_minor": 0
      },
      "text/plain": [
       "Iteration:   0%|          | 0/391 [00:00<?, ?it/s]"
      ]
     },
     "metadata": {},
     "output_type": "display_data"
    },
    {
     "name": "stdout",
     "output_type": "stream",
     "text": [
      "teacher accuracy: 0.2848101258277893\n",
      "student accuracy: 0.4650909900665283\n"
     ]
    },
    {
     "data": {
      "application/json": {
       "ascii": false,
       "bar_format": null,
       "colour": null,
       "elapsed": 0.009871244430541992,
       "initial": 0,
       "n": 0,
       "ncols": null,
       "nrows": 24,
       "postfix": null,
       "prefix": "Iteration: ",
       "rate": null,
       "total": 391,
       "unit": "it",
       "unit_divisor": 1000,
       "unit_scale": false
      },
      "application/vnd.jupyter.widget-view+json": {
       "model_id": "33970f86453243a3a20ce50cd3b3ff85",
       "version_major": 2,
       "version_minor": 0
      },
      "text/plain": [
       "Iteration:   0%|          | 0/391 [00:00<?, ?it/s]"
      ]
     },
     "metadata": {},
     "output_type": "display_data"
    },
    {
     "name": "stdout",
     "output_type": "stream",
     "text": [
      "teacher accuracy: 0.2714596688747406\n",
      "student accuracy: 0.47053006291389465\n"
     ]
    },
    {
     "data": {
      "application/json": {
       "ascii": false,
       "bar_format": null,
       "colour": null,
       "elapsed": 0.009878158569335938,
       "initial": 0,
       "n": 0,
       "ncols": null,
       "nrows": 24,
       "postfix": null,
       "prefix": "Iteration: ",
       "rate": null,
       "total": 391,
       "unit": "it",
       "unit_divisor": 1000,
       "unit_scale": false
      },
      "application/vnd.jupyter.widget-view+json": {
       "model_id": "91169cbc7cef4885be5056570cf1beac",
       "version_major": 2,
       "version_minor": 0
      },
      "text/plain": [
       "Iteration:   0%|          | 0/391 [00:00<?, ?it/s]"
      ]
     },
     "metadata": {},
     "output_type": "display_data"
    },
    {
     "name": "stdout",
     "output_type": "stream",
     "text": [
      "teacher accuracy: 0.2640427350997925\n",
      "student accuracy: 0.4764636158943176\n"
     ]
    },
    {
     "data": {
      "application/json": {
       "ascii": false,
       "bar_format": null,
       "colour": null,
       "elapsed": 0.009998559951782227,
       "initial": 0,
       "n": 0,
       "ncols": null,
       "nrows": 24,
       "postfix": null,
       "prefix": "Iteration: ",
       "rate": null,
       "total": 391,
       "unit": "it",
       "unit_divisor": 1000,
       "unit_scale": false
      },
      "application/vnd.jupyter.widget-view+json": {
       "model_id": "d7cbea9e5b404b63bcb9ed752e4424cd",
       "version_major": 2,
       "version_minor": 0
      },
      "text/plain": [
       "Iteration:   0%|          | 0/391 [00:00<?, ?it/s]"
      ]
     },
     "metadata": {},
     "output_type": "display_data"
    },
    {
     "name": "stdout",
     "output_type": "stream",
     "text": [
      "teacher accuracy: 0.29183149337768555\n",
      "student accuracy: 0.4733979403972626\n"
     ]
    },
    {
     "data": {
      "application/json": {
       "ascii": false,
       "bar_format": null,
       "colour": null,
       "elapsed": 0.009896039962768555,
       "initial": 0,
       "n": 0,
       "ncols": null,
       "nrows": 24,
       "postfix": null,
       "prefix": "Iteration: ",
       "rate": null,
       "total": 391,
       "unit": "it",
       "unit_divisor": 1000,
       "unit_scale": false
      },
      "application/vnd.jupyter.widget-view+json": {
       "model_id": "e47a01346c26417e8de47fdbec6c2bc2",
       "version_major": 2,
       "version_minor": 0
      },
      "text/plain": [
       "Iteration:   0%|          | 0/391 [00:00<?, ?it/s]"
      ]
     },
     "metadata": {},
     "output_type": "display_data"
    },
    {
     "name": "stdout",
     "output_type": "stream",
     "text": [
      "teacher accuracy: 0.2783821225166321\n",
      "student accuracy: 0.4818038046360016\n"
     ]
    },
    {
     "data": {
      "application/json": {
       "ascii": false,
       "bar_format": null,
       "colour": null,
       "elapsed": 0.010128021240234375,
       "initial": 0,
       "n": 0,
       "ncols": null,
       "nrows": 24,
       "postfix": null,
       "prefix": "Iteration: ",
       "rate": null,
       "total": 391,
       "unit": "it",
       "unit_divisor": 1000,
       "unit_scale": false
      },
      "application/vnd.jupyter.widget-view+json": {
       "model_id": "296beea60b864f60b5323f2233cb7442",
       "version_major": 2,
       "version_minor": 0
      },
      "text/plain": [
       "Iteration:   0%|          | 0/391 [00:00<?, ?it/s]"
      ]
     },
     "metadata": {},
     "output_type": "display_data"
    },
    {
     "name": "stdout",
     "output_type": "stream",
     "text": [
      "teacher accuracy: 0.21410205960273743\n",
      "student accuracy: 0.4629153609275818\n"
     ]
    },
    {
     "data": {
      "application/json": {
       "ascii": false,
       "bar_format": null,
       "colour": null,
       "elapsed": 0.009927988052368164,
       "initial": 0,
       "n": 0,
       "ncols": null,
       "nrows": 24,
       "postfix": null,
       "prefix": "Iteration: ",
       "rate": null,
       "total": 391,
       "unit": "it",
       "unit_divisor": 1000,
       "unit_scale": false
      },
      "application/vnd.jupyter.widget-view+json": {
       "model_id": "12e83e6e3d58420eb4d4aa7b3a476974",
       "version_major": 2,
       "version_minor": 0
      },
      "text/plain": [
       "Iteration:   0%|          | 0/391 [00:00<?, ?it/s]"
      ]
     },
     "metadata": {},
     "output_type": "display_data"
    },
    {
     "name": "stdout",
     "output_type": "stream",
     "text": [
      "teacher accuracy: 0.2936115562915802\n",
      "student accuracy: 0.4775514304637909\n"
     ]
    },
    {
     "data": {
      "application/json": {
       "ascii": false,
       "bar_format": null,
       "colour": null,
       "elapsed": 0.00996088981628418,
       "initial": 0,
       "n": 0,
       "ncols": null,
       "nrows": 24,
       "postfix": null,
       "prefix": "Iteration: ",
       "rate": null,
       "total": 391,
       "unit": "it",
       "unit_divisor": 1000,
       "unit_scale": false
      },
      "application/vnd.jupyter.widget-view+json": {
       "model_id": "70e359f8ac5d4a36b61779149df7b469",
       "version_major": 2,
       "version_minor": 0
      },
      "text/plain": [
       "Iteration:   0%|          | 0/391 [00:00<?, ?it/s]"
      ]
     },
     "metadata": {},
     "output_type": "display_data"
    },
    {
     "name": "stdout",
     "output_type": "stream",
     "text": [
      "teacher accuracy: 0.27136075496673584\n",
      "student accuracy: 0.4744857847690582\n"
     ]
    },
    {
     "data": {
      "application/json": {
       "ascii": false,
       "bar_format": null,
       "colour": null,
       "elapsed": 0.009670495986938477,
       "initial": 0,
       "n": 0,
       "ncols": null,
       "nrows": 24,
       "postfix": null,
       "prefix": "Iteration: ",
       "rate": null,
       "total": 391,
       "unit": "it",
       "unit_divisor": 1000,
       "unit_scale": false
      },
      "application/vnd.jupyter.widget-view+json": {
       "model_id": "13306076b83c4570826873ce9c586e2e",
       "version_major": 2,
       "version_minor": 0
      },
      "text/plain": [
       "Iteration:   0%|          | 0/391 [00:00<?, ?it/s]"
      ]
     },
     "metadata": {},
     "output_type": "display_data"
    },
    {
     "name": "stdout",
     "output_type": "stream",
     "text": [
      "teacher accuracy: 0.28045886754989624\n",
      "student accuracy: 0.4826938509941101\n"
     ]
    },
    {
     "data": {
      "application/json": {
       "ascii": false,
       "bar_format": null,
       "colour": null,
       "elapsed": 0.009979009628295898,
       "initial": 0,
       "n": 0,
       "ncols": null,
       "nrows": 24,
       "postfix": null,
       "prefix": "Iteration: ",
       "rate": null,
       "total": 391,
       "unit": "it",
       "unit_divisor": 1000,
       "unit_scale": false
      },
      "application/vnd.jupyter.widget-view+json": {
       "model_id": "fae725f83610479c9c5134064aa2bd92",
       "version_major": 2,
       "version_minor": 0
      },
      "text/plain": [
       "Iteration:   0%|          | 0/391 [00:00<?, ?it/s]"
      ]
     },
     "metadata": {},
     "output_type": "display_data"
    },
    {
     "name": "stdout",
     "output_type": "stream",
     "text": [
      "teacher accuracy: 0.2519778609275818\n",
      "student accuracy: 0.482496052980423\n"
     ]
    },
    {
     "data": {
      "application/json": {
       "ascii": false,
       "bar_format": null,
       "colour": null,
       "elapsed": 0.009891271591186523,
       "initial": 0,
       "n": 0,
       "ncols": null,
       "nrows": 24,
       "postfix": null,
       "prefix": "Iteration: ",
       "rate": null,
       "total": 391,
       "unit": "it",
       "unit_divisor": 1000,
       "unit_scale": false
      },
      "application/vnd.jupyter.widget-view+json": {
       "model_id": "4d2b918427c1477c8be06ec588b0aa8d",
       "version_major": 2,
       "version_minor": 0
      },
      "text/plain": [
       "Iteration:   0%|          | 0/391 [00:00<?, ?it/s]"
      ]
     },
     "metadata": {},
     "output_type": "display_data"
    },
    {
     "name": "stdout",
     "output_type": "stream",
     "text": [
      "teacher accuracy: 0.2157832384109497\n",
      "student accuracy: 0.451839417219162\n"
     ]
    },
    {
     "data": {
      "application/json": {
       "ascii": false,
       "bar_format": null,
       "colour": null,
       "elapsed": 0.010006427764892578,
       "initial": 0,
       "n": 0,
       "ncols": null,
       "nrows": 24,
       "postfix": null,
       "prefix": "Iteration: ",
       "rate": null,
       "total": 391,
       "unit": "it",
       "unit_divisor": 1000,
       "unit_scale": false
      },
      "application/vnd.jupyter.widget-view+json": {
       "model_id": "e117473b5d58456dbc17dc5e0e7e0ed4",
       "version_major": 2,
       "version_minor": 0
      },
      "text/plain": [
       "Iteration:   0%|          | 0/391 [00:00<?, ?it/s]"
      ]
     },
     "metadata": {},
     "output_type": "display_data"
    },
    {
     "name": "stdout",
     "output_type": "stream",
     "text": [
      "teacher accuracy: 0.27521756291389465\n",
      "student accuracy: 0.48447391390800476\n"
     ]
    },
    {
     "data": {
      "application/json": {
       "ascii": false,
       "bar_format": null,
       "colour": null,
       "elapsed": 0.009743690490722656,
       "initial": 0,
       "n": 0,
       "ncols": null,
       "nrows": 24,
       "postfix": null,
       "prefix": "Iteration: ",
       "rate": null,
       "total": 391,
       "unit": "it",
       "unit_divisor": 1000,
       "unit_scale": false
      },
      "application/vnd.jupyter.widget-view+json": {
       "model_id": "2a4e95416a444e38859b7c5c20190580",
       "version_major": 2,
       "version_minor": 0
      },
      "text/plain": [
       "Iteration:   0%|          | 0/391 [00:00<?, ?it/s]"
      ]
     },
     "metadata": {},
     "output_type": "display_data"
    },
    {
     "name": "stdout",
     "output_type": "stream",
     "text": [
      "teacher accuracy: 0.2582080662250519\n",
      "student accuracy: 0.47507911920547485\n"
     ]
    },
    {
     "data": {
      "application/json": {
       "ascii": false,
       "bar_format": null,
       "colour": null,
       "elapsed": 0.009547233581542969,
       "initial": 0,
       "n": 0,
       "ncols": null,
       "nrows": 24,
       "postfix": null,
       "prefix": "Iteration: ",
       "rate": null,
       "total": 391,
       "unit": "it",
       "unit_divisor": 1000,
       "unit_scale": false
      },
      "application/vnd.jupyter.widget-view+json": {
       "model_id": "23a4327e2e7c49389db39ed880b9762b",
       "version_major": 2,
       "version_minor": 0
      },
      "text/plain": [
       "Iteration:   0%|          | 0/391 [00:00<?, ?it/s]"
      ]
     },
     "metadata": {},
     "output_type": "display_data"
    },
    {
     "name": "stdout",
     "output_type": "stream",
     "text": [
      "teacher accuracy: 0.3156645596027374\n",
      "student accuracy: 0.4928797483444214\n"
     ]
    },
    {
     "data": {
      "application/json": {
       "ascii": false,
       "bar_format": null,
       "colour": null,
       "elapsed": 0.00983738899230957,
       "initial": 0,
       "n": 0,
       "ncols": null,
       "nrows": 24,
       "postfix": null,
       "prefix": "Iteration: ",
       "rate": null,
       "total": 391,
       "unit": "it",
       "unit_divisor": 1000,
       "unit_scale": false
      },
      "application/vnd.jupyter.widget-view+json": {
       "model_id": "244936fe302d478a89d69c2e97cd5576",
       "version_major": 2,
       "version_minor": 0
      },
      "text/plain": [
       "Iteration:   0%|          | 0/391 [00:00<?, ?it/s]"
      ]
     },
     "metadata": {},
     "output_type": "display_data"
    },
    {
     "name": "stdout",
     "output_type": "stream",
     "text": [
      "teacher accuracy: 0.21785996854305267\n",
      "student accuracy: 0.49228641390800476\n"
     ]
    },
    {
     "data": {
      "application/json": {
       "ascii": false,
       "bar_format": null,
       "colour": null,
       "elapsed": 0.010534048080444336,
       "initial": 0,
       "n": 0,
       "ncols": null,
       "nrows": 24,
       "postfix": null,
       "prefix": "Iteration: ",
       "rate": null,
       "total": 391,
       "unit": "it",
       "unit_divisor": 1000,
       "unit_scale": false
      },
      "application/vnd.jupyter.widget-view+json": {
       "model_id": "fe2e84eab54942e4919af7d60d5879ac",
       "version_major": 2,
       "version_minor": 0
      },
      "text/plain": [
       "Iteration:   0%|          | 0/391 [00:00<?, ?it/s]"
      ]
     },
     "metadata": {},
     "output_type": "display_data"
    },
    {
     "name": "stdout",
     "output_type": "stream",
     "text": [
      "teacher accuracy: 0.24732990562915802\n",
      "student accuracy: 0.4921875\n"
     ]
    },
    {
     "data": {
      "application/json": {
       "ascii": false,
       "bar_format": null,
       "colour": null,
       "elapsed": 0.009929180145263672,
       "initial": 0,
       "n": 0,
       "ncols": null,
       "nrows": 24,
       "postfix": null,
       "prefix": "Iteration: ",
       "rate": null,
       "total": 391,
       "unit": "it",
       "unit_divisor": 1000,
       "unit_scale": false
      },
      "application/vnd.jupyter.widget-view+json": {
       "model_id": "0f26fa85f3ec4442b298c30e61aff550",
       "version_major": 2,
       "version_minor": 0
      },
      "text/plain": [
       "Iteration:   0%|          | 0/391 [00:00<?, ?it/s]"
      ]
     },
     "metadata": {},
     "output_type": "display_data"
    },
    {
     "name": "stdout",
     "output_type": "stream",
     "text": [
      "teacher accuracy: 0.27917325496673584\n",
      "student accuracy: 0.4898141026496887\n"
     ]
    }
   ],
   "source": [
    "from tqdm.auto import tqdm\n",
    "\n",
    "num_epochs = 50\n",
    "\n",
    "def train():\n",
    "    for epoch in range(num_epochs):\n",
    "        with tqdm(total=len(train_dataloader), desc=\"Iteration: \") as progress_bar:\n",
    "            for batch in train_dataloader:\n",
    "                result = train_step(teacher_model, student_model, teacher_optimizer, student_optimizer, batch)\n",
    "                progress_bar.update()\n",
    "\n",
    "            eval_result = run_evaluation(teacher_model, student_model, test_dataloader)\n",
    "            print(f\"teacher accuracy: {eval_result['teacher_accuracy']}\")\n",
    "            print(f\"student accuracy: {eval_result['student_accuracy']}\")\n",
    "\n",
    "\n",
    "train()"
   ]
  },
  {
   "cell_type": "code",
   "execution_count": 18,
   "id": "4e07dd2d-711d-4f88-9cc8-07258a9e35fd",
   "metadata": {},
   "outputs": [
    {
     "data": {
      "text/plain": [
       "{'teacher_accuracy': tensor(0.2792, device='cuda:0'),\n",
       " 'student_accuracy': tensor(0.4898, device='cuda:0')}"
      ]
     },
     "execution_count": 18,
     "metadata": {},
     "output_type": "execute_result"
    }
   ],
   "source": [
    "run_evaluation(teacher_model, student_model, test_dataloader)"
   ]
  },
  {
   "cell_type": "code",
   "execution_count": null,
   "id": "871469ba-c441-4d19-bf52-81f429b56967",
   "metadata": {},
   "outputs": [],
   "source": []
  }
 ],
 "metadata": {
  "kernelspec": {
   "display_name": "Python 3 (ipykernel)",
   "language": "python",
   "name": "python3"
  },
  "language_info": {
   "codemirror_mode": {
    "name": "ipython",
    "version": 3
   },
   "file_extension": ".py",
   "mimetype": "text/x-python",
   "name": "python",
   "nbconvert_exporter": "python",
   "pygments_lexer": "ipython3",
   "version": "3.8.10"
  }
 },
 "nbformat": 4,
 "nbformat_minor": 5
}
