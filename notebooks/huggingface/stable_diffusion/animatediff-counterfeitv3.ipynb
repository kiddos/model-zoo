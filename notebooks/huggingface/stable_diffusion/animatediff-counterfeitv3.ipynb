{
 "cells": [
  {
   "cell_type": "code",
   "execution_count": 1,
   "id": "01d80d3c-eb2f-42fc-aa11-c75376e18f40",
   "metadata": {},
   "outputs": [
    {
     "name": "stderr",
     "output_type": "stream",
     "text": [
      "`text_config_dict` is provided which will be used to initialize `CLIPTextConfig`. The value `text_config[\"id2label\"]` will be overriden.\n",
      "`text_config_dict` is provided which will be used to initialize `CLIPTextConfig`. The value `text_config[\"bos_token_id\"]` will be overriden.\n",
      "`text_config_dict` is provided which will be used to initialize `CLIPTextConfig`. The value `text_config[\"eos_token_id\"]` will be overriden.\n",
      "/home/kiddos/.pyenv/versions/3.11.4/lib/python3.11/site-packages/transformers/models/clip/feature_extraction_clip.py:28: FutureWarning: The class CLIPFeatureExtractor is deprecated and will be removed in version 5 of Transformers. Please use CLIPImageProcessor instead.\n",
      "  warnings.warn(\n"
     ]
    }
   ],
   "source": [
    "import torch\n",
    "from diffusers import StableDiffusionPipeline\n",
    "from diffusers.utils import export_to_gif\n",
    "import os\n",
    "import os.path as path\n",
    "\n",
    "home = os.getenv('HOME')\n",
    "p = StableDiffusionPipeline.from_single_file(path.join(home, 'civitai', 'animatediff', 'counterfeitV30_v30.safetensors'))"
   ]
  },
  {
   "cell_type": "code",
   "execution_count": 2,
   "id": "0c8de9b0-7cd1-4a62-993f-663a8affa6b3",
   "metadata": {},
   "outputs": [
    {
     "name": "stderr",
     "output_type": "stream",
     "text": [
      "The config attributes {'motion_activation_fn': 'geglu', 'motion_attention_bias': False, 'motion_cross_attention_dim': None} were passed to MotionAdapter, but are not expected and will be ignored. Please verify your config.json configuration file.\n"
     ]
    },
    {
     "data": {
      "application/vnd.jupyter.widget-view+json": {
       "model_id": "5ab9aecb2f7946079463a270224612b2",
       "version_major": 2,
       "version_minor": 0
      },
      "text/plain": [
       "Loading pipeline components...:   0%|          | 0/6 [00:00<?, ?it/s]"
      ]
     },
     "metadata": {},
     "output_type": "display_data"
    },
    {
     "name": "stderr",
     "output_type": "stream",
     "text": [
      "The config attributes {'transformer_layers_per_block': 1, 'attention_head_dim': 8, 'class_embed_type': None, 'addition_embed_type': None, 'addition_time_embed_dim': None, 'upcast_attention': None, 'projection_class_embeddings_input_dim': None} were passed to UNetMotionModel, but are not expected and will be ignored. Please verify your config.json configuration file.\n"
     ]
    }
   ],
   "source": [
    "import torch\n",
    "from diffusers import MotionAdapter, AnimateDiffPipeline, DDIMScheduler\n",
    "from diffusers.utils import export_to_gif\n",
    "import os\n",
    "import os.path as path\n",
    "\n",
    "adapter = MotionAdapter.from_pretrained(\"guoyww/animatediff-motion-adapter-v1-5-2\")\n",
    "model_id = \"runwayml/stable-diffusion-v1-5\"\n",
    "pipe = AnimateDiffPipeline.from_pretrained(\n",
    "  model_id,\n",
    "  vae=p.vae.to(torch.float16),\n",
    "  unet=p.unet.to(torch.float16),\n",
    "  tokenizer=p.tokenizer,\n",
    "  motion_adapter=adapter,\n",
    "  torch_dtype=torch.float16,\n",
    "  use_safetensors=True,\n",
    ")\n",
    "scheduler = DDIMScheduler.from_pretrained(\n",
    "  model_id,\n",
    "  subfolder=\"scheduler\",\n",
    "  clip_sample=False,\n",
    "  timestep_spacing=\"linspace\",\n",
    "  beta_schedule=\"linear\",\n",
    "  steps_offset=1,\n",
    ")\n",
    "pipe.scheduler = scheduler\n",
    "\n",
    "# pipe.enable_sequential_cpu_offload()\n",
    "pipe.enable_vae_slicing()\n",
    "pipe.enable_model_cpu_offload()"
   ]
  },
  {
   "cell_type": "code",
   "execution_count": 3,
   "id": "58f99c3e-99f0-469e-bdc6-eb76a7d48b38",
   "metadata": {},
   "outputs": [
    {
     "data": {
      "application/vnd.jupyter.widget-view+json": {
       "model_id": "e5a33eafff834dacae08a0cea969b026",
       "version_major": 2,
       "version_minor": 0
      },
      "text/plain": [
       "  0%|          | 0/30 [00:00<?, ?it/s]"
      ]
     },
     "metadata": {},
     "output_type": "display_data"
    },
    {
     "data": {
      "text/plain": [
       "'/tmp/animatediff.gif'"
      ]
     },
     "execution_count": 3,
     "metadata": {},
     "output_type": "execute_result"
    }
   ],
   "source": [
    "prompt = '(masterpiece, best quality),1girl, solo, flower, long hair, outdoors, letterboxed, school uniform, day, sky, looking up, short sleeves, parted lips, shirt, cloud, black hair, sunlight, white shirt, serafuku, upper body, from side, pink flower, blurry, brown hair, blue sky, depth of field'\n",
    "\n",
    "generator = torch.Generator(\"cpu\").manual_seed(2311942344)\n",
    "output = pipe(\n",
    "  prompt=prompt.strip(),\n",
    "  num_frames=16,\n",
    "  guidance_scale=9.0,\n",
    "  num_inference_steps=30,\n",
    "  generator=generator,\n",
    "  clip_skip=2,\n",
    ")\n",
    "frames = output.frames[0]\n",
    "export_to_gif(frames, \"/tmp/animatediff.gif\")"
   ]
  },
  {
   "cell_type": "code",
   "execution_count": 4,
   "id": "ed0ee498-9b0a-4615-958f-5125628ce8ae",
   "metadata": {},
   "outputs": [
    {
     "data": {
      "application/vnd.jupyter.widget-view+json": {
       "model_id": "86cadb5e54bb4da0b7c4051d08846af9",
       "version_major": 2,
       "version_minor": 0
      },
      "text/plain": [
       "  0%|          | 0/30 [00:00<?, ?it/s]"
      ]
     },
     "metadata": {},
     "output_type": "display_data"
    },
    {
     "data": {
      "text/plain": [
       "'/tmp/animatediff2.gif'"
      ]
     },
     "execution_count": 4,
     "metadata": {},
     "output_type": "execute_result"
    }
   ],
   "source": [
    "prompt = '(masterpiece, best quality),1girl with long white hair sitting in a field of green plants and flowers, her hand under her chin, warm lighting, white dress, blurry foreground'\n",
    "\n",
    "generator = torch.Generator(\"cpu\").manual_seed(1293666383)\n",
    "output = pipe(\n",
    "  prompt=prompt.strip(),\n",
    "  num_frames=16,\n",
    "  guidance_scale=9.0,\n",
    "  num_inference_steps=30,\n",
    "  generator=generator,\n",
    "  clip_skip=2,\n",
    ")\n",
    "frames = output.frames[0]\n",
    "export_to_gif(frames, \"/tmp/animatediff2.gif\")"
   ]
  },
  {
   "cell_type": "code",
   "execution_count": 5,
   "id": "687050fb-96c6-4908-a62e-f7f4dd6c848c",
   "metadata": {},
   "outputs": [
    {
     "data": {
      "application/vnd.jupyter.widget-view+json": {
       "model_id": "be51200207324321862b21215d6234df",
       "version_major": 2,
       "version_minor": 0
      },
      "text/plain": [
       "  0%|          | 0/30 [00:00<?, ?it/s]"
      ]
     },
     "metadata": {},
     "output_type": "display_data"
    },
    {
     "data": {
      "text/plain": [
       "'/tmp/animatediff3.gif'"
      ]
     },
     "execution_count": 5,
     "metadata": {},
     "output_type": "execute_result"
    }
   ],
   "source": [
    "prompt = '((masterpiece,best quality)), 1girl, guinaifen, long kimono, long sleeves, fur trim, floral print, grin, petals, cherry blossoms, oil-paper umbrella, simple background,'\n",
    "negative_prompt = 'bad-artist, (low quality, worst quality:1.4), (extra fingers, fewer fingers), Ugly Fingers, (deformed fingers:1.4), extra arms, extra legs, watermark, username, artist name,'\n",
    "\n",
    "output = pipe(\n",
    "  prompt=prompt.strip(),\n",
    "  negative_prompt=negative_prompt.strip(),\n",
    "  num_frames=16,\n",
    "  guidance_scale=10.0,\n",
    "  num_inference_steps=30,\n",
    "  clip_skip=2,\n",
    ")\n",
    "frames = output.frames[0]\n",
    "export_to_gif(frames, \"/tmp/animatediff3.gif\")"
   ]
  },
  {
   "cell_type": "code",
   "execution_count": 6,
   "id": "c19a3f7e-0c9b-4753-8dce-7d3d7d3f71ef",
   "metadata": {},
   "outputs": [
    {
     "data": {
      "application/vnd.jupyter.widget-view+json": {
       "model_id": "0782c98e041049138e36e4158e3b22bf",
       "version_major": 2,
       "version_minor": 0
      },
      "text/plain": [
       "  0%|          | 0/40 [00:00<?, ?it/s]"
      ]
     },
     "metadata": {},
     "output_type": "display_data"
    },
    {
     "data": {
      "text/plain": [
       "'/tmp/animatediff4.gif'"
      ]
     },
     "execution_count": 6,
     "metadata": {},
     "output_type": "execute_result"
    }
   ],
   "source": [
    "prompt = '(masterpiece, best quality: 1.4), (1girl), long straight white hair, blue eyes, detailed face, sailor uniform, detailed clothing, combat pose, gust of wind, vivid colors, highest resolution, wallpaper, professional illustration, (realistic:1.2), intricate, highly detailed, landscape, dramatic lighting, cityscape view from harbor, daylight summertime'\n",
    "negative_prompt = '(((deformed))), blurry, bad anatomy, disfigured, poorly drawn face, mutation, mutated, (extra_limb), (ugly), (poorly drawn hands), fused fingers, messy drawing, broken legs, (mutated hands and fingers:1.5), (long body :1.3), (mutation, poorly drawn :1.2), black-white, bad anatomy, liquid body, liquid tongue, disfigured, malformed, mutated, anatomical nonsense, error, malformed hands, long neck, blurred, low res, bad anatomy, bad proportions, bad shadow, uncoordinated body, unnatural body, huge breasts, huge haunch, huge thighs, huge calf, bad hands, fused hand, missing hand, disappearing arms, disappearing thigh, disappearing calf, disappearing legs, fused ears, bad ears, poorly drawn ears, extra ears, liquid ears, heavy ears, missing ears, fused animal ears, bad animal ears, poorly drawn animal ears, extra animal ears, liquid animal ears, heavy animal ears, missing animal ears, text, ui, error, missing fingers, missing limb, fused fingers, one hand with more than 5 fingers, one hand with less than 5 fingers, one hand with more than 5 digit, one hand with less than 5 digit, extra digit, fewer digits, fused digit, missing digit, bad digit, liquid digit, colorful tongue, black tongue, cropped, watermark, username, JPEG artifacts, signature, 3D, 3D game, 3D game scene, 3D character, malformed feet, extra feet, bad feet, poorly drawn feet, fused feet, missing feet, extra shoes, bad shoes, fused shoes, more than two shoes, poorly drawn shoes, bad gloves, poorly drawn gloves, fused gloves, bad hairs, poorly drawn hairs, fused hairs, big muscles, ugly, bad face, fused face, poorly drawn face, cloned face, big face, long face, bad eyes, fused eyes, poorly drawn eyes, extra eyes, malformed limbs, gross proportions, large breasts, elderly, extra limbs, watermark, logo, low resolution, medium resolution, deformed body, deformed limbs, ugly face, harelip, asymmetrical face, asymmetrical body, asymmetrical ears, ((multiple girls)), mutation, third leg, third arm, third hand, sixth finger, absurd fingers, merged limbs, amputated limbs, low lighting, dark, bleak color, overexposure, washed out color'\n",
    "\n",
    "generator = torch.Generator(\"cpu\").manual_seed(2378845630)\n",
    "output = pipe(\n",
    "  prompt=prompt.strip(),\n",
    "  negative_prompt=negative_prompt.strip(),\n",
    "  num_frames=16,\n",
    "  guidance_scale=8.5,\n",
    "  num_inference_steps=40,\n",
    "  clip_skip=2,\n",
    ")\n",
    "frames = output.frames[0]\n",
    "export_to_gif(frames, \"/tmp/animatediff4.gif\")"
   ]
  },
  {
   "cell_type": "code",
   "execution_count": null,
   "id": "7fc7ed28-4705-4c38-b5fb-9e6f1bb9befe",
   "metadata": {},
   "outputs": [],
   "source": []
  }
 ],
 "metadata": {
  "kernelspec": {
   "display_name": "Python 3 (ipykernel)",
   "language": "python",
   "name": "python3"
  },
  "language_info": {
   "codemirror_mode": {
    "name": "ipython",
    "version": 3
   },
   "file_extension": ".py",
   "mimetype": "text/x-python",
   "name": "python",
   "nbconvert_exporter": "python",
   "pygments_lexer": "ipython3",
   "version": "3.11.4"
  }
 },
 "nbformat": 4,
 "nbformat_minor": 5
}
