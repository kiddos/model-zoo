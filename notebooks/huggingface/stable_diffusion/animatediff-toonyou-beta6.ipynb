{
 "cells": [
  {
   "cell_type": "code",
   "execution_count": 1,
   "id": "6e362e6a-7f68-4fde-9b45-6b6eddad14fc",
   "metadata": {},
   "outputs": [
    {
     "name": "stderr",
     "output_type": "stream",
     "text": [
      "`text_config_dict` is provided which will be used to initialize `CLIPTextConfig`. The value `text_config[\"id2label\"]` will be overriden.\n",
      "`text_config_dict` is provided which will be used to initialize `CLIPTextConfig`. The value `text_config[\"bos_token_id\"]` will be overriden.\n",
      "`text_config_dict` is provided which will be used to initialize `CLIPTextConfig`. The value `text_config[\"eos_token_id\"]` will be overriden.\n",
      "/home/kiddos/.pyenv/versions/3.11.4/lib/python3.11/site-packages/transformers/models/clip/feature_extraction_clip.py:28: FutureWarning: The class CLIPFeatureExtractor is deprecated and will be removed in version 5 of Transformers. Please use CLIPImageProcessor instead.\n",
      "  warnings.warn(\n"
     ]
    }
   ],
   "source": [
    "import torch\n",
    "from diffusers import StableDiffusionPipeline\n",
    "from diffusers.utils import export_to_gif\n",
    "import os\n",
    "import os.path as path\n",
    "\n",
    "home = os.getenv('HOME')\n",
    "p = StableDiffusionPipeline.from_single_file(path.join(home, 'civitai', 'animatediff', 'toonyou_beta6.safetensors'))"
   ]
  },
  {
   "cell_type": "code",
   "execution_count": 2,
   "id": "30e26cc3-9805-4c7d-b2f9-6c0e2a323e20",
   "metadata": {},
   "outputs": [
    {
     "name": "stderr",
     "output_type": "stream",
     "text": [
      "The config attributes {'motion_activation_fn': 'geglu', 'motion_attention_bias': False, 'motion_cross_attention_dim': None} were passed to MotionAdapter, but are not expected and will be ignored. Please verify your config.json configuration file.\n"
     ]
    },
    {
     "data": {
      "application/vnd.jupyter.widget-view+json": {
       "model_id": "b7d898069d324049be5ad794ace3fdec",
       "version_major": 2,
       "version_minor": 0
      },
      "text/plain": [
       "Loading pipeline components...:   0%|          | 0/6 [00:00<?, ?it/s]"
      ]
     },
     "metadata": {},
     "output_type": "display_data"
    },
    {
     "name": "stderr",
     "output_type": "stream",
     "text": [
      "The config attributes {'transformer_layers_per_block': 1, 'attention_head_dim': 8, 'class_embed_type': None, 'addition_embed_type': None, 'addition_time_embed_dim': None, 'upcast_attention': None, 'projection_class_embeddings_input_dim': None} were passed to UNetMotionModel, but are not expected and will be ignored. Please verify your config.json configuration file.\n"
     ]
    }
   ],
   "source": [
    "import torch\n",
    "from diffusers import MotionAdapter, AnimateDiffPipeline, DDIMScheduler\n",
    "from diffusers.utils import export_to_gif\n",
    "import os\n",
    "import os.path as path\n",
    "\n",
    "adapter = MotionAdapter.from_pretrained(\"guoyww/animatediff-motion-adapter-v1-5-2\")\n",
    "model_id = \"runwayml/stable-diffusion-v1-5\"\n",
    "pipe = AnimateDiffPipeline.from_pretrained(\n",
    "  model_id,\n",
    "  vae=p.vae.to(torch.float16),\n",
    "  unet=p.unet.to(torch.float16),\n",
    "  tokenizer=p.tokenizer,\n",
    "  motion_adapter=adapter,\n",
    "  torch_dtype=torch.float16,\n",
    "  use_safetensors=True,\n",
    ")\n",
    "scheduler = DDIMScheduler.from_pretrained(\n",
    "  model_id,\n",
    "  subfolder=\"scheduler\",\n",
    "  clip_sample=False,\n",
    "  timestep_spacing=\"linspace\",\n",
    "  beta_schedule=\"linear\",\n",
    "  steps_offset=1,\n",
    ")\n",
    "pipe.scheduler = scheduler\n",
    "\n",
    "# pipe.enable_sequential_cpu_offload()\n",
    "pipe.enable_vae_slicing()\n",
    "pipe.enable_model_cpu_offload()"
   ]
  },
  {
   "cell_type": "code",
   "execution_count": 3,
   "id": "c1cbadb8-07f5-4e2c-9df3-b58da1281e31",
   "metadata": {},
   "outputs": [
    {
     "data": {
      "application/vnd.jupyter.widget-view+json": {
       "model_id": "6270e5a6015f46149fa3b4c1115fe2cf",
       "version_major": 2,
       "version_minor": 0
      },
      "text/plain": [
       "  0%|          | 0/30 [00:00<?, ?it/s]"
      ]
     },
     "metadata": {},
     "output_type": "display_data"
    },
    {
     "data": {
      "text/plain": [
       "'/tmp/animatediff.gif'"
      ]
     },
     "execution_count": 3,
     "metadata": {},
     "output_type": "execute_result"
    }
   ],
   "source": [
    "prompt = '(masterpiece, best quality), 1girl, collarbone, wavy hair, looking at viewer, blurry foreground, upper body, necklace, contemporary, plain pants, ((intricate, print, pattern)), ponytail, freckles, red hair, dappled sunlight, smile, happy,'\n",
    "negative_prompt = '(worst quality, low quality, letterboxed)'\n",
    "\n",
    "generator = torch.Generator(\"cpu\").manual_seed(60219178091283)\n",
    "output = pipe(\n",
    "  prompt=prompt.strip(),\n",
    "  negative_prompt=negative_prompt.strip(),\n",
    "  num_frames=16,\n",
    "  guidance_scale=7.5,\n",
    "  num_inference_steps=30,\n",
    "  generator=generator,\n",
    ")\n",
    "frames = output.frames[0]\n",
    "export_to_gif(frames, \"/tmp/animatediff.gif\")"
   ]
  },
  {
   "cell_type": "code",
   "execution_count": null,
   "id": "3af2f51f-3672-4a5e-9c48-ac01696540ae",
   "metadata": {},
   "outputs": [],
   "source": []
  }
 ],
 "metadata": {
  "kernelspec": {
   "display_name": "Python 3 (ipykernel)",
   "language": "python",
   "name": "python3"
  },
  "language_info": {
   "codemirror_mode": {
    "name": "ipython",
    "version": 3
   },
   "file_extension": ".py",
   "mimetype": "text/x-python",
   "name": "python",
   "nbconvert_exporter": "python",
   "pygments_lexer": "ipython3",
   "version": "3.11.4"
  }
 },
 "nbformat": 4,
 "nbformat_minor": 5
}
