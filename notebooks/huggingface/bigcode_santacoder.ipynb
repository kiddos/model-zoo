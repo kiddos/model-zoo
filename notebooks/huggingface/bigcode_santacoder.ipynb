{
 "cells": [
  {
   "cell_type": "code",
   "execution_count": 1,
   "id": "dc9d3aa1-6e63-4261-90d6-d2d1f953ee62",
   "metadata": {},
   "outputs": [],
   "source": [
    "from transformers import pipeline, AutoTokenizer\n",
    "import torch\n",
    "\n",
    "model_id = 'bigcode/santacoder'\n",
    "\n",
    "tokenizer = AutoTokenizer.from_pretrained(model_id)\n",
    "\n",
    "pipeline = pipeline(\n",
    "  'text-generation',\n",
    "  model=model_id,\n",
    "  tokenizer=tokenizer,\n",
    "  trust_remote_code=True,\n",
    "  device='cuda',\n",
    ")"
   ]
  },
  {
   "cell_type": "code",
   "execution_count": 2,
   "id": "68976125-6513-4edc-827c-9bb6eecb496a",
   "metadata": {
    "scrolled": true,
    "tags": []
   },
   "outputs": [
    {
     "name": "stderr",
     "output_type": "stream",
     "text": [
      "Setting `pad_token_id` to `eos_token_id`:49152 for open-end generation.\n"
     ]
    },
    {
     "name": "stdout",
     "output_type": "stream",
     "text": [
      "def print_hello_world():\n",
      "    return \"Hello World!\"\n",
      "\n",
      "print(print_hello_world())\n"
     ]
    }
   ],
   "source": [
    "input_code = 'def print_hello_world():'\n",
    "\n",
    "output_code = pipeline(\n",
    "  input_code,\n",
    "  max_length=1024,\n",
    "  do_sample=True,\n",
    "  top_k=10,\n",
    "  early_stopping=True,\n",
    "  num_return_sequences=1,\n",
    ")\n",
    "\n",
    "print(output_code[0]['generated_text'])"
   ]
  },
  {
   "cell_type": "code",
   "execution_count": 3,
   "id": "eaceed1f-3bb0-4642-83e8-eef5e1004510",
   "metadata": {},
   "outputs": [
    {
     "name": "stderr",
     "output_type": "stream",
     "text": [
      "Setting `pad_token_id` to `eos_token_id`:49152 for open-end generation.\n"
     ]
    },
    {
     "name": "stdout",
     "output_type": "stream",
     "text": [
      "<fim-prefix>def print_hello_world():\n",
      "    <fim-suffix>\n",
      "    print('Hello world!')<fim-middle>print(__name__)\n"
     ]
    }
   ],
   "source": [
    "input_code = \"<fim-prefix>def print_hello_world():\\n    <fim-suffix>\\n    print('Hello world!')<fim-middle>\"\n",
    "\n",
    "output_code = pipeline(\n",
    "  input_code,\n",
    "  max_length=1024,\n",
    "  do_sample=True,\n",
    "  top_k=10,\n",
    "  early_stopping=True,\n",
    "  num_return_sequences=1,\n",
    ")\n",
    "\n",
    "print(output_code[0]['generated_text'])"
   ]
  },
  {
   "cell_type": "code",
   "execution_count": 4,
   "id": "85285e5e-4001-48ae-981c-8c3ef5ef5d9c",
   "metadata": {
    "scrolled": true,
    "tags": []
   },
   "outputs": [
    {
     "name": "stderr",
     "output_type": "stream",
     "text": [
      "Setting `pad_token_id` to `eos_token_id`:49152 for open-end generation.\n"
     ]
    },
    {
     "name": "stdout",
     "output_type": "stream",
     "text": [
      "@Test public void testGPSLocation() {\n",
      "\t\t// Given a list of 2 different GPS locations\n",
      "\t\tfinal ArrayList<GPSLocation> list1 = new ArrayList<GPSLocation>();\n",
      "\t\tlist1.add(this.createLocation(13.4, 109.2));\n",
      "\t\tlist1.add(this.createLocation(13.45, 104.2));\n",
      "\t\t// When searching for the third location\n",
      "\t\tfinal GPSLocation loc = Search.find(this.search, list1);\n",
      "\t\t// Then 2 matching locations are found\n",
      "\t\tfinal Location[] l1 = this.search.getLocations();\n",
      "\t\tfinal Location[] l2 = loc.getLocations();\n",
      "\t\tAssert.assertEquals(l1[2].getLatitude(), l2[2].getLatitude(),.0001);\n",
      "\t\tAssert.assertEquals(l1[2].getLongitude(), l2[2].getLongitude(),.0001);\n",
      "\n",
      "\t}\n",
      "\n",
      "}\n",
      "\n"
     ]
    }
   ],
   "source": [
    "input_code = \"@Test public void testGPSLocation() {\"\n",
    "\n",
    "output_code = pipeline(\n",
    "  input_code,\n",
    "  max_length=1024,\n",
    "  do_sample=True,\n",
    "  early_stopping=True,\n",
    ")\n",
    "\n",
    "print(output_code[0]['generated_text'])"
   ]
  },
  {
   "cell_type": "code",
   "execution_count": null,
   "id": "3f6d95df-f77c-4642-b765-ac4c02b82e87",
   "metadata": {},
   "outputs": [],
   "source": []
  }
 ],
 "metadata": {
  "kernelspec": {
   "display_name": "Python 3 (ipykernel)",
   "language": "python",
   "name": "python3"
  },
  "language_info": {
   "codemirror_mode": {
    "name": "ipython",
    "version": 3
   },
   "file_extension": ".py",
   "mimetype": "text/x-python",
   "name": "python",
   "nbconvert_exporter": "python",
   "pygments_lexer": "ipython3",
   "version": "3.8.10"
  }
 },
 "nbformat": 4,
 "nbformat_minor": 5
}
