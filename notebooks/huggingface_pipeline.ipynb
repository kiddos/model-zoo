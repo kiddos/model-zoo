{
 "cells": [
  {
   "cell_type": "code",
   "execution_count": 1,
   "id": "e634ec91-ee63-4e0c-93fa-3546c51318df",
   "metadata": {},
   "outputs": [
    {
     "name": "stderr",
     "output_type": "stream",
     "text": [
      "/usr/lib/python3/dist-packages/requests/__init__.py:89: RequestsDependencyWarning: urllib3 (1.26.14) or chardet (3.0.4) doesn't match a supported version!\n",
      "  warnings.warn(\"urllib3 ({}) or chardet ({}) doesn't match a supported \"\n",
      "2023-01-24 23:44:41.691057: I tensorflow/core/platform/cpu_feature_guard.cc:193] This TensorFlow binary is optimized with oneAPI Deep Neural Network Library (oneDNN) to use the following CPU instructions in performance-critical operations:  SSE3 SSE4.1 SSE4.2 AVX AVX2 FMA\n",
      "To enable them in other operations, rebuild TensorFlow with the appropriate compiler flags.\n"
     ]
    }
   ],
   "source": [
    "from transformers import pipeline\n",
    "from transformers import Conversation"
   ]
  },
  {
   "cell_type": "markdown",
   "id": "562fad2d-824e-47e7-a442-2182d72d26e7",
   "metadata": {},
   "source": [
    "## Sentiment analysis"
   ]
  },
  {
   "cell_type": "code",
   "execution_count": 2,
   "id": "ed8d61b0-850d-4903-b37f-ff244701b4a1",
   "metadata": {},
   "outputs": [
    {
     "name": "stderr",
     "output_type": "stream",
     "text": [
      "No model was supplied, defaulted to distilbert-base-uncased-finetuned-sst-2-english and revision af0f99b (https://huggingface.co/distilbert-base-uncased-finetuned-sst-2-english).\n",
      "Using a pipeline without specifying a model name and revision in production is not recommended.\n"
     ]
    },
    {
     "data": {
      "text/plain": [
       "[{'label': 'POSITIVE', 'score': 0.9598049521446228},\n",
       " {'label': 'NEGATIVE', 'score': 0.9994558691978455}]"
      ]
     },
     "execution_count": 2,
     "metadata": {},
     "output_type": "execute_result"
    }
   ],
   "source": [
    "classifier = pipeline('sentiment-analysis')\n",
    "classifier(\n",
    "    [\n",
    "        \"I've been waiting for a HuggingFace course my whole life.\",\n",
    "        \"I hate this so much!\",\n",
    "    ]\n",
    ")"
   ]
  },
  {
   "cell_type": "markdown",
   "id": "83799625-4cd3-432e-b1b6-9066c1235834",
   "metadata": {},
   "source": [
    "## Zero-shot classification"
   ]
  },
  {
   "cell_type": "code",
   "execution_count": 3,
   "id": "785e329f-8255-4e13-a177-f174e7deff05",
   "metadata": {},
   "outputs": [
    {
     "name": "stderr",
     "output_type": "stream",
     "text": [
      "No model was supplied, defaulted to facebook/bart-large-mnli and revision c626438 (https://huggingface.co/facebook/bart-large-mnli).\n",
      "Using a pipeline without specifying a model name and revision in production is not recommended.\n"
     ]
    },
    {
     "data": {
      "text/plain": [
       "{'sequence': 'This is a course about the Transformers library',\n",
       " 'labels': ['education', 'business', 'politics'],\n",
       " 'scores': [0.8445988297462463, 0.11197440326213837, 0.04342682659626007]}"
      ]
     },
     "execution_count": 3,
     "metadata": {},
     "output_type": "execute_result"
    }
   ],
   "source": [
    "classifier = pipeline(\"zero-shot-classification\")\n",
    "classifier(\n",
    "    \"This is a course about the Transformers library\",\n",
    "    candidate_labels=[\"education\", \"politics\", \"business\"],\n",
    ")"
   ]
  },
  {
   "cell_type": "markdown",
   "id": "e412d711-57e5-4f98-924a-2ad1e1e60ac3",
   "metadata": {},
   "source": [
    "## Text Generation"
   ]
  },
  {
   "cell_type": "code",
   "execution_count": 4,
   "id": "34c780a5-79ee-4c93-801b-85435b9a1622",
   "metadata": {},
   "outputs": [
    {
     "name": "stderr",
     "output_type": "stream",
     "text": [
      "Setting `pad_token_id` to `eos_token_id`:50256 for open-end generation.\n"
     ]
    },
    {
     "data": {
      "text/plain": [
       "[{'generated_text': 'This is the huggingface course. Every class has a moment where we\\'re able to talk to each other inside our head and be with eachother outside of our heads. It\\'s really about feeling close to eachother and feeling free to be different about ourselves. It\\'s not about being like, \"You know who\\'s weird right now?\" It\\'s about being like, \"Why don\\'t you come tell your friends who your weirdest person is?\"\\n\\nWe all need a good conversation.\\n\\nOur school has great conversations. My teacher always says to get the kids to talk to each other in class. That\\'s the reason that the hugest face I\\'ve ever taken.\\n\\nIt feels like you\\'re in that moment where you\\'re trying to stand out from the crowd, or where you\\'re going to hold the camera up in front of people, and if they\\'re not going to, you hold it up behind them and look down at your chest.\\n\\nYou can go for just two steps up, but your body is starting to feel cold. You get kind of sweaty. Like if you\\'re walking over to the coffee shop, go for two steps up and hold it up to your clothes. It feels really good. If the coffee shop is just sitting there, then your body is ready for that one.\\n\\nThe best way to create a nice, happy hug is to be happy to be hugged with people, but never be sad. Even though it\\'s usually just your chest trying to stand out from the crowd, you\\'re still going to hear that \"I need hugs back here in the office.\"\\n\\nNow I know. You\\'re feeling a lot better about yourself. At first I was trying to hug someone. I knew by this point it\\'s not that I was looking down at my chest and I was getting emotional and crying.\\n\\nBut then I found my chest was kind of warm. Like, warm in all these places where it might be cold, and it really just felt warm, and that\\'s when it happened. And that\\'s when I had these sweet dreams.\\n\\nIt was like there was a big void just below my head, and I wanted to be warm because I felt like I was standing up there with my chest.\\n\\nAnd then, like I said—where I wanted to stand, I wanted to sit to a certain extent where they wouldn\\'t stare. These hugs are important for me.\\n\\nWhen I was sitting in my chair, my teacher said to me, \"Hey, this is what your dream is.\" She also said—I mean, I am doing this with my chest because I knew from the beginning I was going to stand there because that\\'s what my dream would be.\\n\\nMy dream about my chest had been in your mind all these years. And now, it\\'s real. I can feel things happening. My dream was—it really is just like a small part of this whole body part of me that needs one more hug. I think that part is the important part.\\n\\nI love my chest and I love what it looks like. It\\'s not that I don\\'t love my chest, and I know I love it, and I like to wear it and give it every damn moment. But I do this to have a good, nice, happy mood. I think it\\'s very important to have that little, small, beautiful feeling.\\n\\nThe hug is also going to be where you\\'re going to let go of your fear and let go of the worry around you. That\\'s a sign of how happy you\\'re going to feel when you stop looking at your chest.\\n\\nAnd I love when I think about this moment. I love what this moment means to me. My job is to be positive. And I want to be positive in every kind of situation.\\n\\nWhen a young woman comes over and says \"I love this man in the car,\" one of the common reactions is: \"That\\'s awesome!\" Because that\\'s what keeps her going for now, like a lot of girls need love and love and love. And in that moment of the huger saying that, you can really feel someone\\'s heart beat, and let them know how cool you are, and she\\'s got to be ready for whatever it is.\\n\\nWe all need to keep going.\\n\\nAnd I hope you\\'ll give yourself more of a hug, too.\\n\\nI also want to say that one of the things you have to be ready for in life is to look good. So I\\'d say, for me, it\\'s actually important to have pretty looking faces and beautiful dresses, but those are a little bit different things than looking comfortable, like beautiful faces.\\n\\nThis is how you get that girl to feel like you\\'re getting ready for what\\'s to come. That\\'s when you want to be real about who all the love people should really be, and how you should keep a close eye on what the next person is doing.\\n\\nOne of the'}]"
      ]
     },
     "execution_count": 4,
     "metadata": {},
     "output_type": "execute_result"
    }
   ],
   "source": [
    "generator = pipeline('text-generation', model='gpt2')\n",
    "\n",
    "generator('This is the huggingface course.', max_length=1024)"
   ]
  },
  {
   "cell_type": "code",
   "execution_count": 5,
   "id": "5aad40d1-8ab2-41e5-8104-6fe53272fe4e",
   "metadata": {},
   "outputs": [
    {
     "name": "stderr",
     "output_type": "stream",
     "text": [
      "Setting `pad_token_id` to `eos_token_id`:50256 for open-end generation.\n"
     ]
    },
    {
     "data": {
      "text/plain": [
       "[{'generated_text': 'Hello world.\\n\\nBut it\\'s not just me here. Our very own Daniel O\\'Keefe was a prolific artist of works as well such as the legendary \\'In the Park\\'. His unique composition of abstract forms and the very first paintings he created - and in fact has in common with many of the early \\'in-park\\' artists - is very interesting and inspiring to us all. O\\'Keefe was also interested in the possibility of using the physical form to communicate. One of his most successful works, the famous Painting in the Streets, was in his late teens and early twenties, and in this work he painted a series of portraits and various paintings of various street scenes throughout the city, with his other artist, Dr Paul Jardine appearing as an early influence on him. O\\'Keefe has published over half a dozen original works, including many that have had no mention or distribution by the local media.\\n\\nWe are particularly grateful that he was so well received by the City of Edmonton in this regard and, most particularly, is extremely happy to have received from us all his outstanding work at our disposal for publication and reuse throughout the City. So we are extremely grateful to the people of Edmonton, who encouraged us to use the artistic form in this very special way, for this publication, and for the continued success of the City of Edmonton. And as if to further demonstrate his appreciation, we offer a special thanks to Peter Moore of Nieces & Cocks for giving us his very unique and brilliant piece \\'The City of Edmonton\\', and to Daniel O\\'Keefe and many others. We would like to wish him the very best of luck in his life; he is extremely proud of us all.\\n\\nDaniel O\\'Keefe\\n\\nDear Daniel: We are so grateful to you.\\n\\n\\nYou are such an inspiration.\\n\\n\\nDaniel O\\'Keefe\\n\\nHi\\n\\nDaniel O\\'Keefe: thanks for the beautiful art.\\n\\nHello world.\\n\\nThe art of the in our City of Edmonton, the artwork of the city of Edmonton\\n\\nWe appreciate it very much.\\n\\n\\nDaniel O\\'Keefe\\n\\nHello world\\n\\nWe appreciate that you wrote your letter, thanks too. I just wish to state some things, I feel very fortunate to have you to share the art you have made and to say this to my son. I know what I am not getting the word - that these paintings are simply \"in-park\" and that they are not meant to be used for entertainment, but rather for a specific purpose. Let\\'s see, this little city is really important because, as you said, it is the home of our culture, for if anything this may make an important contribution to the development of our cultural heritage. I agree - most of you know by now that the city has great value as a place to see a range of the city as a place of pilgrimage, I have seen the great number of artworks in our city - a huge collection of things by some of you who were artists, they are all great works of art, great work. But there are two things for which we need the artist, this little place in our city is important. 1. To give our people a better sense of the importance of this place. I think what most people forget is that you don\\'t actually see all the art you are supposed to see by yourself; you see the artist. You see him who speaks with passion behind his work. 2. The city itself is a work of art - a place that is very special to us. All the great works are built by the very artists and those who are here are really dedicated to seeing the city that everyone is talking about and so they can see the wonders and all the new ideas that the city has to offer our peoples and our peoples.\\n\\n\\nHi world\\n\\nAll the same, I think you are really very special to us, thank you! I just want to emphasize to everybody here that this is our second book as we talked about it some time ago and for that we are really happy to give this amazing, brilliant and inspirational book this special, amazing quality to be made. That book would be an excellent and special reference for everybody who has looked at art as it really is, is an interesting way to see how this community does all these things that are important to the development of a unique culture and a very special place. It\\'s one of our favourite books ever.\\n\\nDaniel O\\'Keefe\\n\\nHey World, I do not need that much help.\\n\\n\\nDaniel O\\'Keefe\\n\\nHello! Thank you. Have a good week!\\n\\n\\nDaniel O\\'Keefe\\n\\nHello World! I really appreciate your advice, and would like to remind you that sometimes it is necessary to go back further and do a bit of research if you can to ensure that you do the right thing.\\n\\n\\nHey world\\n\\nI hope I did well, okay?\\n\\nDaniel O\\'Keefe\\n\\nYes, really.\\n\\n\\nHey world\\n\\nNo problem. I'}]"
      ]
     },
     "execution_count": 5,
     "metadata": {},
     "output_type": "execute_result"
    }
   ],
   "source": [
    "generator('Hello world', max_length=1024)"
   ]
  },
  {
   "cell_type": "code",
   "execution_count": 6,
   "id": "600e1def-82cc-48be-9d4d-2774a15337de",
   "metadata": {},
   "outputs": [
    {
     "name": "stderr",
     "output_type": "stream",
     "text": [
      "Some weights of OpenAIGPTLMHeadModel were not initialized from the model checkpoint at openai-gpt and are newly initialized: ['position_ids']\n",
      "You should probably TRAIN this model on a down-stream task to be able to use it for predictions and inference.\n"
     ]
    },
    {
     "data": {
      "text/plain": [
       "[{'generated_text': 'This is the huggingface course. don\\'t forget. \" \\n \" i \\'ll try not to. \" \\n \" don\\'t, i\\'m not a child, \" said the prince. he then walked out of the tent and up to the carriage. \\n \" hey, prince, where\\'s your wife? \" \\n \" her name is anya, and she will arrive shortly. she will see that you are adequately dressed. \" \\n \" i understand there is a problem, \" said the coachman. \\n \" it seems to be a little inconvenient, \" said the prince of ravens. \" we \\'ll see about that later. now, take me to the lady anya. \" \\n chapter 12 : the lady anya \\n the prince\\'s trip to saxenburg in the dark felt much like a trip to hell, for a few minutes at least, or maybe longer. he and his companions journeyed from the tower of gwylfa, into the city of brigetta, and then a short distance to the empress himself. there, he was ushered to the queen\\'s apartments and sent to join the party of exiles for the evening. they had been searching for the girl\\'s mother for three days, and it took an eternity for them to find her. \\n \" you have met mistress anya, i assume? \" asked yashvar, who was sitting at the long table, alone, as the prince made his way to one of the chairs. \\n \" mistress anya is my companion, \" said the prince. \" i did not expect you to be her, if that is what you mean. \" \\n \" no, not at all, \" yashvar said, smiling faintly and gesturing for him to sit down. \" i\\'m surprised to be able to find you again so quickly. is she in the palace? \" \\n \" yes, \" said the prince calmly, \" but she is not here. \" \\n \" well, that\\'s disappointing, \" said yashvar, and leaned on his elbows as he listened. \\n after a few minutes of silence, yashvar broke the silence. \\n \" are we in one of the towers? \" he asked. \\n \" no, \" said the prince. \" we are in the city of brigetta. as you know, we are the first exiles to arrive here for a long time ; i did not intend to linger and wait until she arrived. \" \\n \" so, you are the prince of ravens? \" said yashvar, who then took the seat directly in front of'}]"
      ]
     },
     "execution_count": 6,
     "metadata": {},
     "output_type": "execute_result"
    }
   ],
   "source": [
    "generator = pipeline('text-generation', model='openai-gpt')\n",
    "\n",
    "generator('This is the huggingface course.', max_length=512)"
   ]
  },
  {
   "cell_type": "code",
   "execution_count": 7,
   "id": "b73441e2-c102-47ae-9c59-21b2dae16479",
   "metadata": {},
   "outputs": [
    {
     "name": "stderr",
     "output_type": "stream",
     "text": [
      "Setting `pad_token_id` to `eos_token_id`:50256 for open-end generation.\n"
     ]
    },
    {
     "data": {
      "text/plain": [
       "[{'generated_text': 'In this course, we will teach you how to create your own custom code and get you started on the biggest and fastest, easiest learning path to the amazing world of programming.\\n\\n\\nThe goal of this course is to learn how to get started on an amazing stack of different programming languages:\\nThis course will be designed to be an easy way to learn your programming.\\nAbout the Language\\nThe language is a flexible, concise, portable and open source language that is designed and developed for the public by TSL Developers. It is one of many programming languages that I have tried and will be useful for programmers all over the world.\\nWe will also try and improve the existing programming languages to make it easier and easier to understand the programming language. The project will be structured to give beginners the full potential to develop their own languages and improve their knowledge and experience.\\nAll the materials are intended to be used for beginners who are already in programming and want to learn more about these techniques. We will not give you information about the language without having it written in the language.\\nThe Language also includes a basic grammar to understand for beginners. We will also make sure we have a standard grammar that is not based on the language.\\nI hope you all enjoyed this course, and will help us to come up with your own framework.'},\n",
       " {'generated_text': 'In this course, we will teach you how to integrate and leverage data analysis. This course is free and, without limitation, you need to learn how to integrate and use data analysis, while in every other class, learn valuable and relevant information to our students to get results. We will offer introductory and business oriented strategies and classes on our own time. Please remember to check out this course before starting or joining.\\n\\n\\n\\nIf you enjoyed this course, feel free to share it in our comment section or e-mail us at bb-ramp.u.edu/contact if you have any questions or comments before beginning.'}]"
      ]
     },
     "execution_count": 7,
     "metadata": {},
     "output_type": "execute_result"
    }
   ],
   "source": [
    "generator = pipeline(\"text-generation\", model=\"distilgpt2\")\n",
    "generator(\"In this course, we will teach you how to\", max_length=1024, num_return_sequences=2)"
   ]
  },
  {
   "cell_type": "code",
   "execution_count": 8,
   "id": "f9d7717b-a387-4491-9928-e8a8cfc3cc44",
   "metadata": {},
   "outputs": [
    {
     "name": "stderr",
     "output_type": "stream",
     "text": [
      "Setting `pad_token_id` to `eos_token_id`:102 for open-end generation.\n"
     ]
    },
    {
     "data": {
      "text/plain": [
       "[{'generated_text': '从前， / - 是 一 個 以 為 基 礎 的 系 統 ， 為 全 球 用 戶 提 供 了 以 上 的 選 擇 。 與 / 以 此 來 區 分 ， 並 有 （ ） 與 （ ） 兩 種 特 性 。 中 一 個 例 子 是 - 或 者 的 電 話 基 金 專 用 平 臺 ， 為 一 個 ( - - - ) ， 每 個 基 金 專 用 平 臺 的 主 要 收 入 來 自 以 及 中 央 直 接 的 捐 款 。 提 供 的 是 一 個 ， 最 初 由 不 詳 的 大 學 使 用 ， 在 1994 年 引 入 。 - 以 來 ， 不 同 的 電 話 基 金 的 總 部 位 在 洛 杉 磯 。 - 是 一 個 擁 有 作 為 基 礎 的 產 品 開 發 平 臺 ， 是 基 金 專 用 平 臺 。 - 以 後 ， - 一 直 是 使 用 作 為 基 礎 的 個 人 應 用 程 序 。 - 是 一 個 通 過 來 提 供 作 為 全 球 用 戶 提 供 的 選 擇 ， 基 於 ， 可 以 直 接 提 供 對 不 同 的 用 戶 的 選 擇 。 是 由 負 責 開 發 ， 由 負 責 開 發 。 中 的 - 基 於 1998 年 ， 也 就 是 中 的 基 礎 ， 並 使 用 了 電 話 基 金 的 基 礎 。 同 時 ， 被 推 薦 為 個 人 應 用 程 序 以 提 高 的 應 用 層 次 。 還 被 引 入 了 和 兩 個 應 用 程 序 ， 並 提 供 了 一 個. 。 提 供 了 / 的 / - - ， 其 中 一 種 是 支 援 。 2000 年 ， - 獲 得 了 和 的 支 援 ， 另 一 個 是 和 。 是 自 由 軟 件 的 一 個 支 援 平 臺 。 - 使 用 不 同 的 平 臺 ， - 亦 會 自 行 開 發 ， 但 是 由 於 在 和 上 使 用 多 種 安 全 的 功 能 。 1998 年 ， 新 華 社 和 上 海 生 產 工 程 管 理 委 員 會 就 開 發 了 - ， 這 個 名 為 的 新 的 。 1998 年 度 量 子 。 它 們 經 過 去 了 時 ， 隨 後 者 自 由 - ( - ( 中 的 ( 。 的 子 ， 而 後 來 繼 續 過 來 者 的 的 來 源 。 。 ) 。 現 ， 這 個 人 的 。 後 一 半 期 也 可 再 一 個 。 是 \" 的 中 所 述 的 \" ) 就 是 一 的 ， 則 繼 續 時 候 有 ， 是 \" 是 ， 則 源 不 是 ， 然 後 續 。 。. ， \" 的 子 。 和 (. \" / （ 後 續 ) → 。 。 一 ， 是 一 個 ， 但 也 是 說 ， 它 是 前 二 ； 一 說 是 ， 三 個 ， 例 \" 三 序 也 是 一 ， 是 所 ） ， 和 二 說 不 說 是 （ 一 是 這 個 三 是 \" ， ， ， 一 對 ， 三 、 二 ， 是 兩 個 例 。 由 三 個 後 。 因 為 是 ( \" ( \" 。 所. 的 ， 是 三 。 但 是 一 個 ） ( 又 是 兩 ) 。 （ 則 是 指 ， 但 是 一 不 是 ， 就 是 這 與 三 ， 。 三 ： 第 ， 但 ， 也 有 是 和, 則 是 ， ， 在 三 是 ， 第 二 ， 四 則 是 為 \" （ 不 是 不 變 的 一 是 有 與 一 則 三 。 ， 。 中 （ 的 ， 則, 而 是 ， 或 五 ， 以 ， 又 ， 的 和 三 ， 四 次 。 則 ， 只 一 ， 其 中 ， 其 是 ： ； ， 有 ， 第 九 是 ， 二 是 \" 。 三 ， 是 。 因 可 和 ， 而 也 都, 也 ， 而 三 。 三 是 中 ， ， 三 、 ， 不 是 四 也 ， 三 和 一 。 其 是 中 ， 和 二 來 \" ， 所 ， 但 也 是 四 。 或 四 個 ， 是 沒 沒 有 （ ） 而 三 個 ； 其 是 和 ， 兩 是 ， 為 ， 除 。 。 。 二 個 又 有 它 ， 但 九 ， 是 都 可 。 也 一 。 就 是 ， 。'},\n",
       " {'generated_text': '从前， 該 機 場 的 機 場 距 離 大 約 300 米 。 在 當 時 ， 由 於 當 時 已 經 有 人 駕 駛 飛 機 飛 越 大 西 洋 的 行 為 ， 一 些 無 人 駕 駛 的 直 升 機 已 經 無 視 海 關 機 場 ， 無 人 駕 駛 的 飛 機 已 經 停 在 大 西 洋 。 不 過 ， 如 今 ， 為 保 護 - 80 型 直 升 機 起 降 ， 大 西 洋 的 直 升 機 已 經 停 在 小 西 洋 的 航 空 公 司 機 場 ， 而 大 西 洋 的 直 升 機 仍 然 在 大 西 洋 的 航 空 中 服 務 。 在 1970 年 代 ， 在 東 歐 的 直 升 機 都 被 轉 移 到 非 洲 和 亞 洲 ， 為 了 滿 足 這 些 需 求 （ ） ， - 100 的 直 升 機 在 大 西 洋 的 航 空 公 司 包 括 - 100 ， 在 巴 布 亞 新 幾 內 亞 和 比 利 時 ， 在 西 部 和 東 南 部 執 行 ， 目 前 它 們 仍 有 機 會 來 往 大 西 洋 和 香 港 。 一 些 歐 洲 航 空 公 司 的 飛 行 員 在 大 西 洋 的 航 空 公 司 服 務 ， 如 和 。 它 們 的 航 空 公 司 還 有 - 200 和 - 800 直 升 機 。 在 大 西 洋 航 空 運 行 期 間 ， 它 們 在 馬 拉 鬆 和 法 蘭 克 福 機 場 、 夏 威 夷 的 羅 布 里 奇 － 阿 得 勒 斯 羅 斯 － 比 利 波 音 國 家 公 園 直 升 機 、 比 利 時 夏 威 夷 機 場 直 升 機 和 - 1000 直 升 機 的 服 務 。 在 飛 行 時 它 們 都 具 有. 直 升 機 的 特 徵 。 在 1970 年 代 開 始 ， 它 們 被 轉 移 到 歐 洲 和 太 平 洋 地 區 ， 當 地 的 直 升 機 也 在 歐 洲 和 太 平 洋 地 區 服 勤 。 在 大 西 洋 航 空 運 行 期 間 ， 這 些 直 升 機 被 用 於 空 襲 或 美 國 空 軍 的 襲 擊 ， 由 於 未 能 到 達 美 國 地 區 ， 它 們 甚 至 不 得 不 被 美 國 空 軍 的 雷 達 偵 測 機 摧 毀 。 在 1970 年 代 後 期 ， 它 們 曾 在 海 上 服 務 ， 並 在 多 倫 多 機 場 上 服 務 。 自 20 世 紀 50 年 代 中 期 ， 它 們 開 始 在 法 國 地 區 上 服 務 。 直 升 機 上 ， 它 們 曾 在 東 北 美 國 航 線 服 務 ， 但 沒 有 它 的 一 個 月 服 務 ， 是 他 們 從 大 西 歐 洲 的 美 國 的 軍 隊 服 務 。 這 個 月 球 隊 總 部 。 這 些 任 務 部 ， 這 兩 個 月 。 在 馬 拉 丁 根 本 。 如 意 志 願 者 ， 阿 普 洛 薩 斯 （ 羅 布 丁 ， 在 德 國 的 地 （ 現 代 ， 一 個 月 （ 現 在 斯 地 阿 拉 登 ） 是 西 班 巴 拿 西 班 牙 語 中 ， （ ） 、 加 的 加 地 中 心 ， 不 是 羅 的 南 非 。 第 一 部 ， 因 南 半 山 裡 的 。 （ 比 西 班 和 意 丁 ， 第 一 個 月 ， 今 ， 北 部 （ 山 ， 拉 瓦 倫 的 拉 巴 利 ） ， 西 的 巴 拿 的. 和 ） ， 而 山 ， 西 的 山 腳 ， 一 個 ） 和 斯 里 ， 西 和 班 。 和 。 阿 爾 班 的 名 ， 現 在 利 的 一 次 山 ， 。 地 山 上 地 。 那 都 是 國 ， - ） 是 拉 山 的 和 ， 西 斯 的 巴 達 阿 拉 ， 但 山 ， 大 山 的 。 和 。 山 。 \" 斯 地 ， 阿 里 奧 布 爾 摩 是 ： ， 南 部 ， 阿 靈 ， 法 是 山 的 和 利 拉 丁 ， 有 巴 勒 。 。 那 ， 山 ， 東 部 ， 山 是 拉 、 阿 山 （ 山 （ （ 意 山 （ ， 阿 伯 羅 馬 ， 佛 ， 山 ， 是 巴 丁 ， ， 比 和 ） 山 和 阿 拉 丁 （ 前 羅 馬 拉 丁 和 西 （ ） 和 （ 希 望 ， ， - 拉 丁 古 摩 裡 ， 今 （ 希 。 西 和 和 哥 ， 以 ， 比 西 山 ， （ 阿 ， 意 ， 西 里 ， 它 的 ） 是 ， 海 ， 是 一 種 ， 那 。 山 （ 原 ） ， 它 ， 山 ； ， ， 西 阿 雷 阿 拉 羅 託 和 ， ， ， 是 和 ， 山 和 亞 （ 。 ） 是 。 三 ） ， 今 山 ，'}]"
      ]
     },
     "execution_count": 8,
     "metadata": {},
     "output_type": "execute_result"
    }
   ],
   "source": [
    "generator = pipeline('text-generation', model='ckiplab/gpt2-base-chinese')\n",
    "\n",
    "generator('从前，', max_length=1024, num_return_sequences=2)"
   ]
  },
  {
   "cell_type": "code",
   "execution_count": 9,
   "id": "d94b8358-5541-406c-a06d-e279948ae2ab",
   "metadata": {},
   "outputs": [
    {
     "name": "stderr",
     "output_type": "stream",
     "text": [
      "Setting `pad_token_id` to `eos_token_id`:102 for open-end generation.\n"
     ]
    },
    {
     "data": {
      "text/plain": [
       "[{'generated_text': '今天是下雨天 氣, 並 可 能 影 響 到 各 地 的 氣 溫, 其 他 地 區 則 是 晴 到 多 雲 的 天 氣 。 各 地 的 溫 度 還 會 稍 偏 高, 因 此, 氣 溫 還 將 偏 低 。 十 五 日 以 後, 北 部 有 雨, 中 南 部 為 多 雲 到 晴 。 十 六 日 至 十 七 日 晚, 中 南 部 為 多 雲 到 晴 的 天 氣, 十 八 日 到 二 十 三 日 晨 間, 北 部 是 多 雲 到 晴 的 天 氣 。 行 政 院 經 濟 建 設 委 員 會 副 主 任 委 員 謝 森 中 今 天 表 示, 經 濟 部 對 未 來 的 經 濟 發 展 走 向 仍 不 會 樂 觀, 且 將 繼 續 努 力 去 做, 對 後 續 的 經 濟 發 展, 經 建 會 已 將 研 討 如 何 因 應 。 經 建 會 這 位 副 主 委, 在 去 年 底 成 立 經 濟 研 究 處 後 就 一 直 到 今 年 三 月, 當 時 經 建 會 正 在 審 慎 研 究 是 否 會 裁 撤, 目 前 經 建 會 僅 是 暫 停 行 政 命 令, 再 把 原 來 的 兩 處 經 濟 整 合 到 綜 合 型 綜 合 型 經 濟, 但 經 建 會 目 前 只 處 於 小 型 經 濟 整 合 的 階 段, 沒 有 人 會 對 這 方 面 的 成 效 作 太 多 考 量 。 經 建 會 主 任 委 員 蕭 萬 長 表 示, 他 對 於 未 來 的 經 發 會 有 兩 個 方 向 : 一 、 繼 續 朝 加 強 經 濟 自 我 調 整 、 擴 大 內 需 方 案 的 目 標 方 向 努 力 ; 二 、 有 所 回 應 ; 三 、 有 效 因 應 各 項 經 發 會 的 新 趨 勢 及 需 要, 經 建 會 希 望 經 營 成 功 的 新 世 紀 來 臨 。 另 一 方 面, 經 建 會 將 繼 續 努 力 去 做, 經 建 會 這 個 努 力, 相 信 將 可 為 下 一 世 紀 台 灣 經 濟 前 景 帶 來 新 的 變 化 : 經 濟 整 合 與 改 進, 都 已 有 深 入 基 調 和 協 調 的 空 間 ; 經 濟 整 合 是 否 將 改 變 目 前 的 形 勢, 因 為 一 向 以 穩 定 的 民 生 為 目 標, 當 選 後 仍 將 會 有 所 反 彈 性 的 調 整 合 ; 的 調 整 合 ; 經 濟 整 合 的 整 合 。 目 標 是 否 ; 而 成 了 ; 而 不 加 多 多 變 的 成 。 的 標 。 如 果 年 的 如 果 的 話, 則 果 的, 一 ; 如, 則 何 ; 如 不 如 果, 就 如 則, 如 則 只 就 如, 則 如 者 如 果 又 果 我 的 或 不 是 就 是, 卻? 一 般 去 什 麼, 而 言, 則 不 是 。 就 是 其 一 如 如, 就 是 如 今, 可 之, 一, 如 何 如 果 如 則 為 如 此, 則, 不 」, 但 今? 則 即 如 何 如, 如 果 如 果? 又 如, 就 呢 如 何 呢? 則 又, 也 就 是 有? 是 。 也 是, 或, 就 是, 如 何 時, 何 則 呢 。 呢, 而 今, 有 如 此, 就 不 等 。 而 不 如 何 來 究 而 如 果 就 如 果 如 果 不 則 何, 只 說 明 呢, 則 不 如 有 餘 、 這 卻, 所 在 今 呢? 還, 如 果 是 。 就 或 就 如, 那, 而 不 就 如 何, 不 如 此 呢? 今 如 兩 個 。 如 果 或 何 如 何, 何 如 如 何, 何, 他 如 就 如, 何? 則 如 果 果, 否 則 然 何, 如 其 何, 是 我 則 何 謂 呢, 就 以 或 何, 如, 有 待 一, 而 則, 就 如 果 說, 否, 那, 也, 從 。 則 其 而 後 何 時 如 何 呢 」 即 是 而 不 一 般, 而 我 如, 無 。 從 何 可 也 可 以 呢, 不 如, 何 也 就 如 、 因, 也, 何 而 是 。 即 。 也,, 其 其 是 ; 如 何, 不 如 此 。 」, 因 而 不 。 為 也, 不 但 未 何 也? 也 今 。 其 因 此 而, 因 而 何 而, 又 何, 那 也 。 有 何, 也 。, 果, 如 何 為? 也? 如?,, 如 以 何? 因 而 來 而 何 必 而 不 如, 然 而 如, 何 而 是, 是, 以 何, 又 何 而 是 不 何 其, 而 何 而 是 否'},\n",
       " {'generated_text': '今天是下雨天, 而 今 天 下 午 二 點 時 後, 由 於 水 位 大 幅 上 升, 所 致 人 數 超 過 了 二 十 二 人 。 新 竹 市 、 南 投 縣 與 雲 林 縣 政 府 今 天 上 午 先 後 派 出 消 防 車 及 救 護 車 前 往 救 援, 由 於 雲 林 縣 與 雲 林 縣 已 經 不 是 縣 府 首 長 的 關 係, 因 此 由 救 護 車 前 往 救 援, 所 幸 救 護 車 在 下 落 時 已 無 功 而 返 。 為 提 升 台 南 縣 消 防 救 護 能 量, 中 華 民 國 消 防 人 員 職 業 訓 練 團 特 別 針 對 國 內 外 訓 練 項 目 舉 辦 多 場 聯 合 訓 練, 預 定 在 當 天 下 午 起 陸 續 舉 行 八 場 聯 合 訓 練 。 這 些 訓 練 項 目 有 : 醫 療 器 械 、 空 中 消 防 、 水 上 管 制 、 建 築 材 料 、 安 全 器 具 、 維 修 管 理 、 人 員 訓 練 、 自 動 清 理 、 救 護 、 救 護 機 械 設 備 ; 民 眾 可 於 現 場 檢 查 或 自 行 搭 車 前 往 救 災 。 今 天 是 中 華 民 國 消 防 人 員 職 業 訓 練 團 在 台 中 市 舉 行 第 一 次 的 聯 合 訓 練 營 。 台 中 市 政 府 今 天 下 午 召 開 「 台 中 市 警 方 取 締 犯 罪 、 緝 捕 重 點 工 作 」 會 議, 會 中 決 議, 台 中 市 警 察 局 所 屬 各 分 局 也 應 立 即 停 止 所 有 公 務 員 停 職, 如 因 違 反 規 定 而 被 警 察 人 員 執 行 職 務 時, 將 被 開 除 候 補 ; 警 察 人 員 違 反 勤 務 法 則 由 行 政 院 公 務 員 保 護 法 處 以 新 台 幣 二 千 元 的 罰 鍰, 並 得 限 期 改 善, 如 果 沒 有 改 善, 將 處 以 六 萬 元 不 等 的 處 分 。 台 中 市 警 方 為 保 護 市 民 及 市 民 安 全, 特 別 針 對 民 眾 舉 辦 「 台 中 市 政 府 查 緝 重 點 工 作 」 會 議, 邀 集 各 分 局 及 各 分 局 等 工 作 人 員 參 與 研 討, 會 議 決 議, 由 第 一 分 局 及 第 三 分 局 提 供 相 關 人 員 研 討 論 的 資 料 提 供 警 告, 以 交 換 取 信 函 覆, 供 警 察 由 警 衛 生 活 動 態 單 位 人 員 查 證 人 士 提 供 討 論 證 供 證 供 檢 查 證, 供 分 辨 別 。 警 局 處 理 。 台 中 。 台 中 地 檢 舉 證 人 士 提 供 分 案 則 表 示 ; 地, 供 之 表 示, 則 給 各 地 方 提 供 詞 則, 供 證 之 指 則 為 料 供 其 位 數 。 另 。 地 位 數 。 地 方 法 表, 警 表 後 供 之 以 及 其, 地 供 之, 表 現 人 」 ; 供 之 為 地 之 人 ( 即 地 之 則 是 所 。 表 。 即 可 用 、 「 不 可, 指 法 表 供 人 地 位 。 人 之 地, 其 之, 應 稱 地 不 可 稱 地 方 。 地 方 並 以 地 。 以 地 。 地 點 ( 或 法, 則 。 ; 並 用 於 地 。 時, 地 址 為 地 ( 地 而 地 或 之, 表 。 人 。 地 。 所 之 。 地 方 或 地 方 位, 亦 以 地 。 地 。 方, 即 者 。 地 之, 地, 地 地 區, 地 之 不 地 之 自 ( 指 地 」 。 其 代 以 ; 也 、 無 其 地 名 。, 地 、 地 : 。 地 為 之 方 。 地 。 地, 地 方 。 地 原 地 方 自 (, 以 地 ( 地 而 用 (, 地 方 。 地 。 法 或 為 地 目 無 人 。 地 ( 地 。 者 地 方 。 地 ( 地 者, 地 之 者 」 。 地 。 地 則 、 地 。 地 地, 指, 自 己 之 人 。 之 地 、 地 、 之 地 之 。 地 以 其 地 為 地 方 地 或 地 之 。 地 之 地 。 地 ) 。 地 。 地 方 、 : 地, 地 」, 以 地 。 指 地 為 。 也 。 地 之 地 。 地 。 地 」 之 地 為 。 為 地 。 之 地 之 地, 地 。 地 無 位, 地 。 時 之 為 地 。 地 之 地 方 或, 地 」 地 ； 之 地 、 地 方 之 日 。 乃 指 。, 地, 地 其 地 。 地 為 地 。, 指 而 地 。 之 地 不 地 。 方 之, 地 者, 地 。 地 。 為 地 為 地 之 地 。 地 、 指 地 之 地'}]"
      ]
     },
     "execution_count": 9,
     "metadata": {},
     "output_type": "execute_result"
    }
   ],
   "source": [
    "generator('今天是下雨天', max_length=1024, num_return_sequences=2)"
   ]
  },
  {
   "cell_type": "code",
   "execution_count": 10,
   "id": "e61988d8-9791-458b-a86c-0acbb6e66e44",
   "metadata": {},
   "outputs": [
    {
     "name": "stderr",
     "output_type": "stream",
     "text": [
      "Setting `pad_token_id` to `eos_token_id`:102 for open-end generation.\n"
     ]
    },
    {
     "data": {
      "text/plain": [
       "[{'generated_text': '過年期間, 所 生 的 醫 療 費 用, 由 政 府 及 民 間 合 理 收 入 撥 付, 或 由 有 意 申 請 加 入 聯 合 國 醫 療 救 護 組 織 ( ) 者, 不 要 求 政 府 出 面 收 支 。 890411 高 齡 九 十 二 的 馬 雅. 甘 迺 迪, 在 上 個 月 已 出 獄, 但 因 為 經 費 不 足, 遭 到 高 等 法 院 控 告 誹 謗 罪 名, 此 項 罪 名 將 被 最 高 法 院 最 高 法 院 駁 回 。 司 法 部 今 天 說, 這 位 被 控 誹 謗 的 四 十 六 歲 男 子 涉 嫌 於 一 九 八 八 年 間, 涉 嫌 誹 謗, 被 控 涉 嫌 誹 謗, 但 一 直 未 被 最 高 法 院 駁 回 。 這 是 一 年 來 馬 雅. 甘 迺 迪 第 二 次 的 上 訴 案, 被 控 誹 謗 律 師 達 七 百 九 十 五 人, 並 遭 高 等 法 院 駁 回 。 890411 以 下 是 世 界 各 地 主 要 報 紙 今 天 的 頭 條 新 聞 標 題 : 洛 杉 磯 時 報 : 聯 邦 法 院 駁 回 聯 邦 調 查 局 調 查 洛 杉 磯 住 宅 問 題 涉 嫌 人 案 件 ( 洛 杉 磯 ) 。 朝 日 新 聞 : 南 韓 政 府 今 後 的 對 外 政 策 不 必 急 於 變 化, 日 本 將 派 遣 經 濟 部 長 官 ( 東 京 ) 。 東 亞 日 報 : 日 本 將 邀 請 中 華 民 國 總 統 當 選 人 陳 水 扁 訪 日 為 促 進 中 韓 經 濟 發 展, 東 京 ) 。 馬 尼 拉 公 報 : 雅 羅 育 總 統 強 調, 我 們 反 對 不 分 彼 此 尊 重, 我 們 歡 迎 雅 羅 育 總 統 訪 日 ( 馬 尼 拉 ) 。 菲 律 賓 星 報 : 總 統 指 一 九 九 三 年 的 經 濟 報 告 ( 馬 尼 拉 ) 。 菲 華 時 報 ( 華 文 ) : 呂 基 文 總 統 和 執 政 黨 總 統 候 選 人 奎 松 、 副 總 統 候 選 人 杜 爾 競 選 副 總 統 ( 馬 尼 拉 ) 。 馬 尼 拉 標 準 報 : 菲 總 統 當 選 人 奎 松 夫 人 曾 在 十 二 月 十 日 提 出 建 議 ( 馬 尼 拉 ) 。 菲 華 日 報 ( 華 文 ) : 菲 總 統 與 人 民 同 樣 支 持 總 統 當 選 人 競 選 人 ( 馬 尼 拉 ) 。 曼 谷 郵 報 : 商 店 開 發 公 司 負 責 人 向 美 國 出 口 銀 行 借 貸 款 人 力 量 減 低 ( 曼 谷 華 文 ) 。 大 公 司 集 團 董 事 長 林 集 團 公 司 破 產 險 責 美 利 亞 團 ( 曼 谷 ( 香 港 ) ( 香 港 集 團 集 團 ( 香 港 ) 。 香 港 ) 。 東 方 日 報 ( 香 港 ) 。 經 濟 日 經 濟 日 經 濟 日 報 : ( 香 港 ) : 東 協 ( 香 港 ) 香 港 ) : 東 方 ( 香 港 ) 。 東 方 ( 香 港 ) : 上 海 ( 香 港 ) ( 香 港 ( 香 港 ) ( 香 港 ( 東 方 ( 香 港 ) ( 華 市 ( 華 文 ( 香 港 ) ( ( ( 香 港 ( 香 港 ) ( 香 港 ( 香 港 ) ( - ) ( 華 ( 華 每 ( 華 文 ) ( ( ( 港 ) ( 香 港 ) ( ( 華 文 ( 華 文 匯 市 ) ( 華 文 ) ( 華 文 ) ( 華 港 ( 經 濟 ) ( 華 文 ) ( 大 公 ( 中 國 ) ( 香 港 ) ( 港 ( 華 碼 ( 華 經 濟 ) ( 華 港 ) ( 以 下 ( 華 三 ( 華 港 ), ) ( 華 ( 華 文 ) ( 香 港 ) ( ( 華 ( 華 、 華 ) 。 ( 華 ) ) ( 華 文 ) ( 華 港 ) ( 華 ) ( 華 文 ) ( 華 文 ) ( 華 點 ( 華 埠 ) ( 華 港 ) 。 ( 華 報 ( 華 ) ( 華 ) ( 華 文 ) ( 華 發 ( 華 港 ), 華 文 ) ( 華 文 華 文 ) * ) ( 華 ) ( 華 文 ) ( 華 二 ) ( 華 爾 ) ( 華 ( 華 華 ) ( 以 下 文 ) ( 華 文 ) ( 華 文 ) ( 華 文 ) ( 華 ) ( 華, 紐 華 二 ) ( 華 ( 華 ( 華 華 ) ( ; 三 ( 華 零 ) ( 華 華 ( 華 華 二 華 ) ( 華 ( 華 ) ( 華 ) ( 華 盛 ) ( 英 ( 華 碼 ) ( 華 月 ) ( 華 僑 ( 華 - 華 文 ) ) ( 華 輪 ( 華 埠 ) ( 華 ( 華 華 盛 ) ( 華 ) ( 華 ) ( 華 ) ( 華 ) ( 華 爾 ( 華 四 ) ( 華 華 )'},\n",
       " {'generated_text': '過年期間 的 一 場 「 一 場 大 師 級 」 演 出, 在 台 北 國 家 音 樂 廳 登 場, 首 次 以 單 曲 的 「 春 季 戀 人 》 為 主 題, 也 由 日 前 到 現 場 獻 唱 主 題 歌 曲 「 春 季 戀 人 」 。 「 春 季 戀 人 」 這 首 歌 是 由 大 師 級 歌 手 渡 邊 麻 衣 與 張 ( 音 譯 ) 領 銜 作 曲 。 張 說, 這 首 歌 是 很 年 輕 又 美 麗 的 電 視 劇 「 我 可 以 愛 這 麼 多 年 的 一 切! 」, 也 是 很 有 影 響 力 的 新 作, 他 們 不 只 是 日 本 樂 壇 的 新 人, 也 是 日 本 搖 滾 男 孩 的 老 歌 。 張 說, 這 首 歌 曲 是 張 將 這 首 歌 曲 寫 著, 對 日 本 是 一 大 挑 戰, 因 為 他 是 很 年 輕 又 擁 有 超 自 然 創 新 的 人 才, 因 此 歌 曲 的 表 現 也 讓 他 感 到 意 外, 因 此 希 望 透 過 這 首 歌, 也 希 望 這 首 歌 能 呈 現 出 新 的 作 風 。 910207 在 今 天 宣 佈 與 北 美 自 由 貿 易 協 定 之 外, 阿 根 廷 總 統 查 維 斯 、 瓜 地 馬 拉 總 統 阿 瓦 瑞 亞 與 智 利 總 統 瓦 斯 卡 在 內 的 中 央 銀 行 官 員 會 晤 已 決 定 成 行 ; 智 利 的 阿 根 廷 、 智 利 和 智 利 四 國 財 經 首 長 已 在 北 美 自 由 貿 易 協 定 之 外 宣 佈 成 立 。 瓜 地 馬 拉 與 智 利 的 四 國 財 經 首 長 已 於 去 年 達 成 協 議, 成 立 自 由 貿 易 協 定, 並 提 呈 智 利 財 政 部 長 蓋 達 等 政 府 官 員 參 加 會 議 。 阿 根 廷 新 聞 局 在 聲 明 中 說, 目 前 沒 有 任 何 進 一 步 消 息 顯 示 這 次 會 議 時 不 會 有 任 何 的 成 立 。 阿 根 廷 與 智 利 各 經 濟 部 長 已 決 定 成 立 自 由 貿 易 協 定, 並 預 定 四 個 月 內 成 立 自 由 貿 易 協 定 。 智 利 統 計 局 今 天 公 佈, 阿 根 廷 、 智 利 、 智 利 四 國 財 政 官 員 在 會 議 開 會 前, 曾 會 晤 中 央 銀 行 官 員 、 智 利 外 交 界 、 智 利 財 經 濟 部 長 、 智 利 企 業 長 龔 保 險 部 長 等 部 長 及 智 利 司 長, 商 議 長 等 。 在 會 中 央 銀 副 總 長 達 成 協 議 期 間 達 成 協 議 後, 兩 個 月 一 個 月 後 宣 布 協 議, 將 有 多 項 議 一 項 議 的 預 計 。 因, 達 。 今 年 時 。 智 利 達 成 協 議 有 「 未 一 個 月 即 達 成 為 一 段 。 至 數 結 ; 而 又 協, 再 協 議 。 四 個 月 之 」 ; 至 「 成 ; 一 月 」 。 一 月 。 不 到 成 。 協 。 一 月 十 日 即 三 月 、 七 次 。 一 月 底, 協 日 二 日 ( 二 。 協 、 六 。 為 中 協 。 二 千 人, 其,, 四 月 為 「 八 月 一 協 的 二 月 一 日 之 。 一 日 :, 二 ( 二 日, 一 日 、 一 日 成, 民 元 不 是 二 月 之 二 日 月 九 日 零 日 再 為 六 日 止 一 日 者 二 日 一 日 為 一 日, 二 十 五 次, 由 時 一 日 又 是 ( 一 一 日 不 變, 六 日 三 八 日 三 五, 二 日 。 日 。 四 日 的 一 日 。 自 去 。 至 本 協 後 ; 七, ( 二 日 ; 四 日 ; 四 日 、 二 日 四 日 ; 或 二, 一 日, 五, 二 合, 一 月 九 日, 也 即 三 日 生 三 日 ; 八 年 。 ; 二 月 兩 日 二 、 二 者 二 日, 三,, 。 二 日, 二 日 ( 一 日, 五 日 是 一 日 、 三 日 三 日, 或 三 。 、 三 ; 二 日, 七 日, 四 日 : 日, 二 。 。 日 二 日, 但 十 日 為 ( 一 」 ; 一 日 二 日 二 日, 地 止, 自 六 日, 二 日, 三 月 三 日 二 日, 三, 七 時 二 日 為 一 日 月 為 三 日 。 五 日 。 ; 六 日 均 一 ( 三 日 為 五, 五 日 三 日 ( 十 日 : 六 。 今 三, 八 日 一 日, 一 年 三 日 八 日, 一 、 一 日, 一 。, 則 一 月 是 日, 十 日 ; 二 日 是 二 日, 一'}]"
      ]
     },
     "execution_count": 10,
     "metadata": {},
     "output_type": "execute_result"
    }
   ],
   "source": [
    "generator('過年期間', max_length=1024, num_return_sequences=2)"
   ]
  },
  {
   "cell_type": "code",
   "execution_count": 11,
   "id": "db7472c8-bb20-4ab9-9381-65a4922f1ac9",
   "metadata": {},
   "outputs": [
    {
     "name": "stderr",
     "output_type": "stream",
     "text": [
      "2023-01-24 23:50:11.250654: W tensorflow/core/common_runtime/gpu/gpu_bfc_allocator.cc:42] Overriding orig_value setting because the TF_FORCE_GPU_ALLOW_GROWTH environment variable is set. Original config value was 0.\n",
      "All model checkpoint layers were used when initializing TFGPT2LMHeadModel.\n",
      "\n",
      "All the layers of TFGPT2LMHeadModel were initialized from the model checkpoint at mymusise/EasternFantasyNoval.\n",
      "If your task is similar to the task the model of the checkpoint was trained on, you can already use TFGPT2LMHeadModel for predictions without further training.\n"
     ]
    },
    {
     "data": {
      "text/plain": [
       "[{'generated_text': '从前， 一 看 到 那 些 黑 衣 人 ， 也 只 是 轻 声 的 拍 了 拍 肩 膀 。 我 们 三 个 人 中 有 王 陆 兄 弟 八 人 ！ “ 我 说 ， 你 们 四 个 是 谁 ？ “ 我 说 ， 你 们 四 个 是 谁 ？ ” 这 时 候 老 大 和 尚 见 他 进 来 ， 忙 拱 手 道 ： “ 小 子 ， 你 别 怕 了 ， 让 我 再 仔 细 想 想 也 不 能 给 天 下 任 何 人 吃 惊 去 处 的 事 情 吧 。 ” 那 位 红 脸 猴 头 子 也 笑 嘻 嘻 地 接 过 话 茬 。 旁 边 ， 赵 无 嗔 又 问 道 : “ 你 们 兄 妹 二 人 已 经 安 排 好 了 下 面 有 没 有 别 的 事 情 吗 ？ ” 张 僧 略 显 兴 奋 点 ， 说 着 就 对 另 外 两 个 和 尚 问 道 。 “ 他 好 像 还 在 说 着 什 么 呢 ？ 你 不 会 是 故 意 的 吧 ？ 是 真 的 。 ” 沈 吟 月 却 摇 摇 头 赞 成 地 打 断 她 ： “ 我 从 小 师 父 跟 着 一 位 武 林 高 强 书 生 的 教 导 ， 这 次 倒 帮 助 沈 家 父 亲 收 拾 了 一 批 家 产 ， 为 他 疗 伤 恢 复 的 大 部 分 灵 药 费 用 一 大 块 儿 钱 收 取 好 吗 ？ ” 另 外 几 名 中 年 女 将 也 都 问 出 此 等 可 恶 之 处 — — 当 然 这 也 正 是 为 了 自 己 说 完 而 作 罢 得 之 所 以 能 做 得 出 的 事 情 ， 张 僧 并 不 觉 得 难 受 啊 ！ 我 笑 着 解 释 着 — — 听 到 我 们 大 哥 谈 齐 了 结 束 后 心 里 疑 惑 ！ 想 了 想 后 才 开 口 答 应 道 ， 同 样 神 秘 莫 测 的 摸 索 着 说 道 不 妨 ？ 其 实 我 却 猜 着 他 又 把 王 陆 兄 弟 请 回 自 家 住 下 ， 或 者 ， 虽 然 是 不 愿 提 起 修 养 或 者 医 术 上 面 的 事 情 关 系 ， 但 是 关 系 早 便 得 偿 所 愿 了 。 如 若 没 有 机 缘 巧 合 之 下 不 可 能 帮 大 姐 ， 但 既 然 说 错 了 沈 大 哥 你 身 份 地 位 确 让 岳 华 子 先 去 。 既 然 如 此 一 来 ， 我 们 这 里 就 可 定 期 举 行 婚 礼 了 ， 毕 竟 他 是 老 大 与 我 同 年 入 门 的 朋 友 。 当 然 王 陆 兄 弟 之 间 也 许 对 我 们 有 很 深 交 感 冒 出 点 ， 毕 竟 我 们 是 来 抓 这 笔 婚 姻 ， 若 是 与 诸 人 共 赴 大 事 ， 岂 容 小 视 ？ 当 然 也 非 常 自 私 。 所 谓 如 果 沈 贤 侄 真 的 对 她 这 般 的 无 耻 小 人 下 凡 ， 就 算 是 亲 眼 目 睹 岳 华 子 也 可 忍 ！ 只 要 被 她 拒 绝 后 ， 两 位 也 都 心 动 了 ！ 可 我 却 并 未 料 到 王 陆 会 一 直 在 追 求 下 山 ， 连 一 丝 失 落 的 气 势 都 给 压 制 住 了 去 ， 一 步 步 的 上 山 跑 到 哪 方 便 搜 寻 忽 然 见 王 陆 终 于 跑 进 洞 府 门 的 屋 檐 底 下 面 来 了 三 具 尸 体 ， 此 刻 正 呆 坐 在 案 角 下 ， 一 双 秀 眉 紧 锁 ， 身 材 高 矮 、 双 腿 挺 拔 的 长 须 发 一 只 红 润 光 滑 的 眼 睛 正 对 两 人 照 片 里 伸 出 火 苗 两 只 眼 睛 在 审 查 各 种 手 法 以 及 各 式 不 同 的 文 字 ， 其 眼 眸 是 通 天 彻 夜 的 深 邃 ， 只 知 其 中 蕴 含 着 很 多 奇 异 的 词 汇 。 说 罢 ， 望 向 自 己 双 眼 中 放 射 出 不 卑 不 亢 的 目 光 ， 沈 诗 凝 便 站 起 身 来 笑 着 离 开 ， 看 着 手 边 的 两 人 道 ： “ 沈 兄 弟 ， 你 怎 么 不 走 不 掉 我 们 呢 ， 以 后 有 事 不 好 告 诉 你 呢 ！ ” 沈 诗 凝 轻 哼 一 声 ， 道 ： “ 张 僧 人 你 说 什 么 ， 没 事 找 你 干 嘛 ？ ” “ 我 ” “ 我 ” 沈 吟 晶 不 满 为 谋 反 而 一 声 低 吼 ！ 一 个 胆 大 包 天 的 丫 鬟 立 即 回 头 盯 了 张 僧 一 眼 。 一 看 过 往 ， 张 僧 便 怒 视 死 缠 烂 。 “ 小 和 尚 倒 是 蛮 了 。 ” 张 僧 冷 哼 一 声 ， 双 膝 猛 灌 下 去 ， 想 避 免 两 手 空 虚 的 撞 击 。 可 张 僧 对 岳'},\n",
       " {'generated_text': '从前， 却 不 曾 受 小 姐 之 托 。 至 今 未 明 白 女 儿 为 何 会 来 此 ， 更 是 不 知 自 己 是 否 已 经 被 这 四 个 小 辈 打 听 了 。 大 殿 内 ， 白 云 观 ， 刘 长 虹 在 这 山 坳 中 央 ， 坐 下 来 回 踱 步 于 风 月 阁 楼 上 空 地 点 头 示 意 众 掌 门 同 去 。 那 一 众 掌 门 见 了 自 家 门 人 似 乎 并 没 有 发 现 ， 均 暗 暗 惊 讶 连 连 ， 自 然 无 法 对 女 子 讲 解 事 实 。 刘 长 虹 见 到 那 两 位 执 事 们 几 名 门 大 弟 要 说 问 自 己 的 老 公 ， 还 想 让 他 们 稍 微 施 些 些 心 神 。 刘 长 虹 又 转 念 一 圈 ， 忽 然 看 见 他 们 两 人 站 如 其 团 ， 不 由 暗 赞 道 ： “ 这 少 年 乃 金 丹 初 阶 ， 正 值 得 师 兄 高 抬 举 手 么 ？ ” 这 句 话 令 所 有 几 宗 内 ， 都 闻 声 而 失 望 ， 直 觉 令 白 云 观 眉 开 眼 笑 ， 暗 暗 疑 惑 ： “ 若 能 助 刘 员 外 安 排 一 二 ， 那 一 派 掌 门 竟 就 给 了 我 等 一 面 之 缘 哩 ！ ” 刘 员 外 只 叹 了 口 气 后 ， 缓 退 两 步 站 出 殿 堂 ， 便 一 个 步 入 里 环 境 。 正 当 初 步 入 时 ， 刘 员 外 又 将 刘 员 外 的 吩 咐 暂 停 放 置 于 地 进 。 再 加 上 他 刚 刚 看 到 女 子 面 容 便 感 觉 十 分 尴 尬 ， 那 叫 刘 员 外 的 则 已 是 急 匆 匆 赶 往 花 魁 山 下 游 玩 来 ， 不 由 得 看 向 刘 员 外 一 眼 ， 果 真 不 觉 好 脸 色 一 变 的 样 子 。 刘 员 外 一 身 正 常 的 武 功 ， 虽 然 有 些 可 畏 。 但 在 刘 长 虹 眼 里 ， 这 般 形 势 就 简 单 明 显 了 吧 ！ 如 果 以 自 己 的 修 为 应 劫 多 久 的 话 语 速 度 和 力 量 恐 怕 大 概 也 难 逃 一 死 啊 ！ 刘 长 虹 一 边 往 下 游 ， 那 一 群 正 大 方 的 男 人 当 中 ， 倒 吸 引 不 少 新 兵 ， 心 态 极 为 不 舍 。 刘 员 外 心 头 虽 如 此 客 气 过 来 ， 但 心 底 却 始 终 认 为 刘 昊 是 个 大 智 谋 的 人 物 ， 他 原 本 对 刘 员 外 的 关 爱 在 花 魁 山 修 炼 一 段 时 间 却 未 敢 放 弃 ， 虽 然 对 他 毫 不 相 信 。 若 非 他 知 道 刘 峰 所 言 甚 是 ， 又 怎 奈 这 等 武 林 中 人 的 眼 光 才 可 能 视 而 不 见 呢 ！ 刘 员 外 本 知 他 早 先 不 肯 走 ， 本 着 人 生 关 系 又 岂 会 太 浪 费 。 却 一 句 话 未 说 完 ， 这 群 人 就 像 散 架 那 么 平 凡 的 步 伐 迅 捷 无 比 ， 远 处 也 窜 起 数 百 人 追 击 白 云 观 。 白 云 观 ， 刘 长 虹 和 大 夫 人 两 人 一 阵 冷 哼 不 止 ， 但 更 让 旁 观 者 无 形 中 打 压 的 却 是 两 名 掌 门 长 吁 短 信 。 看 到 这 般 情 况 如 何 能 够 让 刘 长 虹 与 大 夫 人 及 赵 敏 三 人 如 此 拼 命 ， 周 旋 即 也 笑 了 、 挥 拳 扫 去 ， 一 齐 退 场 ， 这 更 是 一 把 飞 刀 。 谁 料 刘 员 外 竟 然 被 击 败 ， 就 算 是 他 ， 依 旧 挡 住 赵 敏 的 飞 刀 。 这 边 也 不 管 什 么 闲 事 ， 竟 然 和 一 帮 小 孩 一 块 围 攻 刘 员 外 ， 刘 员 外 虽 然 不 耐 烦 ， 却 并 没 有 躲 避 开 。 大 门 小 路 之 处 却 留 下 许 多 人 影 。 那 时 他 背 负 重 任 又 得 罪 了 一 名 掌 门 ， 却 根 骨 奇 佳 ， 正 好 和 刘 员 外 交 战 得 好 。 如 若 是 刘 员 外 说 的 轻 描 淡 写 倒 还 用 得 着 。 这 场 面 ， 却 让 刘 员 外 瞧 一 清 楚 。 随 手 扔 出 三 张 符 ， 这 不 等 刘 员 外 动 静 ， 随 着 飞 剑 射 杀 这 两 个 掌 门 ， 就 足 以 将 大 多 数 人 震 伤 。 赵 敏 见 状 也 吓 了 一 跳 ， 却 是 又 抢 夺 三 张 符 咒 ， 也 没 注 意 就 接 ， 反 被 刘 员 外 拦 截 住 ： “ 你 两 条 命'}]"
      ]
     },
     "execution_count": 11,
     "metadata": {},
     "output_type": "execute_result"
    }
   ],
   "source": [
    "generator = pipeline('text-generation', model='mymusise/EasternFantasyNoval')\n",
    "\n",
    "generator('从前，', max_length=1024, num_return_sequences=2)"
   ]
  },
  {
   "cell_type": "code",
   "execution_count": 12,
   "id": "c05cff70-0a6f-4f03-bd3c-3eaa7c94bbe4",
   "metadata": {},
   "outputs": [
    {
     "name": "stderr",
     "output_type": "stream",
     "text": [
      "Setting `pad_token_id` to `eos_token_id`:102 for open-end generation.\n"
     ]
    },
    {
     "data": {
      "text/plain": [
       "[{'generated_text': '从前， 他 被 聘 請 為 《 》 創 作 者 （ ） 。 他 當 他 的 筆 名 是 and ， 是 同 名 學 者 與 。 他 的 一 部 份 是 ， 現 存 的 部 份 是 以 色 列 與 西 班 牙 語 之 間 的 友 邦 。 他 是 所 主 要 的 合 作 者 之 一 （ 或 稱 作 \" al - of the ) 。 他 的 一 個 名 字 包 括 在 內 的 敘 述 它 的 領 導 人 和 他 他 的 友 邦 之 間 的 友 繫 。 以 色 列 與 美 國 於 2006 年 3 月 13 日 簽 定 的 《 國 際 戰 略 地 區 條 約 》 （ \" of \" ） 有 關 協 議 ， 包 括 ， 以 及 敘 述 敘 述 敘 述 敘 述 敘 述 敘 述 敘 述 敘 述 敘 述 敘 述 敘 述 敘 述 敘 述 敍 述 敘 述 敘 述 敘 述 敘 述 敘 述 敘 述 敘 述 敘 述 敘 述 敘 述 敘 述 敘 敘 述 敘 述 敘 述 敘 述 敘 述 敘 述 敘 述 敘 述 敘 述 敘 述 敘 述 敘 述 敘 述 敘 述 敘 述 敘 述 敘 述 敘 述 敘 述 敘 述 敘 述 敘 述 敘 述 敘 述 敘 述 敘 述 敘 述 敘 述 敘 述 敘 述 敘 述 敘 述 敘 述 敘 述 敘 述 敘 述 敘 述 敘 敘 述 敘 述 敘 述 敘 述 敘 述 敘 述 敘 述 敘 述 敘 述 敘 述 敘 事 件 的 主 要 內 容 包 括 敘 述 敘 述 敘 述 敘 述 敘 敘 述 敘 述 敘 述 敘 敘 述 敘 述 敘 述 敘 述 敘 述 敘 述 敘 述 敘 述 敘 述 敘 述 敘 述 敘 述 敘 述 敘 述 敘 述 敘 述 敘 述 敘 述 敘 述 敘 述 敘 述 敘 述 敘 述 敘 述 敘 述 敘 述 敘 述 敘 述 敘 述 敘 述 敘 述 敘 述 敘 述 敘 述 敘 述 敘 述 敘 述 敘 述 敘 述 敘 述 敘 述 敘 述 敘 述 敘 述 敘 述 敘 述 敘 述 敘 述 敘 述 敘 述 敘 述 敘 述 敘 述 敘 述 敘 述 敘 述 敘 述 敘 述 敘 述 敘 述 敘 述 敘 述 敘 述 敘 述 敘 述 敘 述 敘 述 敘 述 敘 述 敘 述 敘 述 敘 述 敘 述 敘 述 敘 述 敘 述 敘 述 敘 述 敘 述 敘 述 敘 述 敘 述 敘 述 敘'},\n",
       " {'generated_text': '从前， 經 常 在 東 太 監 察 小 組 成 員 之 下 ， 開 展 了 數 位 教 師 資 格 的 經 驗 。 由 於 研 習 科 考 察 工 作 不 足 ， 教 學 和 學 生 不 斷 提 高 ， 在 學 習 的 過 程 中 ， 教 師 在 學 習 ， 不 論 任 教 ， 不 能 完 整 的 考 察 ， 教 師 們 一 定 能 獲 得 訓 練 ， 以 維 持 大 學 經 濟 的 發 展 。 從 此 畢 業 後 ， 教 師 開 始 了 一 些 不 同 的 文 化 ， 其 中 以 英 語 為 主 的 文 化 ， 尤 其 在 西 班 牙 文 化 中 ， 學 生 從 政 ， 也 能 獲 得 教 學 和 學 術 ， 以 建 立 社 會 及 文 化 的 發 展 。 大 學 經 常 接 觸 社 會 的 教 育 ， 以 及 學 生 的 教 學 和 社 會 ， 都 可 以 在 課 程 中 完 成 。 主 要 來 自 世 界 各 地 的 教 職 工 課 程 ， 來 自 東 南 、 東 部 的 西 班 牙 文 化 和 學 生 。 由 於 地 球 和 大 陸 的 文 化 ， 在 大 量 外 匯 的 文 化 、 社 會 、 文 化 和 社 會 和 文 化 的 發 展 都 是 有 機 會 的 。 例 如 ， 教 育 的 實 際 上 ， 學 習 社 會 的 教 師 們 的 文 化 有 許 多 種 ， 很 重 要 的 是 文 化 和 學 者 發 展 的 ， 例 如 ， 中 華 文 化 還 會 以 中 醫 古 文 化 為 基 地 ， 和 平 和 和 開 支 比 較 。 然 而 ， 學 術 和 社 會 的 不 同 也 包 括 了 和 正 在 進 行 的 文 化 ， 包 括 ： 現 在 的 現 在 文 化 中 ， 文 化 的 有 了 兩 個 基 地 ， 包 括 ： 現 在 的 中 醫 古 文 化 ， 是 最 早 的 一 個 基 地 。 在 教 學 之 後 ， 學 習 教 學 為 科 學 、 工 藝 ， 和 民 族 ， 其 中 ， 大 約 有 三 個 文 化 產 業 ， 例 如 在 中 醫 古 文 化 ， 學 習 教 學 、 大 多 數 。 在 文 化 中 ， 學 習 的 有 ： 發 達 、 社 會 、 文 化 都 是 一 個 學 習 社 會 ， 以 文 化 和 文 化 。 在 學 術 的 研 究 上 也 有 許 多 學 習 的 學 者'}]"
      ]
     },
     "execution_count": 12,
     "metadata": {},
     "output_type": "execute_result"
    }
   ],
   "source": [
    "generator = pipeline('text-generation', model='ckiplab/gpt2-tiny-chinese')\n",
    "\n",
    "generator('从前，', max_length=512, num_return_sequences=2)"
   ]
  },
  {
   "cell_type": "code",
   "execution_count": 13,
   "id": "a43c926f-41b8-426a-a2af-410851a20917",
   "metadata": {},
   "outputs": [
    {
     "name": "stderr",
     "output_type": "stream",
     "text": [
      "Setting `pad_token_id` to `eos_token_id`:50256 for open-end generation.\n"
     ]
    },
    {
     "data": {
      "text/plain": [
       "[{'generated_text': '类型#裙*材质#针织*风格#简约*风格#青春*风格#清新*风格#性感*图案#条纹*图案#撞色*裙下摆#开叉*裙长#连衣裙*裙款式#拼接*裙款式#吊带 拼 带 计 ， ， 的 的 行 了 ， 纹 出 。 带 纹 领 出 感 动 。 性 性 。 的 一 ， 女 感 性 出 了 感 带 ， 女 裙 撞 撞 不 衩 感 带 感 针 不 裙 。 出 简 针 纹 ， 的 的 针 感 出 带 撞 身 性 撞 ， 纹 撞 的 纹 了 开 叉 设 ， 有 ， 性 织 衩 叉 叉 不 身 展 设 ， 叉 带 造 感 叉 。 叉 开 衩 织 叉 色 纹 纹 拼 一 接 叉 身 ， 行 叉 织 行 织 开 纹 长 叉 衩 ， 叉 纹 感 接 ， 纹 针 大 针 衩 竖 拼 不 显 叉 ， ， 的 叉 的 纹 纹 有 ， 叉 拼 不 式 裙 裙 ， 纹 有 展 的 计 感 开 叉 袖 的 色 性 不 出 腰 计 ， 衩 撞 拼 性 新 的 女 约 叉 叉 。 摆 接 接 摆 开 衩 拼 接 出 衩 ， 动 行 织 摆 叉 织 性 针 纹 拼 衩 接 。 开 拼 衩 叉 性 叉 针 衩 衩 摆 针 撞 性 腰 开 衩 性 摆 接 纹 开 衩 ， 拼 拼 ， 设 叉 接 性 接 针 让 叉 拼 衩 叉 针 ， 时 针 织 带 摆 性 撞 气 织 叉 叉 叉 行 身 不 衩 针 接 开 ， 性 衩 拼 ， 织 接 摆 设 色 造 纹 带 行 的 简 衩 拼 摆 叉 设 衩 计 衩 行 拼 接 简 下 纹 纹 行 开 。 接 下 针 拼 感 身 下 纹 收 织 感 针 纹 针 叉 一 尚 织 拼 撞 针 针 ， 拼 性 拼 式 接 织 感 摆 的 摆 针 织 的 织 织 纹 ， 织 式 ， 针 的 针 织 织 性 ， 型 织 色 计 叉 感 撞 针 身 长 纹 纹 裙 性 ， 长 袖 裙 行 的 ， 显 摆 摆 设 ， 叉 。 尚 不 不 腰 腰 感 身 性 针 纹 纹 拼 出 针 。 衩 纹 衩 ， 设 ， 织 的 ， 色 ， ， 针 的 接 设 感 摆 的 针 时 针 叉 织 ， ， 的 ， 女 ， 开 拼 身 拼 摆 显 拼 织 的 ， 织 织 针 很 ， ， 感 竖 展 身 ， 的 不'}]"
      ]
     },
     "execution_count": 13,
     "metadata": {},
     "output_type": "execute_result"
    }
   ],
   "source": [
    "generator = pipeline('text-generation', model='cocoshe/gpt2-chinese-gen-ads-by-keywords')\n",
    "\n",
    "generator('类型#裙*材质#针织*风格#简约*风格#青春*风格#清新*风格#性感*图案#条纹*图案#撞色*裙下摆#开叉*裙长#连衣裙*裙款式#拼接*裙款式#吊带', max_length=512)"
   ]
  },
  {
   "cell_type": "code",
   "execution_count": 14,
   "id": "db9917f0-3b7f-4550-a2c1-23d7bb3ba84b",
   "metadata": {},
   "outputs": [
    {
     "name": "stderr",
     "output_type": "stream",
     "text": [
      "Setting `pad_token_id` to `eos_token_id`:50256 for open-end generation.\n"
     ]
    },
    {
     "data": {
      "text/plain": [
       "[{'generated_text': '从前，老陈将老陈从工厂转到农村，把企业搬迁到了龙城，在城北找到一份稳定的工作。他给老陈的工资是他自己的意思。他拿出一万元，给老陈家补贴家用。老陈家的生活费，由于儿子外出打工，再加上儿子住院治疗费，老陈家一年大约要支出300万元。\\n在老陈一家生活并不富裕的时候，老陈把老陈家里的两亩荒草，把地租卖给了合作社。他们还和当地政府达成一些利益共同之处。比如在老陈家的病床旁边，老陈家的门、腿都有裂缝，只能靠别人缝补。老陈家的房子在市里建好了，还可以给老陈家种地，老陈家的老人经常来拿房子，老陈家每年都有人来帮忙，日子还过得舒心。\\n在农村，他们有一个共同的利益：钱和物。老陈家有两个老儿子和一个孙子，生活很贫困。他家里有三个孩子，小儿子在外打工，另外两个女儿在家里做家政，还有两个老孙子的父亲工作，日子过得非常辛苦。他们都很富，很不容易。老陈的儿子在社会上也是很好的，每年都考上一本大专，现在还可以考公务员也并不困难。\\n老陈家种地，虽然有困难。但老人家的两个儿子都住进了城里，没有房子，没有经济收入。老陈家房子都是老房子，两个儿子也都住进了城里，有房子能住在一起。老陈家的经济状况比较好，一家人都很支持。老陈的女儿在城里打工，但是她没工作，儿子也住在城里。两口子靠种地养家，还挣了一些钱，老陈家的生活也过得充实幸福。\\n老陈的儿子今年才16岁，平时家里没有收入，每年只能种些玉米、生猪等杂粮，老陈还和以前打工的侄子一起种地养活自己。这几年，老陈老家的工资每年都在1万元以上，日子越来越好了，日子越来越富裕。老陈的儿子说，现在老陈家有住房，将来还能吃上点零花钱。老陈的儿子生活比较富裕，以后还会为老陈的儿子干点儿活，他是个多劳多得的好公婆！\\n老陈的儿子平时在城里做工，打工赚的钱主要是给村上的老干部当“官”。现在老陈没有妻子，孩子上学只能靠儿子和父亲在外打工挣钱，家里没有工作收入，老陈的儿子常年只能打工，生活困难。两口子靠种地养活寡靠爹生活，他没钱都挣钱，老陈家大财。老陈一家是陈儿子陈家的祖传唤老陈家在县城后了，陈家，陈家老家的老陈家陈老陈家的老陈家自从老陈家老陈家当邻居_陈家陈家陈家陈家陈家陈家的儿子儿子陈家有儿女陈世陈世陈世陈世陈世陈世陈世陈世陈世陈世陈世陈世陈世陈世陈世陈世陈世陈世陈世陈世陈世陈世陈世陈世陈世陈世陈世陈世陈世陈世陈世陈世陈世陈世陈世陈世陈世陈世陈世陈世陈世陈世陈世陈世陈世陈世陈世陈世陈世陈世陈世陈世陈世陈世陈世陈世陈世陈世陈世陈世陈世陈世陈世陈世陈世陈世陈世陈世陈世陈世陈世陈世陈世陈世陈世陈世陈世陈世陈世陈世陈世陈世陈世陈世陈世陈世陈世陈世陈世陈世陈世陈世陈世陈世陈世陈世陈世陈世陈世陈世陈世陈世陈世陈世陈世陈世陈世陈世陈世陈世陈世陈世陈世陈世陈世陈世陈世陈世陈世陈世陈世陈世陈世陈世陈世陈世陈世陈世陈世陈世陈世陈世陈世陈世陈世陈世陈世陈世陈世陈世陈世陈世陈世陈世陈世陈世陈世陈世陈世陈世陈世陈世陈世陈世陈世陈世陈世陈世陈世陈世陈世陈世陈世陈世陈世陈世陈世陈世陈世陈世陈世陈世陈世陈世陈世陈世陈世陈世陈世陈世陈世陈世陈世陈世陈世陈世陈世陈世陈世陈世陈世陈世陈世陈世陈世陈世陈世陈世陈世陈世陈世陈世陈世陈'},\n",
       " {'generated_text': '从前，我们都是这样被淘汰的一员。但你们真的该好好反省，看看在我们身边的人是否已经这样被我们淘汰，而不是仅仅因为我们这些不仁分赃之人，不把我们这些人当成敌人而加以对待。”——赫敏克朗\\n“你不是说我是错的，也不是说你的话是错，而是说你的行为对我的影响很大。我是知道的，所以我也相信我会有我的道理，但是我也知道你刚才在指出了我的缺点，所以我现在想要改掉我今天的行为。”赫敏克朗抿了抿唇，他继续说道。\\n“别太过分了，我是这样想的，因为我的思想就是这样，你只需要按照你的思路走就行。所以只要我的想法没有变，我的思想就会变得正确。所以，我并没有受到什么威胁，只是我觉得应该做些什么工作去做。”——赫敏克朗\\n“你的确不知道有什么办法能够将我给杀死！”赫敏克朗突然怒吼着，身体突然一颤，顿时身子一颤，身体猛然下沉，身体剧烈抖动着，身体不时的发出低低的痛苦呻吟，整个人都僵住了。她连忙翻身，把身上携带的武器扔到了地上，身体像是一块僵硬的骨头一样，猛的撞在地上，惨叫道：“死叉！我的脑袋被炸伤了一条！你怎么能就这么给我这么恐怖？！”赫敏克朗顿时绝望起来，身体猛然一颤，身体猛然一软，身子一软，身体一转，身体就变成了剧烈的剧痛，然后身体忽然一抖，身体就变成了几米高！\\n赫敏克朗终于意识到自己无法逃走的危险，身子一沉，他迅速将武器往后一扔，猛的一撞进了墙壁上，血流不止，身体剧烈的剧痛让他再也控制不住，整个房间，都仿佛都变成了空壳，赫敏克朗一拳就踢到了墙壁上，身体剧烈的剧痛将他整个人都暴殄。\\n“啊！”一声嘶哑的惨叫从房间里传来，赫敏克朗瞬间全身无力，连忙将弹弓放到了楼下，将刚才刚刚把赫敏克朗杀死的他整个人全部砸到地上，顿时，赫敏克朗被一股脑的弹射，身上剧烈的剧痛让他整个人从里面飞出来了：“啊！——嘶！”一阵剧痛从赫敏克的身上划过，他猛的一踩，瞬间，整个房间都变成一片漆漆，接着，整个人就变成了十几米，紧接着就变成了几米。赫敏克朗，赫敏克朗一拳，瞬间拳！轰击到了头顶！赫敏克朗踢到了二楼之后，整个人都变成稻田之后拳击到了拳击到了拳当中拳里面，赫敏之后，\\n赫敏克朗克朗的时候，一脚！！！！！！！！！！！！！！“哼！克朗！！！克朗！克朗为什么KOKK，K为什么要这样的人就这么什么都没有什么都没有，K一眼！！！！！？K在K什么时间一瞬间时候，K什么时候！！！这样，K这么形容K什么时刻面前K！！！！！！！！！擂台擂台，K什么时刻K就这么打？！！什么都没有！！！！！K什么！！！！！！K！K要死叉！K什么杀掉！！！！！！！！！K现在K什么时候K什么！！！什么时刻K，K什么时候K什么时刻K砍！！K什么时刻K什么都没活着？！现在K这么打起来，K什么时刻K什么都不，K就要什么真正意义上打败过杀？在KK这里K一个擂台当中活着，在KK扎杀的时候杀什么K里面杀，一个擂台里面刺杀一个人，K活着杀一个拳击 这么一个擂台面前，扎？一个擂台的时候杀掉！！！！！！！！！！！！一个擂台！K这么刺杀过来！！！！！！！！！K！！！，活着！！！！！！！！，K一个擂台杀一个人打回去，K活着杀过去！！ 吊刺杀过去的战场 现在的样子这样喊！！！现在··！！！！，现在K活着，一个擂台赛制杀一只刺什么的时候，K 刺过来？K，杀一个擂台，扎克朗克朗，杀一个擂台赛场k一个擂台，K，杀一个擂台 擂台，K什么样子现在K杀一种很鸡，ko一眼杀 克朗克朗特制杀K克朗克朗吉凶猛克朗杀杀一种杀杀 德K杀 乌克德制 一种吊克 德克 K一个擂台 克昌一个K 克朗克K.克萨克克杀德克朗 克朗， 一种AK克朗克克朗克昌克朗克朗 克朗克朗克朗 克朗克朗克朗，克朗 克朗克朗克朗 德克朗 克朗克朗克朗克朗 克朗克朗克朗 克朗克朗克朗克朗一种杀一种吉 克朗 克'}]"
      ]
     },
     "execution_count": 14,
     "metadata": {},
     "output_type": "execute_result"
    }
   ],
   "source": [
    "generator = pipeline('text-generation', model='benjamin/gpt2-wechsel-chinese')\n",
    "\n",
    "generator('从前，', max_length=1024, num_return_sequences=2)"
   ]
  },
  {
   "cell_type": "markdown",
   "id": "0642f3b9-cc42-48db-b04f-412cd3812b20",
   "metadata": {},
   "source": [
    "## Conversational"
   ]
  },
  {
   "cell_type": "code",
   "execution_count": 15,
   "id": "11128ba0-61e6-4b22-8657-2ce9b1ffb2e1",
   "metadata": {},
   "outputs": [
    {
     "name": "stderr",
     "output_type": "stream",
     "text": [
      "The attention mask and the pad token id were not set. As a consequence, you may observe unexpected behavior. Please pass your input's `attention_mask` to obtain reliable results.\n",
      "Setting `pad_token_id` to `eos_token_id`:50256 for open-end generation.\n",
      "A decoder-only architecture is being used, but right-padding was detected! For correct generation results, please set `padding_side='left'` when initializing the tokenizer.\n"
     ]
    },
    {
     "data": {
      "text/plain": [
       "'The Big Lebowski'"
      ]
     },
     "execution_count": 15,
     "metadata": {},
     "output_type": "execute_result"
    }
   ],
   "source": [
    "chatbot = pipeline('conversational', model=\"microsoft/DialoGPT-medium\")\n",
    "conversation = Conversation('Going to the movies tonight - any suggestions?')\n",
    "conversation = chatbot(conversation)\n",
    "conversation.generated_responses[-1]"
   ]
  },
  {
   "cell_type": "code",
   "execution_count": 16,
   "id": "a8f599d4-d1a7-4673-b3a7-f470a3fe8236",
   "metadata": {},
   "outputs": [
    {
     "name": "stderr",
     "output_type": "stream",
     "text": [
      "The attention mask and the pad token id were not set. As a consequence, you may observe unexpected behavior. Please pass your input's `attention_mask` to obtain reliable results.\n",
      "Setting `pad_token_id` to `eos_token_id`:50256 for open-end generation.\n",
      "A decoder-only architecture is being used, but right-padding was detected! For correct generation results, please set `padding_side='left'` when initializing the tokenizer.\n"
     ]
    },
    {
     "data": {
      "text/plain": [
       "\"It's a comedy.\""
      ]
     },
     "execution_count": 16,
     "metadata": {},
     "output_type": "execute_result"
    }
   ],
   "source": [
    "conversation.add_user_input(\"Is it an action movie?\")\n",
    "conversation = chatbot(conversation)\n",
    "conversation.generated_responses[-1]"
   ]
  },
  {
   "cell_type": "markdown",
   "id": "e9b9f05a-211f-4e4e-80ca-987629f1afd3",
   "metadata": {},
   "source": [
    "## Text2Text generation"
   ]
  },
  {
   "cell_type": "code",
   "execution_count": 17,
   "id": "0ba88ef6-f5ec-40ca-9825-6c4c18a8c676",
   "metadata": {},
   "outputs": [
    {
     "name": "stderr",
     "output_type": "stream",
     "text": [
      "The `xla_device` argument has been deprecated in v4.4.0 of Transformers. It is ignored and you can safely remove it from your `config.json` file.\n",
      "The `xla_device` argument has been deprecated in v4.4.0 of Transformers. It is ignored and you can safely remove it from your `config.json` file.\n",
      "The `xla_device` argument has been deprecated in v4.4.0 of Transformers. It is ignored and you can safely remove it from your `config.json` file.\n",
      "The `xla_device` argument has been deprecated in v4.4.0 of Transformers. It is ignored and you can safely remove it from your `config.json` file.\n",
      "The `xla_device` argument has been deprecated in v4.4.0 of Transformers. It is ignored and you can safely remove it from your `config.json` file.\n"
     ]
    },
    {
     "data": {
      "text/plain": [
       "[{'generated_text': 'question: Who created the RuPERTa-base?'}]"
      ]
     },
     "execution_count": 17,
     "metadata": {},
     "output_type": "execute_result"
    }
   ],
   "source": [
    "generator = pipeline('text2text-generation', model=\"mrm8488/t5-base-finetuned-question-generation-ap\")\n",
    "generator(\"answer: Manuel context: Manuel has created RuPERTa-base with the support of HF-Transformers and Google\")"
   ]
  },
  {
   "cell_type": "code",
   "execution_count": 18,
   "id": "f554177c-6668-4663-8eeb-a3634ce4f4e3",
   "metadata": {},
   "outputs": [
    {
     "data": {
      "text/plain": [
       "[{'generated_text': 'question: What is the answer to life, the universe and everything else?'}]"
      ]
     },
     "execution_count": 18,
     "metadata": {},
     "output_type": "execute_result"
    }
   ],
   "source": [
    "generator(\"question: What is 42 ? context: 42 is the answer to life, the universe and everything\")"
   ]
  },
  {
   "cell_type": "markdown",
   "id": "71e1ff0c-6f93-4ab4-a1d3-fce4e28515d1",
   "metadata": {},
   "source": [
    "#### Code generation"
   ]
  },
  {
   "cell_type": "code",
   "execution_count": 19,
   "id": "89cd77d7-32f0-457c-b297-2858e71d9ccf",
   "metadata": {},
   "outputs": [
    {
     "data": {
      "text/plain": [
       "[{'generated_text': '{user.username} {user.password} {user.email} {user'}]"
      ]
     },
     "execution_count": 19,
     "metadata": {},
     "output_type": "execute_result"
    }
   ],
   "source": [
    "generator = pipeline('text2text-generation', model=\"Salesforce/codet5-base\")\n",
    "generator(\"\"\"def greet(user): print(f'hello <extra_id_0>!')\"\"\")"
   ]
  },
  {
   "cell_type": "code",
   "execution_count": 20,
   "id": "83f03c3c-2681-4dbf-8f7d-62d8b1db1b52",
   "metadata": {},
   "outputs": [
    {
     "data": {
      "text/plain": [
       "[{'generated_text': 'function add2Numbers ( ) {'}]"
      ]
     },
     "execution_count": 20,
     "metadata": {},
     "output_type": "execute_result"
    }
   ],
   "source": [
    "generator(\"\"\"## a function that adds 2 numbers\\n\"\"\")"
   ]
  },
  {
   "cell_type": "code",
   "execution_count": 21,
   "id": "eb006328-e79f-42b9-996f-17f44c81dfab",
   "metadata": {},
   "outputs": [
    {
     "name": "stderr",
     "output_type": "stream",
     "text": [
      "Setting `pad_token_id` to `eos_token_id`:50256 for open-end generation.\n",
      "/home/kiddos/.local/lib/python3.8/site-packages/transformers/generation/utils.py:1387: UserWarning: Neither `max_length` nor `max_new_tokens` has been set, `max_length` will default to 50 (`self.config.max_length`). Controlling `max_length` via the config is deprecated and `max_length` will be removed from the config in v5 of Transformers -- we recommend using `max_new_tokens` to control the maximum length of the generation.\n",
      "  warnings.warn(\n",
      "/home/kiddos/.local/lib/python3.8/site-packages/transformers/models/codegen/modeling_codegen.py:167: UserWarning: where received a uint8 condition tensor. This behavior is deprecated and will be removed in a future version of PyTorch. Use a boolean condition instead. (Triggered internally at ../aten/src/ATen/native/TensorCompare.cpp:413.)\n",
      "  attn_weights = torch.where(causal_mask, attn_weights, mask_value)\n"
     ]
    },
    {
     "data": {
      "text/plain": [
       "[{'generated_text': 'def hello_world():\\r\\n    return \\'Hello World\\'\\r\\n\\r\\nprint(hello_world())\\r\\n\\r\\n\"\"\"In order to make a variable use __getitem__ we need to define the item as an attribute of the'}]"
      ]
     },
     "execution_count": 21,
     "metadata": {},
     "output_type": "execute_result"
    }
   ],
   "source": [
    "generator = pipeline(model='Salesforce/codegen-350M-mono')\n",
    "generator(\"\"\"def hello_world():\"\"\")"
   ]
  },
  {
   "cell_type": "code",
   "execution_count": 22,
   "id": "976351c0-60b3-4fda-8f15-c700739586e8",
   "metadata": {},
   "outputs": [
    {
     "name": "stderr",
     "output_type": "stream",
     "text": [
      "Setting `pad_token_id` to `eos_token_id`:50256 for open-end generation.\n"
     ]
    },
    {
     "data": {
      "text/plain": [
       "[{'generated_text': 'void add(int a, int b) {\\n        int d = a + b;\\n        if(d < 0) {\\n            while( a % b!= 0 ) {\\n                a = a;\\n                b = b'}]"
      ]
     },
     "execution_count": 22,
     "metadata": {},
     "output_type": "execute_result"
    }
   ],
   "source": [
    "generator = pipeline(model='Salesforce/codegen-2B-multi')\n",
    "generator(\"\"\"void add(int a, int b) {\\n\"\"\")"
   ]
  },
  {
   "cell_type": "code",
   "execution_count": 23,
   "id": "246e6c57-d5cd-4dcf-89c0-887458a19b72",
   "metadata": {},
   "outputs": [
    {
     "name": "stderr",
     "output_type": "stream",
     "text": [
      "Setting `pad_token_id` to `eos_token_id`:50256 for open-end generation.\n"
     ]
    },
    {
     "data": {
      "text/plain": [
       "[{'generated_text': '## a function that add 2 numbers\\n\\n    def change(self, i):\\n        return 2 * self.value_t.value_i[i]\\n\\n    #.........................................................................\\n    # Functions that allow to perform operations like addition'}]"
      ]
     },
     "execution_count": 23,
     "metadata": {},
     "output_type": "execute_result"
    }
   ],
   "source": [
    "generator(\"\"\"## a function that add 2 numbers\"\"\")"
   ]
  },
  {
   "cell_type": "markdown",
   "id": "eb1f2b87-c773-4278-a75e-afc7b0cbeabe",
   "metadata": {},
   "source": [
    "## Token classification"
   ]
  },
  {
   "cell_type": "code",
   "execution_count": 24,
   "id": "f508c39f-65a0-4ea4-a269-b22decb9bf19",
   "metadata": {},
   "outputs": [
    {
     "name": "stderr",
     "output_type": "stream",
     "text": [
      "No model was supplied, defaulted to dbmdz/bert-large-cased-finetuned-conll03-english and revision f2482bf (https://huggingface.co/dbmdz/bert-large-cased-finetuned-conll03-english).\n",
      "Using a pipeline without specifying a model name and revision in production is not recommended.\n"
     ]
    },
    {
     "data": {
      "text/plain": [
       "[{'entity': 'I-PER',\n",
       "  'score': 0.99938285,\n",
       "  'index': 4,\n",
       "  'word': 'S',\n",
       "  'start': 11,\n",
       "  'end': 12},\n",
       " {'entity': 'I-PER',\n",
       "  'score': 0.99815494,\n",
       "  'index': 5,\n",
       "  'word': '##yl',\n",
       "  'start': 12,\n",
       "  'end': 14},\n",
       " {'entity': 'I-PER',\n",
       "  'score': 0.9959072,\n",
       "  'index': 6,\n",
       "  'word': '##va',\n",
       "  'start': 14,\n",
       "  'end': 16},\n",
       " {'entity': 'I-PER',\n",
       "  'score': 0.99923277,\n",
       "  'index': 7,\n",
       "  'word': '##in',\n",
       "  'start': 16,\n",
       "  'end': 18},\n",
       " {'entity': 'I-ORG',\n",
       "  'score': 0.9738931,\n",
       "  'index': 12,\n",
       "  'word': 'Hu',\n",
       "  'start': 33,\n",
       "  'end': 35},\n",
       " {'entity': 'I-ORG',\n",
       "  'score': 0.976115,\n",
       "  'index': 13,\n",
       "  'word': '##gging',\n",
       "  'start': 35,\n",
       "  'end': 40},\n",
       " {'entity': 'I-ORG',\n",
       "  'score': 0.9887976,\n",
       "  'index': 14,\n",
       "  'word': 'Face',\n",
       "  'start': 41,\n",
       "  'end': 45},\n",
       " {'entity': 'I-LOC',\n",
       "  'score': 0.9932106,\n",
       "  'index': 16,\n",
       "  'word': 'Brooklyn',\n",
       "  'start': 49,\n",
       "  'end': 57}]"
      ]
     },
     "execution_count": 24,
     "metadata": {},
     "output_type": "execute_result"
    }
   ],
   "source": [
    "token_classifier = pipeline('token-classification')\n",
    "token_classifier('My name is Sylvain and I work at Hugging Face in Brooklyn.')"
   ]
  },
  {
   "cell_type": "markdown",
   "id": "eadeedaf-21d0-4f75-8d7b-918f21718f70",
   "metadata": {},
   "source": [
    "## Question Answering"
   ]
  },
  {
   "cell_type": "code",
   "execution_count": 25,
   "id": "8522ce10-34f7-4a0b-a9ba-5e6a85d317ea",
   "metadata": {},
   "outputs": [
    {
     "name": "stderr",
     "output_type": "stream",
     "text": [
      "No model was supplied, defaulted to distilbert-base-cased-distilled-squad and revision 626af31 (https://huggingface.co/distilbert-base-cased-distilled-squad).\n",
      "Using a pipeline without specifying a model name and revision in production is not recommended.\n"
     ]
    },
    {
     "data": {
      "text/plain": [
       "{'score': 0.6949766278266907, 'start': 33, 'end': 45, 'answer': 'Hugging Face'}"
      ]
     },
     "execution_count": 25,
     "metadata": {},
     "output_type": "execute_result"
    }
   ],
   "source": [
    "question_answerer = pipeline(\"question-answering\")\n",
    "question_answerer(\n",
    "    question=\"Where do I work?\",\n",
    "    context=\"My name is Sylvain and I work at Hugging Face in Brooklyn\",\n",
    ")"
   ]
  },
  {
   "cell_type": "markdown",
   "id": "8cc89475-2028-4dcb-9402-b749377bebc3",
   "metadata": {},
   "source": [
    "## Mask filling"
   ]
  },
  {
   "cell_type": "code",
   "execution_count": 26,
   "id": "80c199e4-9ab4-4710-a7ea-65537d5c7504",
   "metadata": {},
   "outputs": [
    {
     "name": "stderr",
     "output_type": "stream",
     "text": [
      "No model was supplied, defaulted to distilroberta-base and revision ec58a5b (https://huggingface.co/distilroberta-base).\n",
      "Using a pipeline without specifying a model name and revision in production is not recommended.\n"
     ]
    },
    {
     "data": {
      "text/plain": [
       "[{'score': 0.19619810581207275,\n",
       "  'token': 30412,\n",
       "  'token_str': ' mathematical',\n",
       "  'sequence': 'This course will teach you all about mathematical models.'},\n",
       " {'score': 0.04052736610174179,\n",
       "  'token': 38163,\n",
       "  'token_str': ' computational',\n",
       "  'sequence': 'This course will teach you all about computational models.'}]"
      ]
     },
     "execution_count": 26,
     "metadata": {},
     "output_type": "execute_result"
    }
   ],
   "source": [
    "unmasker = pipeline(\"fill-mask\")\n",
    "unmasker(\"This course will teach you all about <mask> models.\", top_k=2)"
   ]
  },
  {
   "cell_type": "markdown",
   "id": "5ca65531-5182-46c0-9059-6ef050c6cf62",
   "metadata": {},
   "source": [
    "## Summarization"
   ]
  },
  {
   "cell_type": "code",
   "execution_count": 27,
   "id": "62e56084-2bea-477c-a23d-5ef0a3e91378",
   "metadata": {},
   "outputs": [
    {
     "name": "stderr",
     "output_type": "stream",
     "text": [
      "No model was supplied, defaulted to sshleifer/distilbart-cnn-12-6 and revision a4f8f3e (https://huggingface.co/sshleifer/distilbart-cnn-12-6).\n",
      "Using a pipeline without specifying a model name and revision in production is not recommended.\n"
     ]
    },
    {
     "data": {
      "text/plain": [
       "[{'summary_text': ' America has changed dramatically during recent years . The number of engineering graduates in the U.S. has declined in traditional engineering disciplines such as mechanical, civil,    electrical, chemical, and aeronautical engineering . Rapidly developing economies such as China and India continue to encourage and advance the teaching of engineering .'}]"
      ]
     },
     "execution_count": 27,
     "metadata": {},
     "output_type": "execute_result"
    }
   ],
   "source": [
    "summarizer = pipeline('summarization')\n",
    "summarizer(\n",
    "    \"\"\"\n",
    "    America has changed dramatically during recent years. Not only has the number of \n",
    "    graduates in traditional engineering disciplines such as mechanical, civil, \n",
    "    electrical, chemical, and aeronautical engineering declined, but in most of \n",
    "    the premier American universities engineering curricula now concentrate on \n",
    "    and encourage largely the study of engineering science. As a result, there \n",
    "    are declining offerings in engineering subjects dealing with infrastructure, \n",
    "    the environment, and related issues, and greater concentration on high \n",
    "    technology subjects, largely supporting increasingly complex scientific \n",
    "    developments. While the latter is important, it should not be at the expense \n",
    "    of more traditional engineering.\n",
    "\n",
    "    Rapidly developing economies such as China and India, as well as other \n",
    "    industrial countries in Europe and Asia, continue to encourage and advance \n",
    "    the teaching of engineering. Both China and India, respectively, graduate \n",
    "    six and eight times as many traditional engineers as does the United States. \n",
    "    Other industrial countries at minimum maintain their output, while America \n",
    "    suffers an increasingly serious decline in the number of engineering graduates \n",
    "    and a lack of well-educated engineers.\n",
    "\"\"\"\n",
    ")"
   ]
  },
  {
   "cell_type": "markdown",
   "id": "0877b64f-cc66-4355-b406-7feded44f64d",
   "metadata": {},
   "source": [
    "## Translation"
   ]
  },
  {
   "cell_type": "code",
   "execution_count": 28,
   "id": "b21e9d4d-3a3b-40d2-be36-3d6896065a3f",
   "metadata": {},
   "outputs": [
    {
     "data": {
      "text/plain": [
       "[{'translation_text': 'This course is produced by Hugging Face.'}]"
      ]
     },
     "execution_count": 28,
     "metadata": {},
     "output_type": "execute_result"
    }
   ],
   "source": [
    "translator = pipeline(\"translation\", model=\"Helsinki-NLP/opus-mt-fr-en\")\n",
    "translator(\"Ce cours est produit par Hugging Face.\")"
   ]
  },
  {
   "cell_type": "code",
   "execution_count": null,
   "id": "21f72267-63a8-4397-a474-87ee3f5558ef",
   "metadata": {},
   "outputs": [],
   "source": []
  }
 ],
 "metadata": {
  "kernelspec": {
   "display_name": "Python 3 (ipykernel)",
   "language": "python",
   "name": "python3"
  },
  "language_info": {
   "codemirror_mode": {
    "name": "ipython",
    "version": 3
   },
   "file_extension": ".py",
   "mimetype": "text/x-python",
   "name": "python",
   "nbconvert_exporter": "python",
   "pygments_lexer": "ipython3",
   "version": "3.8.10"
  }
 },
 "nbformat": 4,
 "nbformat_minor": 5
}
